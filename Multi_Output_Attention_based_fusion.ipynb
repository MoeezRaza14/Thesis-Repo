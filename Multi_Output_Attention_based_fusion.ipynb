{
  "nbformat": 4,
  "nbformat_minor": 0,
  "metadata": {
    "colab": {
      "provenance": []
    },
    "kernelspec": {
      "name": "python3",
      "display_name": "Python 3"
    },
    "language_info": {
      "name": "python"
    }
  },
  "cells": [
    {
      "cell_type": "code",
      "source": [
        "from google.colab import drive\n",
        "drive.mount('/content/drive')"
      ],
      "metadata": {
        "colab": {
          "base_uri": "https://localhost:8080/"
        },
        "id": "v4ujpr8GNIKG",
        "outputId": "650c7eac-db6a-4234-8269-3a2d887ede06"
      },
      "execution_count": null,
      "outputs": [
        {
          "output_type": "stream",
          "name": "stdout",
          "text": [
            "Drive already mounted at /content/drive; to attempt to forcibly remount, call drive.mount(\"/content/drive\", force_remount=True).\n"
          ]
        }
      ]
    },
    {
      "cell_type": "markdown",
      "source": [
        "# **Individual Model Predictions**"
      ],
      "metadata": {
        "id": "cznap8wHrZ5G"
      }
    },
    {
      "cell_type": "code",
      "source": [
        "import pandas as pd\n",
        "import numpy as np\n",
        "import tensorflow as tf\n",
        "from tensorflow.keras.models import load_model\n",
        "import chardet\n",
        "import sys\n",
        "from sklearn.metrics import accuracy_score\n",
        "\n",
        "# ---- CUSTOM SELF-ATTENTION LAYER ----\n",
        "from tensorflow.keras.layers import Layer\n",
        "import tensorflow.keras.backend as K\n",
        "import keras\n",
        "\n",
        "@keras.saving.register_keras_serializable()\n",
        "class SelfAttentionLayer(Layer):\n",
        "    def __init__(self, D_att, **kwargs):\n",
        "        super(SelfAttentionLayer, self).__init__(**kwargs)\n",
        "        self.D_att = D_att\n",
        "\n",
        "    def build(self, input_shape):\n",
        "        self.Q = self.add_weight(\n",
        "            name      = 'query_vector',\n",
        "            shape     = (1, self.D_att),\n",
        "            initializer = 'random_normal',\n",
        "            trainable = True\n",
        "        )\n",
        "        super(SelfAttentionLayer, self).build(input_shape)\n",
        "\n",
        "    def call(self, inputs):\n",
        "        batch_size      = tf.shape(inputs)[0]\n",
        "        sequence_length = tf.shape(inputs)[1]\n",
        "        Q_expanded      = tf.tile(self.Q, [batch_size, sequence_length, 1])\n",
        "        scores          = K.sum(Q_expanded * inputs, axis=-1)\n",
        "        weights         = tf.keras.activations.softmax(scores)\n",
        "        output          = K.sum(K.expand_dims(weights, -1) * inputs, axis=1)\n",
        "        return output\n",
        "\n",
        "    def compute_output_shape(self, input_shape):\n",
        "        return (input_shape[0], self.D_att)\n",
        "\n",
        "# ---- CONFIGURATION ----\n",
        "DATASET_PATH  = '/content/drive/MyDrive/Synthetic Data/Final Fused Data.csv'\n",
        "OUTPUT_PATH   = '/content/drive/MyDrive/Synthetic Data/Best Final Predictions.csv'\n",
        "MODEL1_PATH   = '/content/drive/MyDrive/Thesis Models/mdd_lstm.h5'\n",
        "MODEL2_PATH   = '/content/drive/MyDrive/Thesis Models/lstm_stress_dryad_model.h5'\n",
        "MODEL3_PATH   = '/content/drive/MyDrive/Thesis Models/rnn_model.h5'\n",
        "\n",
        "# Actual-label columns\n",
        "ACTUAL_LABEL_COLS = {\n",
        "    'mdd':    'Actual_mdd',\n",
        "    'stress': 'Actual_Stress',\n",
        "    'sphere': 'predicted_labels'\n",
        "}\n",
        "\n",
        "# 0-based start columns\n",
        "MODEL_START_COLS = {\n",
        "    'mdd':     0,\n",
        "    'stress':  120,\n",
        "    'sphere':  600\n",
        "}\n",
        "\n",
        "# (timesteps, features) for each\n",
        "MODEL_SHAPES = {\n",
        "    'mdd':     (30, 4),    # 120 cols\n",
        "    'stress':  (10, 48),   # 480 cols\n",
        "    'sphere':  (20, 23)    # 460 cols\n",
        "}\n",
        "\n",
        "# ---- 1. LOAD DATA ----\n",
        "print(f\"Reading dataset from {DATASET_PATH}...\")\n",
        "for enc in ('utf-8', 'utf-8-sig', 'latin1'):\n",
        "    try:\n",
        "        df = pd.read_csv(DATASET_PATH, encoding=enc)\n",
        "        print(f\"→ loaded with encoding={enc!r}, shape={df.shape}\")\n",
        "        break\n",
        "    except Exception:\n",
        "        continue\n",
        "else:\n",
        "    sys.exit(\"ERROR: Could not read CSV with utf-8 / utf-8-sig / latin1\")\n",
        "\n",
        "# ---- 2. LOAD MODELS ----\n",
        "print(\"\\nLoading models...\")\n",
        "try:\n",
        "    model1 = load_model(MODEL1_PATH, custom_objects={'SelfAttentionLayer': SelfAttentionLayer})\n",
        "    print(\"→ Model 1 loaded\")\n",
        "    model2 = load_model(MODEL2_PATH, custom_objects={'SelfAttentionLayer': SelfAttentionLayer})\n",
        "    print(\"→ Model 2 loaded\")\n",
        "    model3 = load_model(MODEL3_PATH, custom_objects={'SelfAttentionLayer': SelfAttentionLayer})\n",
        "    print(\"→ Model 3 loaded\")\n",
        "except Exception as e:\n",
        "    sys.exit(f\"ERROR loading models: {e}\")\n",
        "\n",
        "# ---- 3. PREDICT & ACCURACY ----\n",
        "out = df.copy()\n",
        "accuracies = {}\n",
        "\n",
        "for name, model in [('mdd', model1), ('stress', model2), ('sphere', model3)]:\n",
        "    ts, features = MODEL_SHAPES[name]\n",
        "    flat_size = ts * features\n",
        "    start = MODEL_START_COLS[name]\n",
        "    actual_cols = flat_size  # Use full column set for all models\n",
        "    end_actual = start + actual_cols\n",
        "\n",
        "    print(f\"\\n→ Preparing inputs for '{name}' (using {flat_size} cols)\")\n",
        "\n",
        "    # Extract the full set of columns\n",
        "    raw_actual = df.iloc[:, start:end_actual].values\n",
        "    if raw_actual.shape[1] != flat_size:\n",
        "        sys.exit(f\"ERROR: '{name}' expected {flat_size} cols but got {raw_actual.shape[1]}\")\n",
        "\n",
        "    # Reshape to (n_samples, timesteps, features)\n",
        "    X = raw_actual.reshape(-1, ts, features)\n",
        "    print(f\"   • reshaped to {X.shape}\")\n",
        "\n",
        "    # Predict\n",
        "    preds = model.predict(X, batch_size=32, verbose=1)\n",
        "    # To class indices if softmax\n",
        "    if preds.ndim == 2 and preds.shape[1] > 1:\n",
        "        labels = np.argmax(preds, axis=1)\n",
        "    else:\n",
        "        labels = preds.flatten().astype(int)\n",
        "\n",
        "    # Remap '2'→'1' for stress\n",
        "    if name == 'stress':\n",
        "        labels = np.where(labels == 2, 1, labels)\n",
        "        print(\"   • remapped stress ‘2’→’1’\")\n",
        "\n",
        "    # Attach to DataFrame\n",
        "    col_pred = {\n",
        "        'mdd':    'Predicted_mdd',\n",
        "        'stress': 'Predicted_Stress',\n",
        "        'sphere': 'SPHERE Labels'\n",
        "    }[name]\n",
        "    out[col_pred] = labels\n",
        "\n",
        "    # Accuracy\n",
        "    actual_col = ACTUAL_LABEL_COLS[name]\n",
        "    if actual_col in df:\n",
        "        acc = accuracy_score(df[actual_col], labels)\n",
        "        accuracies[name] = acc\n",
        "        print(f\"   • {name} accuracy: {acc:.4%}\")\n",
        "    else:\n",
        "        accuracies[name] = None\n",
        "        print(f\"   • no '{actual_col}' column; skipped accuracy\")\n",
        "\n",
        "# ---- 4. SAVE & REPORT ----\n",
        "out.to_csv(OUTPUT_PATH, index=False)\n",
        "\n",
        "# ---- 4. SAVE & REPORT ----\n",
        "\n",
        "# ⬇️ **SAVE ALL PREDICTIONS** ⬇️\n",
        "out.to_csv(OUTPUT_PATH, index=False)\n",
        "print(f\"✅ All model predictions saved to: {OUTPUT_PATH}\")\n",
        "\n",
        "# (Optional) print out the first few rows of predictions\n",
        "print(out[['Predicted_mdd', 'Predicted_Stress', 'SPHERE Labels']].head())"
      ],
      "metadata": {
        "colab": {
          "base_uri": "https://localhost:8080/"
        },
        "id": "xIFrJy1oqoc3",
        "outputId": "1055b8b6-52d3-4f4c-9d5e-f595f1c9fa2d"
      },
      "execution_count": 35,
      "outputs": [
        {
          "output_type": "stream",
          "name": "stdout",
          "text": [
            "Reading dataset from /content/drive/MyDrive/Synthetic Data/Final Fused Data.csv...\n"
          ]
        },
        {
          "output_type": "stream",
          "name": "stderr",
          "text": [
            "WARNING:absl:Compiled the loaded model, but the compiled metrics have yet to be built. `model.compile_metrics` will be empty until you train or evaluate the model.\n"
          ]
        },
        {
          "output_type": "stream",
          "name": "stdout",
          "text": [
            "→ loaded with encoding='utf-8', shape=(6897, 1065)\n",
            "\n",
            "Loading models...\n",
            "→ Model 1 loaded\n"
          ]
        },
        {
          "output_type": "stream",
          "name": "stderr",
          "text": [
            "WARNING:absl:Compiled the loaded model, but the compiled metrics have yet to be built. `model.compile_metrics` will be empty until you train or evaluate the model.\n",
            "WARNING:absl:Compiled the loaded model, but the compiled metrics have yet to be built. `model.compile_metrics` will be empty until you train or evaluate the model.\n"
          ]
        },
        {
          "output_type": "stream",
          "name": "stdout",
          "text": [
            "→ Model 2 loaded\n",
            "→ Model 3 loaded\n",
            "\n",
            "→ Preparing inputs for 'mdd' (using 120 cols)\n",
            "   • reshaped to (6897, 30, 4)\n",
            "\u001b[1m216/216\u001b[0m \u001b[32m━━━━━━━━━━━━━━━━━━━━\u001b[0m\u001b[37m\u001b[0m \u001b[1m3s\u001b[0m 11ms/step\n",
            "   • mdd accuracy: 90.8946%\n",
            "\n",
            "→ Preparing inputs for 'stress' (using 480 cols)\n",
            "   • reshaped to (6897, 10, 48)\n",
            "\u001b[1m216/216\u001b[0m \u001b[32m━━━━━━━━━━━━━━━━━━━━\u001b[0m\u001b[37m\u001b[0m \u001b[1m1s\u001b[0m 5ms/step\n",
            "   • remapped stress ‘2’→’1’\n",
            "   • stress accuracy: 55.2414%\n",
            "\n",
            "→ Preparing inputs for 'sphere' (using 460 cols)\n",
            "   • reshaped to (6897, 20, 23)\n",
            "\u001b[1m216/216\u001b[0m \u001b[32m━━━━━━━━━━━━━━━━━━━━\u001b[0m\u001b[37m\u001b[0m \u001b[1m3s\u001b[0m 15ms/step\n",
            "   • sphere accuracy: 89.3577%\n",
            "✅ All model predictions saved to: /content/drive/MyDrive/Synthetic Data/Best Final Predictions.csv\n",
            "   Predicted_mdd  Predicted_Stress  SPHERE Labels\n",
            "0              1                 1              8\n",
            "1              1                 1              8\n",
            "2              1                 1             10\n",
            "3              1                 1             10\n",
            "4              1                 1              8\n"
          ]
        }
      ]
    },
    {
      "cell_type": "markdown",
      "source": [
        "# **Simple Attention Fusion**"
      ],
      "metadata": {
        "id": "XEFOLRFKxZdm"
      }
    },
    {
      "cell_type": "code",
      "source": [
        "import pandas as pd\n",
        "import numpy as np\n",
        "import tensorflow as tf\n",
        "from tensorflow.keras.models import Model\n",
        "from tensorflow.keras.layers import Input, Dense, Softmax, Multiply, Lambda\n",
        "import tensorflow.keras.backend as K\n",
        "from sklearn.model_selection import train_test_split\n",
        "from tensorflow.keras.utils import to_categorical\n",
        "\n",
        "# ---- 1. LOAD CSV ----\n",
        "df = pd.read_csv('/content/drive/MyDrive/Synthetic Data/Best Final Predictions.csv')\n",
        "\n",
        "# ---- 2. EXTRACT & ONE‑HOT ENCODE EACH PREDICTION SERIES ----\n",
        "m1 = df['Predicted_mdd'].astype(int).values\n",
        "m2 = df['Predicted_Stress'].astype(int).values\n",
        "m3 = df['SPHERE Labels'].astype(int).values\n",
        "\n",
        "# Compute number of classes as the max label+1 across all three\n",
        "n_classes = max(m1.max(), m2.max(), m3.max()) + 1\n",
        "\n",
        "P1 = to_categorical(m1, num_classes=n_classes)   # shape (N, C)\n",
        "P2 = to_categorical(m2, num_classes=n_classes)   # shape (N, C)\n",
        "P3 = to_categorical(m3, num_classes=n_classes)   # shape (N, C)\n",
        "\n",
        "# ---- 3. STACK INTO META‑INPUT ----\n",
        "# axis=1 will give shape (N, 3, C)\n",
        "X_meta = np.stack([P1, P2, P3], axis=1)\n",
        "\n",
        "# If you have a separate ground‑truth column, say `Final_Truth`, load and one‑hot that too:\n",
        "y = df['predicted_labels'].astype(int).values\n",
        "y_meta = to_categorical(y, num_classes=n_classes)\n",
        "\n",
        "# ---- 4. SPLIT TRAIN/VAL ----\n",
        "X_tr, X_val, y_tr, y_val = train_test_split(\n",
        "    X_meta, y_meta, test_size=0.2, random_state=42, stratify=y\n",
        ")\n",
        "\n",
        "# ---- 5. BUILD ATTENTION‑FUSION MODEL ----\n",
        "inp = Input(shape=(3, n_classes), name='meta_input')\n",
        "# score each slot → (None,3,1)\n",
        "scores = Dense(1, name='att_score')(inp)\n",
        "# squeeze out the last dim → (None,3)\n",
        "scores = Lambda(lambda x: K.squeeze(x, -1), name='att_squeeze')(scores)\n",
        "# normalize across the 3 models → (None,3)\n",
        "weights = Softmax(axis=1, name='att_softmax')(scores)\n",
        "# expand back → (None,3,1)\n",
        "weights_exp = Lambda(lambda x: K.expand_dims(x, -1), name='att_expand')(weights)\n",
        "# weight the prob vectors → (None,3,C)\n",
        "weighted = Multiply(name='att_mul')([inp, weights_exp])\n",
        "\n",
        "# sum across the 3 models → (None,C)\n",
        "fused_vec = Lambda(\n",
        "    lambda x: K.sum(x, axis=1),\n",
        "    output_shape=lambda input_shape: (input_shape[0], input_shape[2]),\n",
        "    name='att_fused'\n",
        ")(weighted)\n",
        "\n",
        "# optional final Dense for refined softmax\n",
        "out = Dense(n_classes, activation='softmax', name='final_softmax')(fused_vec)\n",
        "\n",
        "fusion_model = Model(inputs=inp, outputs=out, name='attention_fusion')\n",
        "fusion_model.compile(\n",
        "    optimizer='adam',\n",
        "    loss='categorical_crossentropy',\n",
        "    metrics=['accuracy']\n",
        ")\n",
        "fusion_model.summary()\n",
        "\n",
        "# ---- 6. TRAIN ----\n",
        "fusion_model.fit(\n",
        "    X_tr, y_tr,\n",
        "    validation_data=(X_val, y_val),\n",
        "    epochs=30,\n",
        "    batch_size=16,\n",
        "    callbacks=[tf.keras.callbacks.EarlyStopping(patience=2, restore_best_weights=True)]\n",
        ")\n",
        "\n",
        "# ---- 7. SAVE ----\n",
        "fusion_model.save('/content/attention_fusion_from_preds.h5')\n",
        "print(\"Saved fused attention‐model to disk.\")"
      ],
      "metadata": {
        "colab": {
          "base_uri": "https://localhost:8080/",
          "height": 1000
        },
        "id": "VYTL1s3orb-O",
        "outputId": "4548a708-2f4c-4b27-e26e-d39076fcaed9"
      },
      "execution_count": 64,
      "outputs": [
        {
          "output_type": "display_data",
          "data": {
            "text/plain": [
              "\u001b[1mModel: \"attention_fusion\"\u001b[0m\n"
            ],
            "text/html": [
              "<pre style=\"white-space:pre;overflow-x:auto;line-height:normal;font-family:Menlo,'DejaVu Sans Mono',consolas,'Courier New',monospace\"><span style=\"font-weight: bold\">Model: \"attention_fusion\"</span>\n",
              "</pre>\n"
            ]
          },
          "metadata": {}
        },
        {
          "output_type": "display_data",
          "data": {
            "text/plain": [
              "┏━━━━━━━━━━━━━━━━━━━━━┳━━━━━━━━━━━━━━━━━━━┳━━━━━━━━━━━━┳━━━━━━━━━━━━━━━━━━━┓\n",
              "┃\u001b[1m \u001b[0m\u001b[1mLayer (type)       \u001b[0m\u001b[1m \u001b[0m┃\u001b[1m \u001b[0m\u001b[1mOutput Shape     \u001b[0m\u001b[1m \u001b[0m┃\u001b[1m \u001b[0m\u001b[1m   Param #\u001b[0m\u001b[1m \u001b[0m┃\u001b[1m \u001b[0m\u001b[1mConnected to     \u001b[0m\u001b[1m \u001b[0m┃\n",
              "┡━━━━━━━━━━━━━━━━━━━━━╇━━━━━━━━━━━━━━━━━━━╇━━━━━━━━━━━━╇━━━━━━━━━━━━━━━━━━━┩\n",
              "│ meta_input          │ (\u001b[38;5;45mNone\u001b[0m, \u001b[38;5;34m3\u001b[0m, \u001b[38;5;34m20\u001b[0m)     │          \u001b[38;5;34m0\u001b[0m │ -                 │\n",
              "│ (\u001b[38;5;33mInputLayer\u001b[0m)        │                   │            │                   │\n",
              "├─────────────────────┼───────────────────┼────────────┼───────────────────┤\n",
              "│ att_score (\u001b[38;5;33mDense\u001b[0m)   │ (\u001b[38;5;45mNone\u001b[0m, \u001b[38;5;34m3\u001b[0m, \u001b[38;5;34m1\u001b[0m)      │         \u001b[38;5;34m21\u001b[0m │ meta_input[\u001b[38;5;34m0\u001b[0m][\u001b[38;5;34m0\u001b[0m]  │\n",
              "├─────────────────────┼───────────────────┼────────────┼───────────────────┤\n",
              "│ att_squeeze         │ (\u001b[38;5;45mNone\u001b[0m, \u001b[38;5;34m3\u001b[0m)         │          \u001b[38;5;34m0\u001b[0m │ att_score[\u001b[38;5;34m0\u001b[0m][\u001b[38;5;34m0\u001b[0m]   │\n",
              "│ (\u001b[38;5;33mLambda\u001b[0m)            │                   │            │                   │\n",
              "├─────────────────────┼───────────────────┼────────────┼───────────────────┤\n",
              "│ att_softmax         │ (\u001b[38;5;45mNone\u001b[0m, \u001b[38;5;34m3\u001b[0m)         │          \u001b[38;5;34m0\u001b[0m │ att_squeeze[\u001b[38;5;34m0\u001b[0m][\u001b[38;5;34m0\u001b[0m] │\n",
              "│ (\u001b[38;5;33mSoftmax\u001b[0m)           │                   │            │                   │\n",
              "├─────────────────────┼───────────────────┼────────────┼───────────────────┤\n",
              "│ att_expand (\u001b[38;5;33mLambda\u001b[0m) │ (\u001b[38;5;45mNone\u001b[0m, \u001b[38;5;34m3\u001b[0m, \u001b[38;5;34m1\u001b[0m)      │          \u001b[38;5;34m0\u001b[0m │ att_softmax[\u001b[38;5;34m0\u001b[0m][\u001b[38;5;34m0\u001b[0m] │\n",
              "├─────────────────────┼───────────────────┼────────────┼───────────────────┤\n",
              "│ att_mul (\u001b[38;5;33mMultiply\u001b[0m)  │ (\u001b[38;5;45mNone\u001b[0m, \u001b[38;5;34m3\u001b[0m, \u001b[38;5;34m20\u001b[0m)     │          \u001b[38;5;34m0\u001b[0m │ meta_input[\u001b[38;5;34m0\u001b[0m][\u001b[38;5;34m0\u001b[0m], │\n",
              "│                     │                   │            │ att_expand[\u001b[38;5;34m0\u001b[0m][\u001b[38;5;34m0\u001b[0m]  │\n",
              "├─────────────────────┼───────────────────┼────────────┼───────────────────┤\n",
              "│ att_fused (\u001b[38;5;33mLambda\u001b[0m)  │ (\u001b[38;5;45mNone\u001b[0m, \u001b[38;5;34m20\u001b[0m)        │          \u001b[38;5;34m0\u001b[0m │ att_mul[\u001b[38;5;34m0\u001b[0m][\u001b[38;5;34m0\u001b[0m]     │\n",
              "├─────────────────────┼───────────────────┼────────────┼───────────────────┤\n",
              "│ final_softmax       │ (\u001b[38;5;45mNone\u001b[0m, \u001b[38;5;34m20\u001b[0m)        │        \u001b[38;5;34m420\u001b[0m │ att_fused[\u001b[38;5;34m0\u001b[0m][\u001b[38;5;34m0\u001b[0m]   │\n",
              "│ (\u001b[38;5;33mDense\u001b[0m)             │                   │            │                   │\n",
              "└─────────────────────┴───────────────────┴────────────┴───────────────────┘\n"
            ],
            "text/html": [
              "<pre style=\"white-space:pre;overflow-x:auto;line-height:normal;font-family:Menlo,'DejaVu Sans Mono',consolas,'Courier New',monospace\">┏━━━━━━━━━━━━━━━━━━━━━┳━━━━━━━━━━━━━━━━━━━┳━━━━━━━━━━━━┳━━━━━━━━━━━━━━━━━━━┓\n",
              "┃<span style=\"font-weight: bold\"> Layer (type)        </span>┃<span style=\"font-weight: bold\"> Output Shape      </span>┃<span style=\"font-weight: bold\">    Param # </span>┃<span style=\"font-weight: bold\"> Connected to      </span>┃\n",
              "┡━━━━━━━━━━━━━━━━━━━━━╇━━━━━━━━━━━━━━━━━━━╇━━━━━━━━━━━━╇━━━━━━━━━━━━━━━━━━━┩\n",
              "│ meta_input          │ (<span style=\"color: #00d7ff; text-decoration-color: #00d7ff\">None</span>, <span style=\"color: #00af00; text-decoration-color: #00af00\">3</span>, <span style=\"color: #00af00; text-decoration-color: #00af00\">20</span>)     │          <span style=\"color: #00af00; text-decoration-color: #00af00\">0</span> │ -                 │\n",
              "│ (<span style=\"color: #0087ff; text-decoration-color: #0087ff\">InputLayer</span>)        │                   │            │                   │\n",
              "├─────────────────────┼───────────────────┼────────────┼───────────────────┤\n",
              "│ att_score (<span style=\"color: #0087ff; text-decoration-color: #0087ff\">Dense</span>)   │ (<span style=\"color: #00d7ff; text-decoration-color: #00d7ff\">None</span>, <span style=\"color: #00af00; text-decoration-color: #00af00\">3</span>, <span style=\"color: #00af00; text-decoration-color: #00af00\">1</span>)      │         <span style=\"color: #00af00; text-decoration-color: #00af00\">21</span> │ meta_input[<span style=\"color: #00af00; text-decoration-color: #00af00\">0</span>][<span style=\"color: #00af00; text-decoration-color: #00af00\">0</span>]  │\n",
              "├─────────────────────┼───────────────────┼────────────┼───────────────────┤\n",
              "│ att_squeeze         │ (<span style=\"color: #00d7ff; text-decoration-color: #00d7ff\">None</span>, <span style=\"color: #00af00; text-decoration-color: #00af00\">3</span>)         │          <span style=\"color: #00af00; text-decoration-color: #00af00\">0</span> │ att_score[<span style=\"color: #00af00; text-decoration-color: #00af00\">0</span>][<span style=\"color: #00af00; text-decoration-color: #00af00\">0</span>]   │\n",
              "│ (<span style=\"color: #0087ff; text-decoration-color: #0087ff\">Lambda</span>)            │                   │            │                   │\n",
              "├─────────────────────┼───────────────────┼────────────┼───────────────────┤\n",
              "│ att_softmax         │ (<span style=\"color: #00d7ff; text-decoration-color: #00d7ff\">None</span>, <span style=\"color: #00af00; text-decoration-color: #00af00\">3</span>)         │          <span style=\"color: #00af00; text-decoration-color: #00af00\">0</span> │ att_squeeze[<span style=\"color: #00af00; text-decoration-color: #00af00\">0</span>][<span style=\"color: #00af00; text-decoration-color: #00af00\">0</span>] │\n",
              "│ (<span style=\"color: #0087ff; text-decoration-color: #0087ff\">Softmax</span>)           │                   │            │                   │\n",
              "├─────────────────────┼───────────────────┼────────────┼───────────────────┤\n",
              "│ att_expand (<span style=\"color: #0087ff; text-decoration-color: #0087ff\">Lambda</span>) │ (<span style=\"color: #00d7ff; text-decoration-color: #00d7ff\">None</span>, <span style=\"color: #00af00; text-decoration-color: #00af00\">3</span>, <span style=\"color: #00af00; text-decoration-color: #00af00\">1</span>)      │          <span style=\"color: #00af00; text-decoration-color: #00af00\">0</span> │ att_softmax[<span style=\"color: #00af00; text-decoration-color: #00af00\">0</span>][<span style=\"color: #00af00; text-decoration-color: #00af00\">0</span>] │\n",
              "├─────────────────────┼───────────────────┼────────────┼───────────────────┤\n",
              "│ att_mul (<span style=\"color: #0087ff; text-decoration-color: #0087ff\">Multiply</span>)  │ (<span style=\"color: #00d7ff; text-decoration-color: #00d7ff\">None</span>, <span style=\"color: #00af00; text-decoration-color: #00af00\">3</span>, <span style=\"color: #00af00; text-decoration-color: #00af00\">20</span>)     │          <span style=\"color: #00af00; text-decoration-color: #00af00\">0</span> │ meta_input[<span style=\"color: #00af00; text-decoration-color: #00af00\">0</span>][<span style=\"color: #00af00; text-decoration-color: #00af00\">0</span>], │\n",
              "│                     │                   │            │ att_expand[<span style=\"color: #00af00; text-decoration-color: #00af00\">0</span>][<span style=\"color: #00af00; text-decoration-color: #00af00\">0</span>]  │\n",
              "├─────────────────────┼───────────────────┼────────────┼───────────────────┤\n",
              "│ att_fused (<span style=\"color: #0087ff; text-decoration-color: #0087ff\">Lambda</span>)  │ (<span style=\"color: #00d7ff; text-decoration-color: #00d7ff\">None</span>, <span style=\"color: #00af00; text-decoration-color: #00af00\">20</span>)        │          <span style=\"color: #00af00; text-decoration-color: #00af00\">0</span> │ att_mul[<span style=\"color: #00af00; text-decoration-color: #00af00\">0</span>][<span style=\"color: #00af00; text-decoration-color: #00af00\">0</span>]     │\n",
              "├─────────────────────┼───────────────────┼────────────┼───────────────────┤\n",
              "│ final_softmax       │ (<span style=\"color: #00d7ff; text-decoration-color: #00d7ff\">None</span>, <span style=\"color: #00af00; text-decoration-color: #00af00\">20</span>)        │        <span style=\"color: #00af00; text-decoration-color: #00af00\">420</span> │ att_fused[<span style=\"color: #00af00; text-decoration-color: #00af00\">0</span>][<span style=\"color: #00af00; text-decoration-color: #00af00\">0</span>]   │\n",
              "│ (<span style=\"color: #0087ff; text-decoration-color: #0087ff\">Dense</span>)             │                   │            │                   │\n",
              "└─────────────────────┴───────────────────┴────────────┴───────────────────┘\n",
              "</pre>\n"
            ]
          },
          "metadata": {}
        },
        {
          "output_type": "display_data",
          "data": {
            "text/plain": [
              "\u001b[1m Total params: \u001b[0m\u001b[38;5;34m441\u001b[0m (1.72 KB)\n"
            ],
            "text/html": [
              "<pre style=\"white-space:pre;overflow-x:auto;line-height:normal;font-family:Menlo,'DejaVu Sans Mono',consolas,'Courier New',monospace\"><span style=\"font-weight: bold\"> Total params: </span><span style=\"color: #00af00; text-decoration-color: #00af00\">441</span> (1.72 KB)\n",
              "</pre>\n"
            ]
          },
          "metadata": {}
        },
        {
          "output_type": "display_data",
          "data": {
            "text/plain": [
              "\u001b[1m Trainable params: \u001b[0m\u001b[38;5;34m441\u001b[0m (1.72 KB)\n"
            ],
            "text/html": [
              "<pre style=\"white-space:pre;overflow-x:auto;line-height:normal;font-family:Menlo,'DejaVu Sans Mono',consolas,'Courier New',monospace\"><span style=\"font-weight: bold\"> Trainable params: </span><span style=\"color: #00af00; text-decoration-color: #00af00\">441</span> (1.72 KB)\n",
              "</pre>\n"
            ]
          },
          "metadata": {}
        },
        {
          "output_type": "display_data",
          "data": {
            "text/plain": [
              "\u001b[1m Non-trainable params: \u001b[0m\u001b[38;5;34m0\u001b[0m (0.00 B)\n"
            ],
            "text/html": [
              "<pre style=\"white-space:pre;overflow-x:auto;line-height:normal;font-family:Menlo,'DejaVu Sans Mono',consolas,'Courier New',monospace\"><span style=\"font-weight: bold\"> Non-trainable params: </span><span style=\"color: #00af00; text-decoration-color: #00af00\">0</span> (0.00 B)\n",
              "</pre>\n"
            ]
          },
          "metadata": {}
        },
        {
          "output_type": "stream",
          "name": "stdout",
          "text": [
            "Epoch 1/30\n",
            "\u001b[1m345/345\u001b[0m \u001b[32m━━━━━━━━━━━━━━━━━━━━\u001b[0m\u001b[37m\u001b[0m \u001b[1m2s\u001b[0m 3ms/step - accuracy: 0.3003 - loss: 2.8178 - val_accuracy: 0.6775 - val_loss: 2.2948\n",
            "Epoch 2/30\n",
            "\u001b[1m345/345\u001b[0m \u001b[32m━━━━━━━━━━━━━━━━━━━━\u001b[0m\u001b[37m\u001b[0m \u001b[1m1s\u001b[0m 3ms/step - accuracy: 0.6980 - loss: 2.1391 - val_accuracy: 0.7500 - val_loss: 1.7064\n",
            "Epoch 3/30\n",
            "\u001b[1m345/345\u001b[0m \u001b[32m━━━━━━━━━━━━━━━━━━━━\u001b[0m\u001b[37m\u001b[0m \u001b[1m1s\u001b[0m 4ms/step - accuracy: 0.7519 - loss: 1.5854 - val_accuracy: 0.8152 - val_loss: 1.2262\n",
            "Epoch 4/30\n",
            "\u001b[1m345/345\u001b[0m \u001b[32m━━━━━━━━━━━━━━━━━━━━\u001b[0m\u001b[37m\u001b[0m \u001b[1m1s\u001b[0m 4ms/step - accuracy: 0.8150 - loss: 1.1466 - val_accuracy: 0.8341 - val_loss: 0.9653\n",
            "Epoch 5/30\n",
            "\u001b[1m345/345\u001b[0m \u001b[32m━━━━━━━━━━━━━━━━━━━━\u001b[0m\u001b[37m\u001b[0m \u001b[1m2s\u001b[0m 2ms/step - accuracy: 0.8395 - loss: 0.9221 - val_accuracy: 0.8442 - val_loss: 0.8338\n",
            "Epoch 6/30\n",
            "\u001b[1m345/345\u001b[0m \u001b[32m━━━━━━━━━━━━━━━━━━━━\u001b[0m\u001b[37m\u001b[0m \u001b[1m1s\u001b[0m 2ms/step - accuracy: 0.8480 - loss: 0.8098 - val_accuracy: 0.8442 - val_loss: 0.7587\n",
            "Epoch 7/30\n",
            "\u001b[1m345/345\u001b[0m \u001b[32m━━━━━━━━━━━━━━━━━━━━\u001b[0m\u001b[37m\u001b[0m \u001b[1m1s\u001b[0m 2ms/step - accuracy: 0.8510 - loss: 0.7303 - val_accuracy: 0.8435 - val_loss: 0.7102\n",
            "Epoch 8/30\n",
            "\u001b[1m345/345\u001b[0m \u001b[32m━━━━━━━━━━━━━━━━━━━━\u001b[0m\u001b[37m\u001b[0m \u001b[1m1s\u001b[0m 2ms/step - accuracy: 0.8515 - loss: 0.6871 - val_accuracy: 0.8435 - val_loss: 0.6758\n",
            "Epoch 9/30\n",
            "\u001b[1m345/345\u001b[0m \u001b[32m━━━━━━━━━━━━━━━━━━━━\u001b[0m\u001b[37m\u001b[0m \u001b[1m1s\u001b[0m 2ms/step - accuracy: 0.8610 - loss: 0.6379 - val_accuracy: 0.8594 - val_loss: 0.6494\n",
            "Epoch 10/30\n",
            "\u001b[1m345/345\u001b[0m \u001b[32m━━━━━━━━━━━━━━━━━━━━\u001b[0m\u001b[37m\u001b[0m \u001b[1m1s\u001b[0m 2ms/step - accuracy: 0.8610 - loss: 0.6579 - val_accuracy: 0.8594 - val_loss: 0.6282\n",
            "Epoch 11/30\n",
            "\u001b[1m345/345\u001b[0m \u001b[32m━━━━━━━━━━━━━━━━━━━━\u001b[0m\u001b[37m\u001b[0m \u001b[1m1s\u001b[0m 2ms/step - accuracy: 0.8635 - loss: 0.6181 - val_accuracy: 0.8594 - val_loss: 0.6107\n",
            "Epoch 12/30\n",
            "\u001b[1m345/345\u001b[0m \u001b[32m━━━━━━━━━━━━━━━━━━━━\u001b[0m\u001b[37m\u001b[0m \u001b[1m2s\u001b[0m 4ms/step - accuracy: 0.8727 - loss: 0.5914 - val_accuracy: 0.8761 - val_loss: 0.5959\n",
            "Epoch 13/30\n",
            "\u001b[1m345/345\u001b[0m \u001b[32m━━━━━━━━━━━━━━━━━━━━\u001b[0m\u001b[37m\u001b[0m \u001b[1m2s\u001b[0m 3ms/step - accuracy: 0.8869 - loss: 0.5605 - val_accuracy: 0.8783 - val_loss: 0.5830\n",
            "Epoch 14/30\n",
            "\u001b[1m345/345\u001b[0m \u001b[32m━━━━━━━━━━━━━━━━━━━━\u001b[0m\u001b[37m\u001b[0m \u001b[1m1s\u001b[0m 2ms/step - accuracy: 0.8822 - loss: 0.5697 - val_accuracy: 0.8826 - val_loss: 0.5717\n",
            "Epoch 15/30\n",
            "\u001b[1m345/345\u001b[0m \u001b[32m━━━━━━━━━━━━━━━━━━━━\u001b[0m\u001b[37m\u001b[0m \u001b[1m1s\u001b[0m 2ms/step - accuracy: 0.8863 - loss: 0.5703 - val_accuracy: 0.8870 - val_loss: 0.5617\n",
            "Epoch 16/30\n",
            "\u001b[1m345/345\u001b[0m \u001b[32m━━━━━━━━━━━━━━━━━━━━\u001b[0m\u001b[37m\u001b[0m \u001b[1m1s\u001b[0m 2ms/step - accuracy: 0.8889 - loss: 0.5505 - val_accuracy: 0.8891 - val_loss: 0.5528\n",
            "Epoch 17/30\n",
            "\u001b[1m345/345\u001b[0m \u001b[32m━━━━━━━━━━━━━━━━━━━━\u001b[0m\u001b[37m\u001b[0m \u001b[1m1s\u001b[0m 2ms/step - accuracy: 0.8936 - loss: 0.5283 - val_accuracy: 0.8891 - val_loss: 0.5450\n",
            "Epoch 18/30\n",
            "\u001b[1m345/345\u001b[0m \u001b[32m━━━━━━━━━━━━━━━━━━━━\u001b[0m\u001b[37m\u001b[0m \u001b[1m2s\u001b[0m 4ms/step - accuracy: 0.8947 - loss: 0.5140 - val_accuracy: 0.8891 - val_loss: 0.5377\n",
            "Epoch 19/30\n",
            "\u001b[1m345/345\u001b[0m \u001b[32m━━━━━━━━━━━━━━━━━━━━\u001b[0m\u001b[37m\u001b[0m \u001b[1m3s\u001b[0m 4ms/step - accuracy: 0.8866 - loss: 0.5386 - val_accuracy: 0.8891 - val_loss: 0.5313\n",
            "Epoch 20/30\n",
            "\u001b[1m345/345\u001b[0m \u001b[32m━━━━━━━━━━━━━━━━━━━━\u001b[0m\u001b[37m\u001b[0m \u001b[1m3s\u001b[0m 4ms/step - accuracy: 0.8877 - loss: 0.5376 - val_accuracy: 0.8913 - val_loss: 0.5255\n",
            "Epoch 21/30\n",
            "\u001b[1m345/345\u001b[0m \u001b[32m━━━━━━━━━━━━━━━━━━━━\u001b[0m\u001b[37m\u001b[0m \u001b[1m1s\u001b[0m 4ms/step - accuracy: 0.8873 - loss: 0.5398 - val_accuracy: 0.8913 - val_loss: 0.5203\n",
            "Epoch 22/30\n",
            "\u001b[1m345/345\u001b[0m \u001b[32m━━━━━━━━━━━━━━━━━━━━\u001b[0m\u001b[37m\u001b[0m \u001b[1m2s\u001b[0m 3ms/step - accuracy: 0.8929 - loss: 0.5182 - val_accuracy: 0.8964 - val_loss: 0.5157\n",
            "Epoch 23/30\n",
            "\u001b[1m345/345\u001b[0m \u001b[32m━━━━━━━━━━━━━━━━━━━━\u001b[0m\u001b[37m\u001b[0m \u001b[1m2s\u001b[0m 4ms/step - accuracy: 0.9057 - loss: 0.4716 - val_accuracy: 0.8964 - val_loss: 0.5114\n",
            "Epoch 24/30\n",
            "\u001b[1m345/345\u001b[0m \u001b[32m━━━━━━━━━━━━━━━━━━━━\u001b[0m\u001b[37m\u001b[0m \u001b[1m4s\u001b[0m 7ms/step - accuracy: 0.8947 - loss: 0.5081 - val_accuracy: 0.8964 - val_loss: 0.5076\n",
            "Epoch 25/30\n",
            "\u001b[1m345/345\u001b[0m \u001b[32m━━━━━━━━━━━━━━━━━━━━\u001b[0m\u001b[37m\u001b[0m \u001b[1m5s\u001b[0m 7ms/step - accuracy: 0.8988 - loss: 0.4986 - val_accuracy: 0.8971 - val_loss: 0.5041\n",
            "Epoch 26/30\n",
            "\u001b[1m345/345\u001b[0m \u001b[32m━━━━━━━━━━━━━━━━━━━━\u001b[0m\u001b[37m\u001b[0m \u001b[1m3s\u001b[0m 8ms/step - accuracy: 0.8967 - loss: 0.5033 - val_accuracy: 0.8971 - val_loss: 0.5011\n",
            "Epoch 27/30\n",
            "\u001b[1m345/345\u001b[0m \u001b[32m━━━━━━━━━━━━━━━━━━━━\u001b[0m\u001b[37m\u001b[0m \u001b[1m1s\u001b[0m 4ms/step - accuracy: 0.9028 - loss: 0.4738 - val_accuracy: 0.8971 - val_loss: 0.4984\n",
            "Epoch 28/30\n",
            "\u001b[1m345/345\u001b[0m \u001b[32m━━━━━━━━━━━━━━━━━━━━\u001b[0m\u001b[37m\u001b[0m \u001b[1m1s\u001b[0m 3ms/step - accuracy: 0.9014 - loss: 0.4791 - val_accuracy: 0.8993 - val_loss: 0.4960\n",
            "Epoch 29/30\n",
            "\u001b[1m345/345\u001b[0m \u001b[32m━━━━━━━━━━━━━━━━━━━━\u001b[0m\u001b[37m\u001b[0m \u001b[1m1s\u001b[0m 4ms/step - accuracy: 0.9003 - loss: 0.4873 - val_accuracy: 0.8993 - val_loss: 0.4939\n",
            "Epoch 30/30\n",
            "\u001b[1m345/345\u001b[0m \u001b[32m━━━━━━━━━━━━━━━━━━━━\u001b[0m\u001b[37m\u001b[0m \u001b[1m3s\u001b[0m 5ms/step - accuracy: 0.9020 - loss: 0.4722 - val_accuracy: 0.8993 - val_loss: 0.4920\n"
          ]
        },
        {
          "output_type": "stream",
          "name": "stderr",
          "text": [
            "WARNING:absl:You are saving your model as an HDF5 file via `model.save()` or `keras.saving.save_model(model)`. This file format is considered legacy. We recommend using instead the native Keras format, e.g. `model.save('my_model.keras')` or `keras.saving.save_model(model, 'my_model.keras')`. \n"
          ]
        },
        {
          "output_type": "stream",
          "name": "stdout",
          "text": [
            "Saved fused attention‐model to disk.\n"
          ]
        }
      ]
    },
    {
      "cell_type": "markdown",
      "source": [
        "# **Fusion Model Testing**"
      ],
      "metadata": {
        "id": "2BWAnNoT4nLz"
      }
    },
    {
      "cell_type": "code",
      "source": [
        "import tensorflow.keras.backend as K\n",
        "\n",
        "def squeeze_fn(x):\n",
        "    return K.squeeze(x, axis=-1)\n",
        "\n",
        "def expand_fn(x):\n",
        "    return K.expand_dims(x, axis=-1)\n",
        "\n",
        "def fused_fn(x):\n",
        "    return K.sum(x, axis=1)\n",
        "\n",
        "# 1. Squeeze layer: (None, 3, 1) → (None, 3)\n",
        "scores = Lambda(\n",
        "    squeeze_fn,\n",
        "    output_shape=lambda s: (s[0], s[1]),  # s = (batch, 3, 1) → (batch, 3)\n",
        "    name=\"att_squeeze\"\n",
        ")(scores)\n",
        "\n",
        "# 2. Expand dims: (None, 3) → (None, 3, 1)\n",
        "weights_exp = Lambda(\n",
        "    expand_fn,\n",
        "    output_shape=lambda s: (s[0], s[1], 1),  # payload dims = 1\n",
        "    name=\"att_expand\"\n",
        ")(weights)\n",
        "\n",
        "# 3. Fuse: (None, 3, 1) after weighted → (None, 1)\n",
        "fused_vec = Lambda(\n",
        "    fused_fn,\n",
        "    output_shape=lambda s: (s[0], s[2]),     # now s = (batch, 3, 1), so s[2] = 1\n",
        "    name=\"att_fused\"\n",
        ")(weighted)"
      ],
      "metadata": {
        "id": "zXHUjUxO3xTO"
      },
      "execution_count": 59,
      "outputs": []
    },
    {
      "cell_type": "code",
      "source": [
        "fusion_model.save('attention_fusion_from_preds_2.h5')"
      ],
      "metadata": {
        "colab": {
          "base_uri": "https://localhost:8080/"
        },
        "id": "zp_p7goC6uKK",
        "outputId": "53ac4704-b10b-482b-e72a-43bd84ca2915"
      },
      "execution_count": 60,
      "outputs": [
        {
          "output_type": "stream",
          "name": "stderr",
          "text": [
            "WARNING:absl:You are saving your model as an HDF5 file via `model.save()` or `keras.saving.save_model(model)`. This file format is considered legacy. We recommend using instead the native Keras format, e.g. `model.save('my_model.keras')` or `keras.saving.save_model(model, 'my_model.keras')`. \n"
          ]
        }
      ]
    },
    {
      "cell_type": "code",
      "source": [
        "fusion_model.save_weights(\"fusion_weights.weights.h5\")"
      ],
      "metadata": {
        "id": "jBcfDYuW7fA_"
      },
      "execution_count": 66,
      "outputs": []
    },
    {
      "cell_type": "code",
      "source": [
        "import tensorflow.keras.backend as K\n",
        "from tensorflow.keras.layers import Input, Dense, Softmax, Multiply, Lambda\n",
        "from tensorflow.keras.models import Model\n",
        "\n",
        "# Named functions for Lambda layers\n",
        "def squeeze_fn(x): return K.squeeze(x, axis=-1)\n",
        "def expand_fn(x): return K.expand_dims(x, axis=-1)\n",
        "def fused_fn(x): return K.sum(x, axis=1)\n",
        "\n",
        "n_classes = 20  # Replace with your actual number of classes\n",
        "\n",
        "# Build architecture\n",
        "inp = Input(shape=(3, n_classes), name=\"meta_input\")\n",
        "scores = Dense(1, name=\"att_score\")(inp)\n",
        "scores = Lambda(\n",
        "    squeeze_fn,\n",
        "    output_shape=lambda s: (s[0], s[1]),  # (batch, 3)\n",
        "    name=\"att_squeeze\"\n",
        ")(scores)\n",
        "weights = Softmax(axis=1, name=\"att_softmax\")(scores)\n",
        "weights_exp = Lambda(\n",
        "    expand_fn,\n",
        "    output_shape=lambda s: (s[0], s[1], 1),\n",
        "    name=\"att_expand\"\n",
        ")(weights)\n",
        "weighted = Multiply(name=\"att_mul\")([inp, weights_exp])\n",
        "fused_vec = Lambda(\n",
        "    fused_fn,\n",
        "    output_shape=lambda s: (s[0], s[2]),\n",
        "    name=\"att_fused\"\n",
        ")(weighted)\n",
        "out = Dense(n_classes, activation='softmax', name=\"final_softmax\")(fused_vec)\n",
        "\n",
        "fusion_model = Model(inputs=inp, outputs=out, name=\"attention_fusion\")"
      ],
      "metadata": {
        "id": "HRF6QKfq61mC"
      },
      "execution_count": 67,
      "outputs": []
    },
    {
      "cell_type": "code",
      "source": [
        "fusion_model.load_weights(\"/content/fusion_weights.weights.h5\")"
      ],
      "metadata": {
        "id": "Ivxhp6mq70E-"
      },
      "execution_count": 68,
      "outputs": []
    },
    {
      "cell_type": "code",
      "source": [
        "df_new = pd.read_csv(\"/content/drive/MyDrive/Synthetic Data/Final Fused Data.csv\")\n",
        "\n",
        "def slice_input(df, start, timesteps, features):\n",
        "    flat = timesteps * features\n",
        "    arr = df.iloc[:, start:start+flat].values\n",
        "    return arr.reshape(-1, timesteps, features)\n",
        "\n",
        "X1_new = slice_input(df_new, start=0,   timesteps=30, features=4)\n",
        "X2_new = slice_input(df_new, start=120, timesteps=10, features=48)\n",
        "X3_new = slice_input(df_new, start=600, timesteps=20, features=23)\n",
        "\n",
        "P1_new = model1.predict(X1_new)\n",
        "P2_new = model2.predict(X2_new)\n",
        "P3_new = model3.predict(X3_new)\n",
        "\n",
        "print(\"P1_new shape:\", P1_new.shape)\n",
        "print(\"P2_new shape:\", P2_new.shape)\n",
        "print(\"P3_new shape:\", P3_new.shape)"
      ],
      "metadata": {
        "colab": {
          "base_uri": "https://localhost:8080/"
        },
        "id": "6NM9FOn-8Jnd",
        "outputId": "d99066b0-4a23-4106-89a3-e2cdbbe96f58"
      },
      "execution_count": 72,
      "outputs": [
        {
          "output_type": "stream",
          "name": "stdout",
          "text": [
            "\u001b[1m216/216\u001b[0m \u001b[32m━━━━━━━━━━━━━━━━━━━━\u001b[0m\u001b[37m\u001b[0m \u001b[1m3s\u001b[0m 12ms/step\n",
            "\u001b[1m216/216\u001b[0m \u001b[32m━━━━━━━━━━━━━━━━━━━━\u001b[0m\u001b[37m\u001b[0m \u001b[1m1s\u001b[0m 6ms/step\n",
            "\u001b[1m216/216\u001b[0m \u001b[32m━━━━━━━━━━━━━━━━━━━━\u001b[0m\u001b[37m\u001b[0m \u001b[1m2s\u001b[0m 10ms/step\n",
            "P1_new shape: (6897, 2)\n",
            "P2_new shape: (6897, 3)\n",
            "P3_new shape: (6897, 20)\n"
          ]
        }
      ]
    },
    {
      "cell_type": "code",
      "source": [
        "def pad_to(arr, target_dim):\n",
        "    n, d = arr.shape\n",
        "    if d < target_dim:\n",
        "        pad = np.zeros((n, target_dim - d))\n",
        "        return np.concatenate([arr, pad], axis=1)\n",
        "    return arr\n",
        "\n",
        "target = max(P1_new.shape[1], P2_new.shape[1], P3_new.shape[1])\n",
        "P1_new = pad_to(P1_new, target)\n",
        "P2_new = pad_to(P2_new, target)\n",
        "P3_new = pad_to(P3_new, target)"
      ],
      "metadata": {
        "id": "MLSR5-Ks9LZ3"
      },
      "execution_count": 73,
      "outputs": []
    },
    {
      "cell_type": "code",
      "source": [
        "import numpy as np\n",
        "X_meta_new = np.stack([P1_new, P2_new, P3_new], axis=1)\n",
        "# shape = (num_samples, 3, num_classes)\n",
        "final_probs = fusion_model.predict(X_meta_new)\n",
        "final_labels = final_probs.argmax(axis=1)"
      ],
      "metadata": {
        "colab": {
          "base_uri": "https://localhost:8080/"
        },
        "id": "59bIayK79Fb8",
        "outputId": "941de7c9-a60e-4e50-ac5c-cd44cef30528"
      },
      "execution_count": 74,
      "outputs": [
        {
          "output_type": "stream",
          "name": "stdout",
          "text": [
            "\u001b[1m216/216\u001b[0m \u001b[32m━━━━━━━━━━━━━━━━━━━━\u001b[0m\u001b[37m\u001b[0m \u001b[1m1s\u001b[0m 4ms/step\n"
          ]
        }
      ]
    },
    {
      "cell_type": "code",
      "source": [
        "probs = fusion_model.predict(X_meta_new)\n",
        "labels = probs.argmax(axis=1)\n",
        "print(\"Fused predictions:\", labels)"
      ],
      "metadata": {
        "colab": {
          "base_uri": "https://localhost:8080/"
        },
        "id": "txPLUKMX73fd",
        "outputId": "6a91c5df-ef1f-4c53-9a70-de1f051fafa3"
      },
      "execution_count": 75,
      "outputs": [
        {
          "output_type": "stream",
          "name": "stdout",
          "text": [
            "\u001b[1m216/216\u001b[0m \u001b[32m━━━━━━━━━━━━━━━━━━━━\u001b[0m\u001b[37m\u001b[0m \u001b[1m0s\u001b[0m 2ms/step\n",
            "Fused predictions: [ 8  8 10 ... 10  4 10]\n"
          ]
        }
      ]
    },
    {
      "cell_type": "code",
      "source": [
        "y_true = df_new['predicted_labels'].astype(int).values"
      ],
      "metadata": {
        "id": "VMxtHAKx9Qh6"
      },
      "execution_count": 77,
      "outputs": []
    },
    {
      "cell_type": "code",
      "source": [
        "from sklearn.metrics import accuracy_score\n",
        "\n",
        "accuracy = accuracy_score(y_true, final_labels)\n",
        "print(f'Fused model accuracy: {accuracy:.2%}')"
      ],
      "metadata": {
        "colab": {
          "base_uri": "https://localhost:8080/"
        },
        "id": "x1eY-U_J9hhk",
        "outputId": "2fc26580-81d2-4594-86c1-0a3b73b1f7cf"
      },
      "execution_count": 78,
      "outputs": [
        {
          "output_type": "stream",
          "name": "stdout",
          "text": [
            "Fused model accuracy: 89.24%\n"
          ]
        }
      ]
    },
    {
      "cell_type": "markdown",
      "source": [
        "# **Multi-Output Attention Fusion and Training**"
      ],
      "metadata": {
        "id": "o_svDvtSAjEa"
      }
    },
    {
      "cell_type": "code",
      "source": [
        "import pandas as pd\n",
        "\n",
        "df = pd.read_csv('/content/drive/MyDrive/Synthetic Data/Best Final Predictions.csv')\n",
        "\n",
        "# Determine unique label values across your tasks:\n",
        "sphere_n = df['SPHERE Labels'].nunique()\n",
        "mdd_n    = df['Predicted_mdd'].nunique()\n",
        "stress_n = df['Predicted_Stress'].nunique()\n",
        "\n",
        "print(sphere_n, mdd_n, stress_n)"
      ],
      "metadata": {
        "colab": {
          "base_uri": "https://localhost:8080/"
        },
        "id": "qR0I--xWBipc",
        "outputId": "d97593ba-c276-4244-99ba-c3dec7cf2b9a"
      },
      "execution_count": 103,
      "outputs": [
        {
          "output_type": "stream",
          "name": "stdout",
          "text": [
            "20 2 2\n"
          ]
        }
      ]
    },
    {
      "cell_type": "code",
      "source": [
        "C = max(sphere_n, mdd_n, stress_n)"
      ],
      "metadata": {
        "id": "geuLz-N4Bqqd"
      },
      "execution_count": 104,
      "outputs": []
    },
    {
      "cell_type": "code",
      "source": [
        "import tensorflow.keras.backend as K\n",
        "from tensorflow.keras.layers import Input, Dense, Softmax, Multiply, Lambda\n",
        "from tensorflow.keras.models import Model\n",
        "\n",
        "# Define helper Lambda functions\n",
        "def squeeze_fn(x): return K.squeeze(x, axis=-1)\n",
        "def expand_fn(x): return K.expand_dims(x, axis=-1)\n",
        "def fused_fn(x): return K.sum(x, axis=1)\n",
        "\n",
        "n_classes = C  # number of classes for SPHERE, MDD, Stress (assumed same here)\n",
        "\n",
        "inp = Input(shape=(3, n_classes), name='meta_input')\n",
        "scores = Dense(1)(inp)\n",
        "scores = Lambda(squeeze_fn, output_shape=lambda s: (s[0], s[1]))(scores)\n",
        "weights = Softmax(axis=1)(scores)\n",
        "weights_exp = Lambda(expand_fn, output_shape=lambda s: (s[0], s[1], 1))(weights)\n",
        "weighted = Multiply()([inp, weights_exp])\n",
        "fused_vec = Lambda(fused_fn, output_shape=lambda s: (s[0], s[2]))(weighted)\n",
        "\n",
        "out_sphere = Dense(n_classes, activation='softmax', name='sphere_out')(fused_vec)\n",
        "out_mdd    = Dense(n_classes, activation='softmax', name='mdd_out')(fused_vec)\n",
        "out_str    = Dense(n_classes, activation='softmax', name='stress_out')(fused_vec)\n",
        "\n",
        "multi_fusion = Model(inp, [out_sphere, out_mdd, out_str])\n",
        "multi_fusion.compile(optimizer='adam',\n",
        "                     loss='categorical_crossentropy',\n",
        "                     metrics=['accuracy'])"
      ],
      "metadata": {
        "id": "a2hayHHd90so"
      },
      "execution_count": 105,
      "outputs": []
    },
    {
      "cell_type": "code",
      "source": [
        "from tensorflow.keras.utils import to_categorical\n",
        "\n",
        "sphere = to_categorical(df['SPHERE Labels'], num_classes=n_classes)\n",
        "mdd    = to_categorical(df['Predicted_mdd'], num_classes=n_classes)\n",
        "stress = to_categorical(df['Predicted_Stress'], num_classes=n_classes)\n",
        "\n",
        "y_train = [sphere, mdd, stress]"
      ],
      "metadata": {
        "id": "StCvCCxHAm4Y"
      },
      "execution_count": 106,
      "outputs": []
    },
    {
      "cell_type": "code",
      "source": [
        "multi_fusion.compile(\n",
        "    optimizer='adam',\n",
        "    loss={\n",
        "        'sphere_out': 'categorical_crossentropy',\n",
        "        'mdd_out':    'categorical_crossentropy',\n",
        "        'stress_out': 'categorical_crossentropy'\n",
        "    },\n",
        "    metrics={\n",
        "        'sphere_out': 'accuracy',\n",
        "        'mdd_out':    'accuracy',\n",
        "        'stress_out': 'accuracy'\n",
        "    }\n",
        ")"
      ],
      "metadata": {
        "id": "TZIrAmaNDDI-"
      },
      "execution_count": 108,
      "outputs": []
    },
    {
      "cell_type": "code",
      "source": [
        "multi_fusion.fit(\n",
        "    X_meta, y_train,\n",
        "    validation_split=0.1,\n",
        "    epochs=30,\n",
        "    batch_size=32,\n",
        "    callbacks=[tf.keras.callbacks.EarlyStopping(patience=2, restore_best_weights=True)]\n",
        ")"
      ],
      "metadata": {
        "colab": {
          "base_uri": "https://localhost:8080/"
        },
        "id": "QtwVCXy0ArJ4",
        "outputId": "1096b081-8f99-43bd-f80b-0413386ac359"
      },
      "execution_count": 109,
      "outputs": [
        {
          "output_type": "stream",
          "name": "stdout",
          "text": [
            "Epoch 1/30\n",
            "\u001b[1m194/194\u001b[0m \u001b[32m━━━━━━━━━━━━━━━━━━━━\u001b[0m\u001b[37m\u001b[0m \u001b[1m6s\u001b[0m 7ms/step - loss: 8.5744 - mdd_out_accuracy: 0.2794 - mdd_out_loss: 2.7731 - sphere_out_accuracy: 0.2978 - sphere_out_loss: 2.7747 - stress_out_accuracy: 0.0349 - stress_out_loss: 3.0266 - val_loss: 7.3622 - val_mdd_out_accuracy: 0.5957 - val_mdd_out_loss: 2.3606 - val_sphere_out_accuracy: 0.4464 - val_sphere_out_loss: 2.4915 - val_stress_out_accuracy: 0.7319 - val_stress_out_loss: 2.5187\n",
            "Epoch 2/30\n",
            "\u001b[1m194/194\u001b[0m \u001b[32m━━━━━━━━━━━━━━━━━━━━\u001b[0m\u001b[37m\u001b[0m \u001b[1m2s\u001b[0m 3ms/step - loss: 6.8595 - mdd_out_accuracy: 0.5342 - mdd_out_loss: 2.1777 - sphere_out_accuracy: 0.6396 - sphere_out_loss: 2.3179 - stress_out_accuracy: 0.7193 - stress_out_loss: 2.3639 - val_loss: 5.8340 - val_mdd_out_accuracy: 0.5971 - val_mdd_out_loss: 1.8418 - val_sphere_out_accuracy: 0.7304 - val_sphere_out_loss: 2.0547 - val_stress_out_accuracy: 0.7652 - val_stress_out_loss: 1.9515\n",
            "Epoch 3/30\n",
            "\u001b[1m194/194\u001b[0m \u001b[32m━━━━━━━━━━━━━━━━━━━━\u001b[0m\u001b[37m\u001b[0m \u001b[1m1s\u001b[0m 3ms/step - loss: 5.3758 - mdd_out_accuracy: 0.5672 - mdd_out_loss: 1.7102 - sphere_out_accuracy: 0.7574 - sphere_out_loss: 1.9010 - stress_out_accuracy: 0.9026 - stress_out_loss: 1.7646 - val_loss: 4.5697 - val_mdd_out_accuracy: 0.6000 - val_mdd_out_loss: 1.4505 - val_sphere_out_accuracy: 0.7899 - val_sphere_out_loss: 1.6380 - val_stress_out_accuracy: 0.7652 - val_stress_out_loss: 1.5018\n",
            "Epoch 4/30\n",
            "\u001b[1m194/194\u001b[0m \u001b[32m━━━━━━━━━━━━━━━━━━━━\u001b[0m\u001b[37m\u001b[0m \u001b[1m1s\u001b[0m 3ms/step - loss: 4.1343 - mdd_out_accuracy: 0.5951 - mdd_out_loss: 1.3604 - sphere_out_accuracy: 0.8412 - sphere_out_loss: 1.4954 - stress_out_accuracy: 0.9048 - stress_out_loss: 1.2784 - val_loss: 3.6330 - val_mdd_out_accuracy: 0.6014 - val_mdd_out_loss: 1.1902 - val_sphere_out_accuracy: 0.8768 - val_sphere_out_loss: 1.2759 - val_stress_out_accuracy: 0.7652 - val_stress_out_loss: 1.1940\n",
            "Epoch 5/30\n",
            "\u001b[1m194/194\u001b[0m \u001b[32m━━━━━━━━━━━━━━━━━━━━\u001b[0m\u001b[37m\u001b[0m \u001b[1m1s\u001b[0m 3ms/step - loss: 3.2299 - mdd_out_accuracy: 0.6088 - mdd_out_loss: 1.1280 - sphere_out_accuracy: 0.8898 - sphere_out_loss: 1.1573 - stress_out_accuracy: 0.9009 - stress_out_loss: 0.9446 - val_loss: 3.0052 - val_mdd_out_accuracy: 0.5826 - val_mdd_out_loss: 1.0289 - val_sphere_out_accuracy: 0.9101 - val_sphere_out_loss: 0.9998 - val_stress_out_accuracy: 0.7652 - val_stress_out_loss: 1.0084\n",
            "Epoch 6/30\n",
            "\u001b[1m194/194\u001b[0m \u001b[32m━━━━━━━━━━━━━━━━━━━━\u001b[0m\u001b[37m\u001b[0m \u001b[1m1s\u001b[0m 3ms/step - loss: 2.5799 - mdd_out_accuracy: 0.5973 - mdd_out_loss: 0.9810 - sphere_out_accuracy: 0.9237 - sphere_out_loss: 0.8800 - stress_out_accuracy: 0.9081 - stress_out_loss: 0.7189 - val_loss: 2.6051 - val_mdd_out_accuracy: 0.5826 - val_mdd_out_loss: 0.9326 - val_sphere_out_accuracy: 0.9101 - val_sphere_out_loss: 0.8043 - val_stress_out_accuracy: 0.7652 - val_stress_out_loss: 0.9032\n",
            "Epoch 7/30\n",
            "\u001b[1m194/194\u001b[0m \u001b[32m━━━━━━━━━━━━━━━━━━━━\u001b[0m\u001b[37m\u001b[0m \u001b[1m1s\u001b[0m 4ms/step - loss: 2.2161 - mdd_out_accuracy: 0.6120 - mdd_out_loss: 0.8891 - sphere_out_accuracy: 0.9151 - sphere_out_loss: 0.7266 - stress_out_accuracy: 0.9047 - stress_out_loss: 0.6005 - val_loss: 2.3390 - val_mdd_out_accuracy: 0.5826 - val_mdd_out_loss: 0.8693 - val_sphere_out_accuracy: 0.9101 - val_sphere_out_loss: 0.6661 - val_stress_out_accuracy: 0.7652 - val_stress_out_loss: 0.8403\n",
            "Epoch 8/30\n",
            "\u001b[1m194/194\u001b[0m \u001b[32m━━━━━━━━━━━━━━━━━━━━\u001b[0m\u001b[37m\u001b[0m \u001b[1m2s\u001b[0m 5ms/step - loss: 1.9604 - mdd_out_accuracy: 0.7088 - mdd_out_loss: 0.8291 - sphere_out_accuracy: 0.9122 - sphere_out_loss: 0.6104 - stress_out_accuracy: 0.9070 - stress_out_loss: 0.5209 - val_loss: 2.1541 - val_mdd_out_accuracy: 0.5638 - val_mdd_out_loss: 0.8254 - val_sphere_out_accuracy: 0.9101 - val_sphere_out_loss: 0.5677 - val_stress_out_accuracy: 0.7652 - val_stress_out_loss: 0.7986\n",
            "Epoch 9/30\n",
            "\u001b[1m194/194\u001b[0m \u001b[32m━━━━━━━━━━━━━━━━━━━━\u001b[0m\u001b[37m\u001b[0m \u001b[1m1s\u001b[0m 5ms/step - loss: 1.7834 - mdd_out_accuracy: 0.7272 - mdd_out_loss: 0.7883 - sphere_out_accuracy: 0.9179 - sphere_out_loss: 0.5081 - stress_out_accuracy: 0.8983 - stress_out_loss: 0.4869 - val_loss: 2.0199 - val_mdd_out_accuracy: 0.5826 - val_mdd_out_loss: 0.7928 - val_sphere_out_accuracy: 0.9101 - val_sphere_out_loss: 0.4953 - val_stress_out_accuracy: 0.7652 - val_stress_out_loss: 0.7697\n",
            "Epoch 10/30\n",
            "\u001b[1m194/194\u001b[0m \u001b[32m━━━━━━━━━━━━━━━━━━━━\u001b[0m\u001b[37m\u001b[0m \u001b[1m1s\u001b[0m 5ms/step - loss: 1.6325 - mdd_out_accuracy: 0.7329 - mdd_out_loss: 0.7539 - sphere_out_accuracy: 0.9229 - sphere_out_loss: 0.4409 - stress_out_accuracy: 0.9041 - stress_out_loss: 0.4377 - val_loss: 1.9101 - val_mdd_out_accuracy: 0.5826 - val_mdd_out_loss: 0.7600 - val_sphere_out_accuracy: 0.9188 - val_sphere_out_loss: 0.4412 - val_stress_out_accuracy: 0.7652 - val_stress_out_loss: 0.7468\n",
            "Epoch 11/30\n",
            "\u001b[1m194/194\u001b[0m \u001b[32m━━━━━━━━━━━━━━━━━━━━\u001b[0m\u001b[37m\u001b[0m \u001b[1m1s\u001b[0m 3ms/step - loss: 1.5295 - mdd_out_accuracy: 0.7329 - mdd_out_loss: 0.7265 - sphere_out_accuracy: 0.9328 - sphere_out_loss: 0.3861 - stress_out_accuracy: 0.9024 - stress_out_loss: 0.4169 - val_loss: 1.8186 - val_mdd_out_accuracy: 0.5826 - val_mdd_out_loss: 0.7290 - val_sphere_out_accuracy: 0.9391 - val_sphere_out_loss: 0.4010 - val_stress_out_accuracy: 0.7652 - val_stress_out_loss: 0.7260\n",
            "Epoch 12/30\n",
            "\u001b[1m194/194\u001b[0m \u001b[32m━━━━━━━━━━━━━━━━━━━━\u001b[0m\u001b[37m\u001b[0m \u001b[1m1s\u001b[0m 3ms/step - loss: 1.4597 - mdd_out_accuracy: 0.7408 - mdd_out_loss: 0.6999 - sphere_out_accuracy: 0.9452 - sphere_out_loss: 0.3622 - stress_out_accuracy: 0.9024 - stress_out_loss: 0.3976 - val_loss: 1.7286 - val_mdd_out_accuracy: 0.9058 - val_mdd_out_loss: 0.6870 - val_sphere_out_accuracy: 0.9449 - val_sphere_out_loss: 0.3738 - val_stress_out_accuracy: 0.7652 - val_stress_out_loss: 0.7042\n",
            "Epoch 13/30\n",
            "\u001b[1m194/194\u001b[0m \u001b[32m━━━━━━━━━━━━━━━━━━━━\u001b[0m\u001b[37m\u001b[0m \u001b[1m1s\u001b[0m 3ms/step - loss: 1.3887 - mdd_out_accuracy: 0.9233 - mdd_out_loss: 0.6713 - sphere_out_accuracy: 0.9492 - sphere_out_loss: 0.3273 - stress_out_accuracy: 0.8982 - stress_out_loss: 0.3900 - val_loss: 1.6419 - val_mdd_out_accuracy: 0.9986 - val_mdd_out_loss: 0.6371 - val_sphere_out_accuracy: 0.9449 - val_sphere_out_loss: 0.3589 - val_stress_out_accuracy: 0.7652 - val_stress_out_loss: 0.6812\n",
            "Epoch 14/30\n",
            "\u001b[1m194/194\u001b[0m \u001b[32m━━━━━━━━━━━━━━━━━━━━\u001b[0m\u001b[37m\u001b[0m \u001b[1m1s\u001b[0m 4ms/step - loss: 1.2891 - mdd_out_accuracy: 0.9400 - mdd_out_loss: 0.6338 - sphere_out_accuracy: 0.9553 - sphere_out_loss: 0.2928 - stress_out_accuracy: 0.9042 - stress_out_loss: 0.3624 - val_loss: 1.5458 - val_mdd_out_accuracy: 0.9986 - val_mdd_out_loss: 0.5693 - val_sphere_out_accuracy: 0.9507 - val_sphere_out_loss: 0.3585 - val_stress_out_accuracy: 0.7652 - val_stress_out_loss: 0.6515\n",
            "Epoch 15/30\n",
            "\u001b[1m194/194\u001b[0m \u001b[32m━━━━━━━━━━━━━━━━━━━━\u001b[0m\u001b[37m\u001b[0m \u001b[1m1s\u001b[0m 3ms/step - loss: 1.1956 - mdd_out_accuracy: 0.9434 - mdd_out_loss: 0.5803 - sphere_out_accuracy: 0.9625 - sphere_out_loss: 0.2710 - stress_out_accuracy: 0.9052 - stress_out_loss: 0.3443 - val_loss: 1.4396 - val_mdd_out_accuracy: 0.9986 - val_mdd_out_loss: 0.4824 - val_sphere_out_accuracy: 0.9507 - val_sphere_out_loss: 0.3709 - val_stress_out_accuracy: 0.7652 - val_stress_out_loss: 0.6180\n",
            "Epoch 16/30\n",
            "\u001b[1m194/194\u001b[0m \u001b[32m━━━━━━━━━━━━━━━━━━━━\u001b[0m\u001b[37m\u001b[0m \u001b[1m1s\u001b[0m 3ms/step - loss: 1.1077 - mdd_out_accuracy: 0.9460 - mdd_out_loss: 0.5132 - sphere_out_accuracy: 0.9620 - sphere_out_loss: 0.2701 - stress_out_accuracy: 0.9090 - stress_out_loss: 0.3244 - val_loss: 1.3497 - val_mdd_out_accuracy: 0.9986 - val_mdd_out_loss: 0.4082 - val_sphere_out_accuracy: 0.9507 - val_sphere_out_loss: 0.3845 - val_stress_out_accuracy: 0.7652 - val_stress_out_loss: 0.5871\n",
            "Epoch 17/30\n",
            "\u001b[1m194/194\u001b[0m \u001b[32m━━━━━━━━━━━━━━━━━━━━\u001b[0m\u001b[37m\u001b[0m \u001b[1m1s\u001b[0m 3ms/step - loss: 1.0334 - mdd_out_accuracy: 0.9485 - mdd_out_loss: 0.4463 - sphere_out_accuracy: 0.9605 - sphere_out_loss: 0.2679 - stress_out_accuracy: 0.9034 - stress_out_loss: 0.3192 - val_loss: 1.2760 - val_mdd_out_accuracy: 0.9986 - val_mdd_out_loss: 0.3513 - val_sphere_out_accuracy: 0.9507 - val_sphere_out_loss: 0.3895 - val_stress_out_accuracy: 0.7667 - val_stress_out_loss: 0.5646\n",
            "Epoch 18/30\n",
            "\u001b[1m194/194\u001b[0m \u001b[32m━━━━━━━━━━━━━━━━━━━━\u001b[0m\u001b[37m\u001b[0m \u001b[1m1s\u001b[0m 3ms/step - loss: 0.9912 - mdd_out_accuracy: 0.9451 - mdd_out_loss: 0.4042 - sphere_out_accuracy: 0.9617 - sphere_out_loss: 0.2751 - stress_out_accuracy: 0.9011 - stress_out_loss: 0.3120 - val_loss: 1.2140 - val_mdd_out_accuracy: 0.9986 - val_mdd_out_loss: 0.3121 - val_sphere_out_accuracy: 0.9507 - val_sphere_out_loss: 0.3832 - val_stress_out_accuracy: 0.7652 - val_stress_out_loss: 0.5474\n",
            "Epoch 19/30\n",
            "\u001b[1m194/194\u001b[0m \u001b[32m━━━━━━━━━━━━━━━━━━━━\u001b[0m\u001b[37m\u001b[0m \u001b[1m1s\u001b[0m 3ms/step - loss: 0.9163 - mdd_out_accuracy: 0.9472 - mdd_out_loss: 0.3634 - sphere_out_accuracy: 0.9643 - sphere_out_loss: 0.2524 - stress_out_accuracy: 0.9001 - stress_out_loss: 0.3005 - val_loss: 1.1648 - val_mdd_out_accuracy: 0.9986 - val_mdd_out_loss: 0.2896 - val_sphere_out_accuracy: 0.9507 - val_sphere_out_loss: 0.3693 - val_stress_out_accuracy: 0.7652 - val_stress_out_loss: 0.5342\n",
            "Epoch 20/30\n",
            "\u001b[1m194/194\u001b[0m \u001b[32m━━━━━━━━━━━━━━━━━━━━\u001b[0m\u001b[37m\u001b[0m \u001b[1m1s\u001b[0m 3ms/step - loss: 0.8852 - mdd_out_accuracy: 0.9439 - mdd_out_loss: 0.3407 - sphere_out_accuracy: 0.9675 - sphere_out_loss: 0.2439 - stress_out_accuracy: 0.8922 - stress_out_loss: 0.3006 - val_loss: 1.1137 - val_mdd_out_accuracy: 0.9986 - val_mdd_out_loss: 0.2632 - val_sphere_out_accuracy: 0.9551 - val_sphere_out_loss: 0.3560 - val_stress_out_accuracy: 0.7609 - val_stress_out_loss: 0.5225\n",
            "Epoch 21/30\n",
            "\u001b[1m194/194\u001b[0m \u001b[32m━━━━━━━━━━━━━━━━━━━━\u001b[0m\u001b[37m\u001b[0m \u001b[1m1s\u001b[0m 3ms/step - loss: 0.8416 - mdd_out_accuracy: 0.9434 - mdd_out_loss: 0.3217 - sphere_out_accuracy: 0.9665 - sphere_out_loss: 0.2300 - stress_out_accuracy: 0.8926 - stress_out_loss: 0.2898 - val_loss: 1.0712 - val_mdd_out_accuracy: 0.9986 - val_mdd_out_loss: 0.2453 - val_sphere_out_accuracy: 0.9609 - val_sphere_out_loss: 0.3408 - val_stress_out_accuracy: 0.7609 - val_stress_out_loss: 0.5127\n",
            "Epoch 22/30\n",
            "\u001b[1m194/194\u001b[0m \u001b[32m━━━━━━━━━━━━━━━━━━━━\u001b[0m\u001b[37m\u001b[0m \u001b[1m2s\u001b[0m 5ms/step - loss: 0.7976 - mdd_out_accuracy: 0.9470 - mdd_out_loss: 0.3033 - sphere_out_accuracy: 0.9705 - sphere_out_loss: 0.2165 - stress_out_accuracy: 0.8971 - stress_out_loss: 0.2779 - val_loss: 1.0330 - val_mdd_out_accuracy: 0.9986 - val_mdd_out_loss: 0.2328 - val_sphere_out_accuracy: 0.9609 - val_sphere_out_loss: 0.3235 - val_stress_out_accuracy: 0.7609 - val_stress_out_loss: 0.5039\n",
            "Epoch 23/30\n",
            "\u001b[1m194/194\u001b[0m \u001b[32m━━━━━━━━━━━━━━━━━━━━\u001b[0m\u001b[37m\u001b[0m \u001b[1m1s\u001b[0m 5ms/step - loss: 0.7566 - mdd_out_accuracy: 0.9491 - mdd_out_loss: 0.2837 - sphere_out_accuracy: 0.9719 - sphere_out_loss: 0.2021 - stress_out_accuracy: 0.8968 - stress_out_loss: 0.2708 - val_loss: 0.9972 - val_mdd_out_accuracy: 0.9986 - val_mdd_out_loss: 0.2199 - val_sphere_out_accuracy: 0.9609 - val_sphere_out_loss: 0.3077 - val_stress_out_accuracy: 0.7609 - val_stress_out_loss: 0.4963\n",
            "Epoch 24/30\n",
            "\u001b[1m194/194\u001b[0m \u001b[32m━━━━━━━━━━━━━━━━━━━━\u001b[0m\u001b[37m\u001b[0m \u001b[1m1s\u001b[0m 5ms/step - loss: 0.7392 - mdd_out_accuracy: 0.9431 - mdd_out_loss: 0.2812 - sphere_out_accuracy: 0.9733 - sphere_out_loss: 0.1841 - stress_out_accuracy: 0.8926 - stress_out_loss: 0.2738 - val_loss: 0.9621 - val_mdd_out_accuracy: 0.9986 - val_mdd_out_loss: 0.2064 - val_sphere_out_accuracy: 0.9638 - val_sphere_out_loss: 0.2940 - val_stress_out_accuracy: 0.7609 - val_stress_out_loss: 0.4879\n",
            "Epoch 25/30\n",
            "\u001b[1m194/194\u001b[0m \u001b[32m━━━━━━━━━━━━━━━━━━━━\u001b[0m\u001b[37m\u001b[0m \u001b[1m1s\u001b[0m 3ms/step - loss: 0.7052 - mdd_out_accuracy: 0.9462 - mdd_out_loss: 0.2680 - sphere_out_accuracy: 0.9758 - sphere_out_loss: 0.1762 - stress_out_accuracy: 0.8990 - stress_out_loss: 0.2610 - val_loss: 0.9342 - val_mdd_out_accuracy: 0.9986 - val_mdd_out_loss: 0.2002 - val_sphere_out_accuracy: 0.9638 - val_sphere_out_loss: 0.2776 - val_stress_out_accuracy: 0.7609 - val_stress_out_loss: 0.4823\n",
            "Epoch 26/30\n",
            "\u001b[1m194/194\u001b[0m \u001b[32m━━━━━━━━━━━━━━━━━━━━\u001b[0m\u001b[37m\u001b[0m \u001b[1m1s\u001b[0m 3ms/step - loss: 0.6709 - mdd_out_accuracy: 0.9493 - mdd_out_loss: 0.2527 - sphere_out_accuracy: 0.9794 - sphere_out_loss: 0.1605 - stress_out_accuracy: 0.8965 - stress_out_loss: 0.2578 - val_loss: 0.9066 - val_mdd_out_accuracy: 0.9986 - val_mdd_out_loss: 0.1920 - val_sphere_out_accuracy: 0.9638 - val_sphere_out_loss: 0.2639 - val_stress_out_accuracy: 0.7609 - val_stress_out_loss: 0.4763\n",
            "Epoch 27/30\n",
            "\u001b[1m194/194\u001b[0m \u001b[32m━━━━━━━━━━━━━━━━━━━━\u001b[0m\u001b[37m\u001b[0m \u001b[1m1s\u001b[0m 3ms/step - loss: 0.6612 - mdd_out_accuracy: 0.9463 - mdd_out_loss: 0.2521 - sphere_out_accuracy: 0.9816 - sphere_out_loss: 0.1503 - stress_out_accuracy: 0.8952 - stress_out_loss: 0.2588 - val_loss: 0.8801 - val_mdd_out_accuracy: 0.9986 - val_mdd_out_loss: 0.1844 - val_sphere_out_accuracy: 0.9667 - val_sphere_out_loss: 0.2508 - val_stress_out_accuracy: 0.7623 - val_stress_out_loss: 0.4700\n",
            "Epoch 28/30\n",
            "\u001b[1m194/194\u001b[0m \u001b[32m━━━━━━━━━━━━━━━━━━━━\u001b[0m\u001b[37m\u001b[0m \u001b[1m1s\u001b[0m 3ms/step - loss: 0.6292 - mdd_out_accuracy: 0.9501 - mdd_out_loss: 0.2414 - sphere_out_accuracy: 0.9836 - sphere_out_loss: 0.1428 - stress_out_accuracy: 0.9032 - stress_out_loss: 0.2451 - val_loss: 0.8550 - val_mdd_out_accuracy: 0.9986 - val_mdd_out_loss: 0.1765 - val_sphere_out_accuracy: 0.9667 - val_sphere_out_loss: 0.2388 - val_stress_out_accuracy: 0.7623 - val_stress_out_loss: 0.4642\n",
            "Epoch 29/30\n",
            "\u001b[1m194/194\u001b[0m \u001b[32m━━━━━━━━━━━━━━━━━━━━\u001b[0m\u001b[37m\u001b[0m \u001b[1m1s\u001b[0m 3ms/step - loss: 0.6274 - mdd_out_accuracy: 0.9490 - mdd_out_loss: 0.2347 - sphere_out_accuracy: 0.9827 - sphere_out_loss: 0.1411 - stress_out_accuracy: 0.8971 - stress_out_loss: 0.2516 - val_loss: 0.8329 - val_mdd_out_accuracy: 0.9986 - val_mdd_out_loss: 0.1711 - val_sphere_out_accuracy: 0.9667 - val_sphere_out_loss: 0.2270 - val_stress_out_accuracy: 0.7623 - val_stress_out_loss: 0.4588\n",
            "Epoch 30/30\n",
            "\u001b[1m194/194\u001b[0m \u001b[32m━━━━━━━━━━━━━━━━━━━━\u001b[0m\u001b[37m\u001b[0m \u001b[1m1s\u001b[0m 3ms/step - loss: 0.6299 - mdd_out_accuracy: 0.9430 - mdd_out_loss: 0.2483 - sphere_out_accuracy: 0.9842 - sphere_out_loss: 0.1302 - stress_out_accuracy: 0.8968 - stress_out_loss: 0.2515 - val_loss: 0.8080 - val_mdd_out_accuracy: 0.9986 - val_mdd_out_loss: 0.1595 - val_sphere_out_accuracy: 0.9667 - val_sphere_out_loss: 0.2186 - val_stress_out_accuracy: 0.7623 - val_stress_out_loss: 0.4537\n"
          ]
        },
        {
          "output_type": "execute_result",
          "data": {
            "text/plain": [
              "<keras.src.callbacks.history.History at 0x78ba37c11d10>"
            ]
          },
          "metadata": {},
          "execution_count": 109
        }
      ]
    },
    {
      "cell_type": "code",
      "source": [
        "sphere_pred, mdd_pred, stress_pred = multi_fusion.predict(X_meta_new)\n",
        "\n",
        "sphere_lbl = sphere_pred.argmax(axis=1)\n",
        "mdd_lbl    = mdd_pred.argmax(axis=1)\n",
        "stress_lbl = stress_pred.argmax(axis=1)"
      ],
      "metadata": {
        "colab": {
          "base_uri": "https://localhost:8080/"
        },
        "id": "UDfzLVZ-BOGn",
        "outputId": "5d646806-c9f2-4d35-e067-848fa96b4d45"
      },
      "execution_count": 110,
      "outputs": [
        {
          "output_type": "stream",
          "name": "stdout",
          "text": [
            "\u001b[1m216/216\u001b[0m \u001b[32m━━━━━━━━━━━━━━━━━━━━\u001b[0m\u001b[37m\u001b[0m \u001b[1m1s\u001b[0m 3ms/step\n"
          ]
        }
      ]
    },
    {
      "cell_type": "code",
      "source": [
        "multi_fusion.save('/content/Multi-Output_Attention_Fusion.h5')"
      ],
      "metadata": {
        "colab": {
          "base_uri": "https://localhost:8080/"
        },
        "id": "qF23wPiBD8gf",
        "outputId": "0a42e988-562f-464c-bdae-e2c7b8e3b76b"
      },
      "execution_count": 111,
      "outputs": [
        {
          "output_type": "stream",
          "name": "stderr",
          "text": [
            "WARNING:absl:You are saving your model as an HDF5 file via `model.save()` or `keras.saving.save_model(model)`. This file format is considered legacy. We recommend using instead the native Keras format, e.g. `model.save('my_model.keras')` or `keras.saving.save_model(model, 'my_model.keras')`. \n"
          ]
        }
      ]
    },
    {
      "cell_type": "code",
      "source": [
        "multi_fusion.save('/content/Multi-Output_Attention_Fusion.keras')"
      ],
      "metadata": {
        "id": "_3HdKXbjEGMe"
      },
      "execution_count": 112,
      "outputs": []
    },
    {
      "cell_type": "markdown",
      "source": [
        "# **Fusion Testing**\n",
        "\n"
      ],
      "metadata": {
        "id": "Wbn5pQZ7Eb23"
      }
    },
    {
      "cell_type": "code",
      "source": [
        "import tensorflow.keras.backend as K\n",
        "import keras\n",
        "from tensorflow.keras.models import load_model\n",
        "from tensorflow.keras.saving import custom_object_scope\n",
        "\n",
        "# Redefine the functions exactly as during training\n",
        "@keras.saving.register_keras_serializable()\n",
        "def squeeze_fn(x):\n",
        "    return K.squeeze(x, axis=-1)\n",
        "\n",
        "@keras.saving.register_keras_serializable()\n",
        "def expand_fn(x):\n",
        "    return K.expand_dims(x, axis=-1)\n",
        "\n",
        "@keras.saving.register_keras_serializable()\n",
        "def fused_fn(x):\n",
        "    return K.sum(x, axis=1)\n",
        "\n",
        "with custom_object_scope({\n",
        "    'squeeze_fn': squeeze_fn,\n",
        "    'expand_fn': expand_fn,\n",
        "    'fused_fn': fused_fn\n",
        "}):\n",
        "    fusion = load_model('/content/Multi-Output_Attention_Fusion.h5', compile=False)"
      ],
      "metadata": {
        "id": "eBtY_VC0EqDK"
      },
      "execution_count": 120,
      "outputs": []
    },
    {
      "cell_type": "code",
      "source": [
        "meta_probs = fusion.predict(X_meta_new)\n",
        "out_sphere, out_mdd, out_stress = meta_probs  # depending on model outputs"
      ],
      "metadata": {
        "colab": {
          "base_uri": "https://localhost:8080/"
        },
        "id": "wnDB6zsaFlz9",
        "outputId": "8756fcac-160c-44a1-822a-eb95d808c70e"
      },
      "execution_count": 121,
      "outputs": [
        {
          "output_type": "stream",
          "name": "stdout",
          "text": [
            "\u001b[1m216/216\u001b[0m \u001b[32m━━━━━━━━━━━━━━━━━━━━\u001b[0m\u001b[37m\u001b[0m \u001b[1m1s\u001b[0m 3ms/step\n"
          ]
        }
      ]
    },
    {
      "cell_type": "code",
      "source": [
        "df_test = pd.read_csv('/content/drive/MyDrive/Synthetic Data/Stress Fusion Data.csv')\n",
        "sample = df.sample(n=1, random_state=42).reset_index(drop=True)\n",
        "\n",
        "def slice_input(df, start, ts, feat):\n",
        "    arr = df.iloc[:, start : start + ts * feat].values\n",
        "    return arr.reshape(-1, ts, feat)\n",
        "\n",
        "X1 = slice_input(df_test, start=0,   ts=30, feat=4)\n",
        "X2 = slice_input(df_test, start=120, ts=10, feat=48)\n",
        "X3 = slice_input(df_test, start=600, ts=20, feat=23)\n",
        "\n",
        "# Load your three base models (if not already loaded)\n",
        "model1 = load_model('/content/drive/MyDrive/Thesis Models/mdd_lstm.h5', compile=False)\n",
        "model2 = load_model('/content/drive/MyDrive/Thesis Models/lstm_stress_dryad_model.h5', compile=False)\n",
        "model3 = load_model('/content/drive/MyDrive/Thesis Models/rnn_model.h5', compile=False)\n",
        "\n",
        "P1 = model1.predict(X1)\n",
        "P2 = model2.predict(X2)\n",
        "P3 = model3.predict(X3)\n",
        "\n",
        "# Ensure all have the same class dimension\n",
        "maxC = max(P1.shape[1], P2.shape[1], P3.shape[1])\n",
        "def pad(arr, target):\n",
        "    return arr if arr.shape[1] == target else np.pad(arr, ((0,0),(0,target-arr.shape[1])))\n",
        "P1, P2, P3 = pad(P1, maxC), pad(P2, maxC), pad(P3, maxC)\n",
        "\n",
        "X_meta = np.stack([P1, P2, P3], axis=1)"
      ],
      "metadata": {
        "colab": {
          "base_uri": "https://localhost:8080/"
        },
        "id": "rkiyTzS0F5go",
        "outputId": "e33ad047-7872-45b0-bebb-9415ee216462"
      },
      "execution_count": 174,
      "outputs": [
        {
          "output_type": "stream",
          "name": "stdout",
          "text": [
            "\u001b[1m216/216\u001b[0m \u001b[32m━━━━━━━━━━━━━━━━━━━━\u001b[0m\u001b[37m\u001b[0m \u001b[1m2s\u001b[0m 8ms/step\n",
            "\u001b[1m216/216\u001b[0m \u001b[32m━━━━━━━━━━━━━━━━━━━━\u001b[0m\u001b[37m\u001b[0m \u001b[1m1s\u001b[0m 5ms/step\n",
            "\u001b[1m216/216\u001b[0m \u001b[32m━━━━━━━━━━━━━━━━━━━━\u001b[0m\u001b[37m\u001b[0m \u001b[1m3s\u001b[0m 11ms/step\n"
          ]
        }
      ]
    },
    {
      "cell_type": "code",
      "source": [
        "out_sphere, out_mdd, out_stress = fusion.predict(X_meta)\n",
        "pred_sphere = np.argmax(out_sphere, axis=1)\n",
        "pred_mdd    = np.argmax(out_mdd, axis=1)\n",
        "pred_str    = np.argmax(out_stress, axis=1)"
      ],
      "metadata": {
        "colab": {
          "base_uri": "https://localhost:8080/"
        },
        "id": "s_0W32mUGH3R",
        "outputId": "8dd16430-ff93-497a-ae02-48ea79b885fe"
      },
      "execution_count": 175,
      "outputs": [
        {
          "output_type": "stream",
          "name": "stdout",
          "text": [
            "\u001b[1m216/216\u001b[0m \u001b[32m━━━━━━━━━━━━━━━━━━━━\u001b[0m\u001b[37m\u001b[0m \u001b[1m0s\u001b[0m 1ms/step\n"
          ]
        }
      ]
    },
    {
      "cell_type": "code",
      "source": [
        "act_s   = sample['predicted_labels'].values[0]\n",
        "act_m   = sample['Actual_mdd'].values[0]\n",
        "act_str = sample['Actual_Stress'].values[0]"
      ],
      "metadata": {
        "id": "u5oFXN4VHWsq"
      },
      "execution_count": 176,
      "outputs": []
    },
    {
      "cell_type": "code",
      "source": [
        "print(\"✅ Sample index:\", sample.index[0])\n",
        "print(\"Actual labels:    SPHERE =\", act_s, \" | MDD =\", act_m, \" | STRESS =\", act_str)\n",
        "print(\"Predicted labels: SPHERE =\", np.argmax(out_sphere, axis = 1)[0], \" | MDD =\", np.argmax(out_mdd, axis = 1)[0], \" | STRESS =\", np.argmax(out_stress, axis = 1)[0])"
      ],
      "metadata": {
        "colab": {
          "base_uri": "https://localhost:8080/"
        },
        "id": "s-3Yk6zRIQnj",
        "outputId": "dfebafdb-4504-45aa-e225-fe9322f142fd"
      },
      "execution_count": 177,
      "outputs": [
        {
          "output_type": "stream",
          "name": "stdout",
          "text": [
            "✅ Sample index: 0\n",
            "Actual labels:    SPHERE = 10  | MDD = 1  | STRESS = 1\n",
            "Predicted labels: SPHERE = 8  | MDD = 1  | STRESS = 1\n"
          ]
        }
      ]
    },
    {
      "cell_type": "code",
      "source": [
        "from sklearn.metrics import accuracy_score, classification_report\n",
        "\n",
        "# Replace with your actual test label columns\n",
        "y_true_sphere = df_test['predicted_labels'].astype(int).values\n",
        "y_true_mdd    = df_test['Actual_mdd'].astype(int).values\n",
        "y_true_str    = df_test['Actual_Stress'].astype(int).values\n",
        "\n",
        "print(\"Fusion Model Report:\\n\", classification_report(y_true_sphere, pred_sphere))"
      ],
      "metadata": {
        "colab": {
          "base_uri": "https://localhost:8080/"
        },
        "id": "8p4mCjp_GKwb",
        "outputId": "8fe4062e-bfbc-4d08-bd8b-8cc9f41646a3"
      },
      "execution_count": 178,
      "outputs": [
        {
          "output_type": "stream",
          "name": "stdout",
          "text": [
            "Fusion Model Report:\n",
            "               precision    recall  f1-score   support\n",
            "\n",
            "           0       0.00      0.00      0.00        21\n",
            "           1       0.00      0.00      0.00        46\n",
            "           2       0.50      0.04      0.08        23\n",
            "           3       0.00      0.00      0.00         0\n",
            "           4       0.88      0.75      0.81       669\n",
            "           5       0.84      0.81      0.82       197\n",
            "           6       1.00      0.53      0.69        78\n",
            "           7       0.90      0.99      0.95       503\n",
            "           8       0.94      0.99      0.97      1861\n",
            "           9       1.00      0.41      0.58        22\n",
            "          10       0.84      0.99      0.91      2829\n",
            "          11       1.00      0.22      0.35        51\n",
            "          12       0.00      0.00      0.00        28\n",
            "          13       1.00      0.08      0.15        60\n",
            "          14       0.92      0.58      0.71        60\n",
            "          15       0.94      0.33      0.49        48\n",
            "          16       0.73      0.29      0.41        28\n",
            "          17       0.80      0.53      0.64        60\n",
            "          18       0.82      0.22      0.35        41\n",
            "          19       0.87      0.17      0.28       272\n",
            "\n",
            "    accuracy                           0.87      6897\n",
            "   macro avg       0.70      0.40      0.46      6897\n",
            "weighted avg       0.87      0.87      0.85      6897\n",
            "\n"
          ]
        },
        {
          "output_type": "stream",
          "name": "stderr",
          "text": [
            "/usr/local/lib/python3.11/dist-packages/sklearn/metrics/_classification.py:1565: UndefinedMetricWarning: Precision is ill-defined and being set to 0.0 in labels with no predicted samples. Use `zero_division` parameter to control this behavior.\n",
            "  _warn_prf(average, modifier, f\"{metric.capitalize()} is\", len(result))\n",
            "/usr/local/lib/python3.11/dist-packages/sklearn/metrics/_classification.py:1565: UndefinedMetricWarning: Recall is ill-defined and being set to 0.0 in labels with no true samples. Use `zero_division` parameter to control this behavior.\n",
            "  _warn_prf(average, modifier, f\"{metric.capitalize()} is\", len(result))\n",
            "/usr/local/lib/python3.11/dist-packages/sklearn/metrics/_classification.py:1565: UndefinedMetricWarning: Precision is ill-defined and being set to 0.0 in labels with no predicted samples. Use `zero_division` parameter to control this behavior.\n",
            "  _warn_prf(average, modifier, f\"{metric.capitalize()} is\", len(result))\n",
            "/usr/local/lib/python3.11/dist-packages/sklearn/metrics/_classification.py:1565: UndefinedMetricWarning: Recall is ill-defined and being set to 0.0 in labels with no true samples. Use `zero_division` parameter to control this behavior.\n",
            "  _warn_prf(average, modifier, f\"{metric.capitalize()} is\", len(result))\n",
            "/usr/local/lib/python3.11/dist-packages/sklearn/metrics/_classification.py:1565: UndefinedMetricWarning: Precision is ill-defined and being set to 0.0 in labels with no predicted samples. Use `zero_division` parameter to control this behavior.\n",
            "  _warn_prf(average, modifier, f\"{metric.capitalize()} is\", len(result))\n",
            "/usr/local/lib/python3.11/dist-packages/sklearn/metrics/_classification.py:1565: UndefinedMetricWarning: Recall is ill-defined and being set to 0.0 in labels with no true samples. Use `zero_division` parameter to control this behavior.\n",
            "  _warn_prf(average, modifier, f\"{metric.capitalize()} is\", len(result))\n"
          ]
        }
      ]
    },
    {
      "cell_type": "markdown",
      "source": [
        "# **Large Sample Testing**"
      ],
      "metadata": {
        "id": "j8D1SUxbSChM"
      }
    },
    {
      "cell_type": "code",
      "source": [
        "import pandas as pd\n",
        "import numpy as np\n",
        "import tensorflow.keras.backend as K\n",
        "import keras\n",
        "from tensorflow.keras.models import load_model\n",
        "from tensorflow.keras.saving import custom_object_scope"
      ],
      "metadata": {
        "id": "g-OiZ11SP-8T"
      },
      "execution_count": 182,
      "outputs": []
    },
    {
      "cell_type": "code",
      "source": [
        "@keras.saving.register_keras_serializable()\n",
        "def squeeze_fn(x): return K.squeeze(x, axis=-1)\n",
        "\n",
        "@keras.saving.register_keras_serializable()\n",
        "def expand_fn(x): return K.expand_dims(x, axis=-1)\n",
        "\n",
        "@keras.saving.register_keras_serializable()\n",
        "def fused_fn(x): return K.sum(x, axis=1)\n",
        "\n",
        "with custom_object_scope({\n",
        "    'squeeze_fn': squeeze_fn,\n",
        "    'expand_fn': expand_fn,\n",
        "    'fused_fn': fused_fn\n",
        "}):\n",
        "    fusion = load_model('/content/Multi-Output_Attention_Fusion.h5', compile=False)"
      ],
      "metadata": {
        "id": "hlEla-tLQG5c"
      },
      "execution_count": 183,
      "outputs": []
    },
    {
      "cell_type": "code",
      "source": [
        "model1 = load_model('/content/drive/MyDrive/Thesis Models/mdd_lstm.h5', compile=False)\n",
        "model2 = load_model('/content/drive/MyDrive/Thesis Models/lstm_stress_dryad_model.h5', compile=False)\n",
        "model3 = load_model('/content/drive/MyDrive/Thesis Models/rnn_model.h5', compile=False)"
      ],
      "metadata": {
        "id": "UZCZUKi-QL3v"
      },
      "execution_count": 184,
      "outputs": []
    },
    {
      "cell_type": "code",
      "source": [
        "df = pd.read_csv('/content/drive/MyDrive/Synthetic Data/Stress Fusion Data.csv')\n",
        "sample = df.sample(n=100).reset_index(drop=True)"
      ],
      "metadata": {
        "id": "SZakbXlgQJtG"
      },
      "execution_count": 185,
      "outputs": []
    },
    {
      "cell_type": "code",
      "source": [
        "def slice_input(df, start, ts, feat):\n",
        "    arr = df.iloc[:, start:start + ts*feat].values\n",
        "    return arr.reshape(-1, ts, feat)\n",
        "\n",
        "X1 = slice_input(sample, 0,   30, 4)\n",
        "X2 = slice_input(sample, 120, 10, 48)\n",
        "X3 = slice_input(sample, 600, 20, 23)\n",
        "\n",
        "# ---- 3. Predict sub-models ----\n",
        "P1 = model1.predict(X1, batch_size=32, verbose=0)\n",
        "P2 = model2.predict(X2, batch_size=32, verbose=0)\n",
        "P3 = model3.predict(X3, batch_size=32, verbose=0)\n",
        "\n",
        "# ---- 4. Align class dims and create meta tensor ----\n",
        "maxC = max(P1.shape[1], P2.shape[1], P3.shape[1])\n",
        "def pad(arr): return arr if arr.shape[1]==maxC else np.pad(arr, ((0,0),(0, maxC-arr.shape[1])))\n",
        "P1, P2, P3 = pad(P1), pad(P2), pad(P3)\n",
        "X_meta = np.stack([P1, P2, P3], axis=1)"
      ],
      "metadata": {
        "id": "HwWDVI59QPz-"
      },
      "execution_count": 186,
      "outputs": []
    },
    {
      "cell_type": "code",
      "source": [
        "out_sphere, out_mdd, out_stress = fusion.predict(X_meta, batch_size=32, verbose=0)\n",
        "pred_s = np.argmax(out_sphere, axis=1)\n",
        "pred_m = np.argmax(out_mdd, axis=1)\n",
        "pred_t = np.argmax(out_stress, axis=1)\n",
        "\n",
        "# ---- 6. Extract actual labels ----\n",
        "act_s = sample['predicted_labels'].astype(int).values\n",
        "act_m = sample['Actual_mdd'].astype(int).values\n",
        "act_t = sample['Actual_Stress'].astype(int).values"
      ],
      "metadata": {
        "id": "edrxnOr9QTX5"
      },
      "execution_count": 187,
      "outputs": []
    },
    {
      "cell_type": "code",
      "source": [
        "results = sample.copy().loc[:, :]  # include all original columns\n",
        "results = results.assign(\n",
        "    sphere_actual   = act_s,\n",
        "    mdd_actual      = act_m,\n",
        "    stress_actual   = act_t,\n",
        "    sphere_pred     = pred_s,\n",
        "    mdd_pred        = pred_m,\n",
        "    stress_pred     = pred_t\n",
        ")"
      ],
      "metadata": {
        "id": "yAWYz90WQXFD"
      },
      "execution_count": 188,
      "outputs": []
    },
    {
      "cell_type": "code",
      "source": [
        "output_path = '/content/drive/MyDrive/Synthetic Data/Fusion_Stress_100_Final.csv'\n",
        "results.to_csv(output_path, index=False)\n",
        "print(f\"✅ Saved 100‑sample results to:\\n  {output_path}\")"
      ],
      "metadata": {
        "colab": {
          "base_uri": "https://localhost:8080/"
        },
        "id": "PlrTnR7hQku8",
        "outputId": "d47c14ea-2460-4aa1-cdb6-1638f777f3bd"
      },
      "execution_count": 189,
      "outputs": [
        {
          "output_type": "stream",
          "name": "stdout",
          "text": [
            "✅ Saved 100‑sample results to:\n",
            "  /content/drive/MyDrive/Synthetic Data/Fusion_Stress_100_Final.csv\n"
          ]
        }
      ]
    },
    {
      "cell_type": "code",
      "source": [
        "import pandas as pd\n",
        "from sklearn.metrics import classification_report\n",
        "\n",
        "# Load the CSV with actual and predicted columns\n",
        "df = pd.read_csv('/content/drive/MyDrive/Synthetic Data/Fusion_Stress_100_Final.csv')\n",
        "\n",
        "# Extract arrays for true / predicted labels\n",
        "y_true_sphere = df['sphere_actual']\n",
        "y_pred_sphere = df['sphere_pred']\n",
        "\n",
        "y_true_mdd = df['mdd_actual']\n",
        "y_pred_mdd = df['mdd_pred']\n",
        "\n",
        "y_true_stress = df['stress_actual']\n",
        "y_pred_stress = df['stress_pred']\n",
        "\n",
        "# Print classification reports\n",
        "print(\"==== SPHERE Classification Report ====\")\n",
        "print(classification_report(y_true_sphere, y_pred_sphere))\n",
        "\n",
        "print(\"==== MDD Classification Report ====\")\n",
        "print(classification_report(y_true_mdd, y_pred_mdd))\n",
        "\n",
        "print(\"==== STRESS Classification Report ====\")\n",
        "print(classification_report(y_true_stress, y_pred_stress))"
      ],
      "metadata": {
        "colab": {
          "base_uri": "https://localhost:8080/"
        },
        "id": "QryR2DlOQnmr",
        "outputId": "2b6cb8ac-6e19-4221-9caf-f056c4219dff"
      },
      "execution_count": 190,
      "outputs": [
        {
          "output_type": "stream",
          "name": "stdout",
          "text": [
            "==== SPHERE Classification Report ====\n",
            "              precision    recall  f1-score   support\n",
            "\n",
            "           4       1.00      1.00      1.00        10\n",
            "           5       1.00      1.00      1.00         1\n",
            "           7       0.78      1.00      0.88         7\n",
            "           8       0.86      1.00      0.93        25\n",
            "           9       1.00      1.00      1.00         1\n",
            "          10       0.96      1.00      0.98        43\n",
            "          11       1.00      1.00      1.00         1\n",
            "          13       0.00      0.00      0.00         2\n",
            "          15       1.00      1.00      1.00         1\n",
            "          17       1.00      0.17      0.29         6\n",
            "          18       1.00      1.00      1.00         1\n",
            "          19       1.00      0.50      0.67         2\n",
            "\n",
            "    accuracy                           0.92       100\n",
            "   macro avg       0.88      0.81      0.81       100\n",
            "weighted avg       0.91      0.92      0.89       100\n",
            "\n",
            "==== MDD Classification Report ====\n",
            "              precision    recall  f1-score   support\n",
            "\n",
            "           0       0.91      0.65      0.76        48\n",
            "           1       0.74      0.94      0.83        52\n",
            "\n",
            "    accuracy                           0.80       100\n",
            "   macro avg       0.83      0.79      0.79       100\n",
            "weighted avg       0.82      0.80      0.79       100\n",
            "\n",
            "==== STRESS Classification Report ====\n",
            "              precision    recall  f1-score   support\n",
            "\n",
            "           0       0.00      0.00      0.00        49\n",
            "           1       0.51      1.00      0.68        51\n",
            "\n",
            "    accuracy                           0.51       100\n",
            "   macro avg       0.26      0.50      0.34       100\n",
            "weighted avg       0.26      0.51      0.34       100\n",
            "\n"
          ]
        },
        {
          "output_type": "stream",
          "name": "stderr",
          "text": [
            "/usr/local/lib/python3.11/dist-packages/sklearn/metrics/_classification.py:1565: UndefinedMetricWarning: Precision is ill-defined and being set to 0.0 in labels with no predicted samples. Use `zero_division` parameter to control this behavior.\n",
            "  _warn_prf(average, modifier, f\"{metric.capitalize()} is\", len(result))\n",
            "/usr/local/lib/python3.11/dist-packages/sklearn/metrics/_classification.py:1565: UndefinedMetricWarning: Precision is ill-defined and being set to 0.0 in labels with no predicted samples. Use `zero_division` parameter to control this behavior.\n",
            "  _warn_prf(average, modifier, f\"{metric.capitalize()} is\", len(result))\n",
            "/usr/local/lib/python3.11/dist-packages/sklearn/metrics/_classification.py:1565: UndefinedMetricWarning: Precision is ill-defined and being set to 0.0 in labels with no predicted samples. Use `zero_division` parameter to control this behavior.\n",
            "  _warn_prf(average, modifier, f\"{metric.capitalize()} is\", len(result))\n",
            "/usr/local/lib/python3.11/dist-packages/sklearn/metrics/_classification.py:1565: UndefinedMetricWarning: Precision is ill-defined and being set to 0.0 in labels with no predicted samples. Use `zero_division` parameter to control this behavior.\n",
            "  _warn_prf(average, modifier, f\"{metric.capitalize()} is\", len(result))\n",
            "/usr/local/lib/python3.11/dist-packages/sklearn/metrics/_classification.py:1565: UndefinedMetricWarning: Precision is ill-defined and being set to 0.0 in labels with no predicted samples. Use `zero_division` parameter to control this behavior.\n",
            "  _warn_prf(average, modifier, f\"{metric.capitalize()} is\", len(result))\n",
            "/usr/local/lib/python3.11/dist-packages/sklearn/metrics/_classification.py:1565: UndefinedMetricWarning: Precision is ill-defined and being set to 0.0 in labels with no predicted samples. Use `zero_division` parameter to control this behavior.\n",
            "  _warn_prf(average, modifier, f\"{metric.capitalize()} is\", len(result))\n"
          ]
        }
      ]
    },
    {
      "cell_type": "markdown",
      "source": [
        "# **OVERALL STRESS**"
      ],
      "metadata": {
        "id": "3m6G-0zhV8cI"
      }
    },
    {
      "cell_type": "code",
      "source": [
        "import pandas as pd\n",
        "\n",
        "# Load your results (with predicted MDD and Stress)\n",
        "df = pd.read_csv('/content/drive/MyDrive/Synthetic Data/Fusion_Stress_100_Final.csv')\n",
        "\n",
        "# Compute predicted overall stress:\n",
        "# If the average of Predicted_mdd and Predicted_Stress is ≥ 0.5 → 1, else 0\n",
        "df['Predicted Overall Stress'] = (\n",
        "    ((df['mdd_pred'] + df['stress_pred']) / 2) >= 0.5\n",
        ").astype(int)\n",
        "\n",
        "# If you also have the actual overall-stress labels:\n",
        "print(\"Classification report for Overall Stress:\")\n",
        "from sklearn.metrics import classification_report\n",
        "print(classification_report(df['Overall_Stress'], df['Predicted Overall Stress']))\n",
        "\n",
        "# Save updated CSV\n",
        "df.to_csv('/content/drive/MyDrive/Synthetic Data/Fusion_With_OverallStress.csv', index=False)\n",
        "print(\"✅ Updated CSV saved with 'Predicted Overall Stress'.\")"
      ],
      "metadata": {
        "colab": {
          "base_uri": "https://localhost:8080/"
        },
        "id": "B_6nlejOWICu",
        "outputId": "2015fafe-2e14-42f1-d37c-6973fc339330"
      },
      "execution_count": 194,
      "outputs": [
        {
          "output_type": "stream",
          "name": "stdout",
          "text": [
            "Classification report for Overall Stress:\n",
            "              precision    recall  f1-score   support\n",
            "\n",
            "           0       0.00      0.00      0.00        23\n",
            "           1       0.77      1.00      0.87        77\n",
            "\n",
            "    accuracy                           0.77       100\n",
            "   macro avg       0.39      0.50      0.44       100\n",
            "weighted avg       0.59      0.77      0.67       100\n",
            "\n",
            "✅ Updated CSV saved with 'Predicted Overall Stress'.\n"
          ]
        },
        {
          "output_type": "stream",
          "name": "stderr",
          "text": [
            "/usr/local/lib/python3.11/dist-packages/sklearn/metrics/_classification.py:1565: UndefinedMetricWarning: Precision is ill-defined and being set to 0.0 in labels with no predicted samples. Use `zero_division` parameter to control this behavior.\n",
            "  _warn_prf(average, modifier, f\"{metric.capitalize()} is\", len(result))\n",
            "/usr/local/lib/python3.11/dist-packages/sklearn/metrics/_classification.py:1565: UndefinedMetricWarning: Precision is ill-defined and being set to 0.0 in labels with no predicted samples. Use `zero_division` parameter to control this behavior.\n",
            "  _warn_prf(average, modifier, f\"{metric.capitalize()} is\", len(result))\n",
            "/usr/local/lib/python3.11/dist-packages/sklearn/metrics/_classification.py:1565: UndefinedMetricWarning: Precision is ill-defined and being set to 0.0 in labels with no predicted samples. Use `zero_division` parameter to control this behavior.\n",
            "  _warn_prf(average, modifier, f\"{metric.capitalize()} is\", len(result))\n"
          ]
        }
      ]
    },
    {
      "cell_type": "code",
      "source": [],
      "metadata": {
        "id": "Z84RrblRbrTq"
      },
      "execution_count": null,
      "outputs": []
    }
  ]
}