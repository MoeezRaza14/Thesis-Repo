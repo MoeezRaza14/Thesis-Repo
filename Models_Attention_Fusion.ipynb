{
  "nbformat": 4,
  "nbformat_minor": 0,
  "metadata": {
    "colab": {
      "provenance": []
    },
    "kernelspec": {
      "name": "python3",
      "display_name": "Python 3"
    },
    "language_info": {
      "name": "python"
    }
  },
  "cells": [
    {
      "cell_type": "markdown",
      "source": [
        "# **Individual Models**"
      ],
      "metadata": {
        "id": "qNNqZbWVf5E6"
      }
    },
    {
      "cell_type": "code",
      "source": [
        "import pandas as pd\n",
        "import numpy as np\n",
        "import tensorflow as tf\n",
        "from tensorflow.keras.models import load_model\n",
        "import chardet\n",
        "import sys\n",
        "from sklearn.metrics import accuracy_score\n",
        "from sklearn.preprocessing import StandardScaler   # ← import scaler\n",
        "\n",
        "# ---- CUSTOM SELF-ATTENTION LAYER ----\n",
        "from tensorflow.keras.layers import Layer\n",
        "import tensorflow.keras.backend as K\n",
        "import keras\n",
        "\n",
        "@keras.saving.register_keras_serializable()\n",
        "class SelfAttentionLayer(Layer):\n",
        "    def __init__(self, D_att, **kwargs):\n",
        "        super(SelfAttentionLayer, self).__init__(**kwargs)\n",
        "        self.D_att = D_att\n",
        "\n",
        "    def build(self, input_shape):\n",
        "        self.Q = self.add_weight(\n",
        "            name      = 'query_vector',\n",
        "            shape     = (1, self.D_att),\n",
        "            initializer = 'random_normal',\n",
        "            trainable = True\n",
        "        )\n",
        "        super(SelfAttentionLayer, self).build(input_shape)\n",
        "\n",
        "    def call(self, inputs):\n",
        "        batch_size      = tf.shape(inputs)[0]\n",
        "        sequence_length = tf.shape(inputs)[1]\n",
        "        Q_expanded      = tf.tile(self.Q, [batch_size, sequence_length, 1])\n",
        "        scores          = K.sum(Q_expanded * inputs, axis=-1)\n",
        "        weights         = tf.keras.activations.softmax(scores)\n",
        "        output          = K.sum(K.expand_dims(weights, -1) * inputs, axis=1)\n",
        "        return output\n",
        "\n",
        "    def compute_output_shape(self, input_shape):\n",
        "        return (input_shape[0], self.D_att)\n",
        "\n",
        "# ---- CONFIGURATION ----\n",
        "DATASET_PATH  = '/content/drive/MyDrive/Synthetic Datasets/Fused_With_Labels 2.csv'\n",
        "OUTPUT_PATH   = '/content/drive/MyDrive/Synthetic Datasets/Fused_data_predicted_labels.csv'\n",
        "MODEL1_PATH   = '/content/drive/MyDrive/Thesis Models/mdd_lstm.h5'\n",
        "MODEL2_PATH   = '/content/drive/MyDrive/Thesis Models/lstm_stress_dryad_model.h5'\n",
        "MODEL3_PATH   = '/content/drive/MyDrive/Thesis Models/rnn_model.h5'\n",
        "\n",
        "# Actual‑label columns\n",
        "ACTUAL_LABEL_COLS = {\n",
        "    'mdd':    'Actual_mdd',\n",
        "    'stress': 'Actual_Stress',\n",
        "    'sphere': 'Actual_sphere'\n",
        "}\n",
        "\n",
        "# 0‑based start columns\n",
        "MODEL_START_COLS = {\n",
        "    'mdd':     0,\n",
        "    'stress':  120,\n",
        "    'sphere':  600\n",
        "}\n",
        "\n",
        "# (timesteps, features) for each\n",
        "MODEL_SHAPES = {\n",
        "    'mdd':     (30, 4),    # 120 cols\n",
        "    'stress':  (10, 48),   # 480 cols\n",
        "    'sphere':  (20, 23)    # 460 cols\n",
        "}\n",
        "\n",
        "# ---- 1. LOAD DATA ----\n",
        "print(f\"Reading dataset from {DATASET_PATH}...\")\n",
        "for enc in ('utf-8', 'utf-8-sig', 'latin1'):\n",
        "    try:\n",
        "        df = pd.read_csv(DATASET_PATH, encoding=enc)\n",
        "        print(f\"→ loaded with encoding={enc!r}, shape={df.shape}\")\n",
        "        break\n",
        "    except Exception:\n",
        "        continue\n",
        "else:\n",
        "    sys.exit(\"ERROR: Could not read CSV with utf-8 / utf-8-sig / latin1\")\n",
        "\n",
        "# ---- 2. SCALE STRESS BLOCK ----\n",
        "# standardize the 480 stress columns before feeding to model2\n",
        "s_start       = MODEL_START_COLS['stress']\n",
        "ts, feats     = MODEL_SHAPES['stress']\n",
        "flat2         = ts * feats\n",
        "stress_slice  = df.iloc[:, s_start : s_start + flat2].values\n",
        "scaler_stress = StandardScaler()\n",
        "stress_scaled = scaler_stress.fit_transform(stress_slice)\n",
        "df.iloc[:, s_start : s_start + flat2] = stress_scaled\n",
        "print(f\"→ scaled stress features (cols {s_start}–{s_start+flat2-1})\")\n",
        "\n",
        "# ---- 3. LOAD MODELS ----\n",
        "print(\"\\nLoading models...\")\n",
        "try:\n",
        "    model1 = load_model(MODEL1_PATH, custom_objects={'SelfAttentionLayer': SelfAttentionLayer})\n",
        "    print(\"→ Model 1 loaded\")\n",
        "    model2 = load_model(MODEL2_PATH, custom_objects={'SelfAttentionLayer': SelfAttentionLayer})\n",
        "    print(\"→ Model 2 loaded\")\n",
        "    model3 = load_model(MODEL3_PATH, custom_objects={'SelfAttentionLayer': SelfAttentionLayer})\n",
        "    print(\"→ Model 3 loaded\")\n",
        "except Exception as e:\n",
        "    sys.exit(f\"ERROR loading models: {e}\")\n",
        "\n",
        "# ---- 4. PREDICT & ACCURACY ----\n",
        "out = df.copy()\n",
        "accuracies = {}\n",
        "\n",
        "for name, model in [('mdd', model1), ('stress', model2), ('sphere', model3)]:\n",
        "    ts, features = MODEL_SHAPES[name]\n",
        "    flat_size    = ts * features\n",
        "    start        = MODEL_START_COLS[name]\n",
        "    end_actual   = start + flat_size\n",
        "\n",
        "    print(f\"\\n→ Preparing inputs for '{name}' (using {flat_size} cols: {start}-{end_actual-1})\")\n",
        "\n",
        "    # Extract & reshape\n",
        "    raw = df.iloc[:, start:end_actual].values\n",
        "    if raw.shape[1] != flat_size:\n",
        "        sys.exit(f\"ERROR: '{name}' expected {flat_size} cols but got {raw.shape[1]}\")\n",
        "    X = raw.reshape(-1, ts, features)\n",
        "    print(f\"   • reshaped to {X.shape}\")\n",
        "\n",
        "    # Predict\n",
        "    preds = model.predict(X, batch_size=32, verbose=1)\n",
        "    if preds.ndim == 2 and preds.shape[1] > 1:\n",
        "        labels = np.argmax(preds, axis=1)\n",
        "    else:\n",
        "        labels = preds.flatten().astype(int)\n",
        "\n",
        "    # Remap for stress\n",
        "    if name == 'stress':\n",
        "        labels = np.where(labels == 2, 1, labels)\n",
        "        print(\"   • remapped stress ‘2’→’1’\")\n",
        "\n",
        "    # Attach predictions\n",
        "    col_pred = {\n",
        "        'mdd':    'Predicted_mdd',\n",
        "        'stress': 'Predicted_Stress',\n",
        "        'sphere': 'SPHERE Labels'\n",
        "    }[name]\n",
        "    out[col_pred] = labels\n",
        "\n",
        "    # Compute accuracy\n",
        "    actual_col = ACTUAL_LABEL_COLS[name]\n",
        "    if actual_col in df and not df[actual_col].isnull().any():\n",
        "        acc = accuracy_score(df[actual_col], labels)\n",
        "        accuracies[name] = acc\n",
        "        print(f\"   • {name} accuracy: {acc:.4%}\")\n",
        "    else:\n",
        "        accuracies[name] = None\n",
        "        print(f\"   • skipped accuracy for '{name}' (missing or NaN labels)\")\n",
        "\n",
        "# ---- 5. SAVE & REPORT ----\n",
        "out.to_csv(OUTPUT_PATH, index=False)\n",
        "print(f\"\\n✅ All model predictions saved to: {OUTPUT_PATH}\")\n",
        "print(\"Accuracies:\", accuracies)"
      ],
      "metadata": {
        "colab": {
          "base_uri": "https://localhost:8080/"
        },
        "id": "xIFrJy1oqoc3",
        "outputId": "9bf52802-b892-42cb-90eb-21cde33174d5"
      },
      "execution_count": 3,
      "outputs": [
        {
          "output_type": "stream",
          "name": "stdout",
          "text": [
            "Reading dataset from /content/drive/MyDrive/Synthetic Datasets/Fused_With_Labels 2.csv...\n"
          ]
        },
        {
          "output_type": "stream",
          "name": "stderr",
          "text": [
            "WARNING:absl:Compiled the loaded model, but the compiled metrics have yet to be built. `model.compile_metrics` will be empty until you train or evaluate the model.\n"
          ]
        },
        {
          "output_type": "stream",
          "name": "stdout",
          "text": [
            "→ loaded with encoding='utf-8', shape=(6868, 1065)\n",
            "→ scaled stress features (cols 120–599)\n",
            "\n",
            "Loading models...\n",
            "→ Model 1 loaded\n"
          ]
        },
        {
          "output_type": "stream",
          "name": "stderr",
          "text": [
            "WARNING:absl:Compiled the loaded model, but the compiled metrics have yet to be built. `model.compile_metrics` will be empty until you train or evaluate the model.\n",
            "WARNING:absl:Compiled the loaded model, but the compiled metrics have yet to be built. `model.compile_metrics` will be empty until you train or evaluate the model.\n"
          ]
        },
        {
          "output_type": "stream",
          "name": "stdout",
          "text": [
            "→ Model 2 loaded\n",
            "→ Model 3 loaded\n",
            "\n",
            "→ Preparing inputs for 'mdd' (using 120 cols: 0-119)\n",
            "   • reshaped to (6868, 30, 4)\n",
            "\u001b[1m215/215\u001b[0m \u001b[32m━━━━━━━━━━━━━━━━━━━━\u001b[0m\u001b[37m\u001b[0m \u001b[1m2s\u001b[0m 6ms/step\n",
            "   • mdd accuracy: 91.2784%\n",
            "\n",
            "→ Preparing inputs for 'stress' (using 480 cols: 120-599)\n",
            "   • reshaped to (6868, 10, 48)\n",
            "\u001b[1m215/215\u001b[0m \u001b[32m━━━━━━━━━━━━━━━━━━━━\u001b[0m\u001b[37m\u001b[0m \u001b[1m1s\u001b[0m 5ms/step\n",
            "   • remapped stress ‘2’→’1’\n",
            "   • stress accuracy: 87.2452%\n",
            "\n",
            "→ Preparing inputs for 'sphere' (using 460 cols: 600-1059)\n",
            "   • reshaped to (6868, 20, 23)\n",
            "\u001b[1m215/215\u001b[0m \u001b[32m━━━━━━━━━━━━━━━━━━━━\u001b[0m\u001b[37m\u001b[0m \u001b[1m2s\u001b[0m 9ms/step\n",
            "   • sphere accuracy: 87.6529%\n",
            "\n",
            "✅ All model predictions saved to: /content/drive/MyDrive/Synthetic Datasets/Fused_data_predicted_labels.csv\n",
            "Accuracies: {'mdd': 0.9127839254513687, 'stress': 0.8724519510774607, 'sphere': 0.8765288293535236}\n"
          ]
        }
      ]
    },
    {
      "cell_type": "markdown",
      "source": [
        "# **Individual Model Predictions**"
      ],
      "metadata": {
        "id": "cznap8wHrZ5G"
      }
    },
    {
      "cell_type": "code",
      "source": [
        "import pandas as pd\n",
        "import numpy as np\n",
        "import tensorflow as tf\n",
        "from tensorflow.keras.models import load_model\n",
        "import chardet\n",
        "import sys\n",
        "from sklearn.metrics import accuracy_score\n",
        "from sklearn.preprocessing import StandardScaler   # ← import scaler\n",
        "\n",
        "# ---- CUSTOM SELF-ATTENTION LAYER ----\n",
        "from tensorflow.keras.layers import Layer\n",
        "import tensorflow.keras.backend as K\n",
        "import keras\n",
        "\n",
        "@keras.saving.register_keras_serializable()\n",
        "class SelfAttentionLayer(Layer):\n",
        "    def __init__(self, D_att, **kwargs):\n",
        "        super(SelfAttentionLayer, self).__init__(**kwargs)\n",
        "        self.D_att = D_att\n",
        "\n",
        "    def build(self, input_shape):\n",
        "        self.Q = self.add_weight(\n",
        "            name      = 'query_vector',\n",
        "            shape     = (1, self.D_att),\n",
        "            initializer = 'random_normal',\n",
        "            trainable = True\n",
        "        )\n",
        "        super(SelfAttentionLayer, self).build(input_shape)\n",
        "\n",
        "    def call(self, inputs):\n",
        "        batch_size      = tf.shape(inputs)[0]\n",
        "        sequence_length = tf.shape(inputs)[1]\n",
        "        Q_expanded      = tf.tile(self.Q, [batch_size, sequence_length, 1])\n",
        "        scores          = K.sum(Q_expanded * inputs, axis=-1)\n",
        "        weights         = tf.keras.activations.softmax(scores)\n",
        "        output          = K.sum(K.expand_dims(weights, -1) * inputs, axis=1)\n",
        "        return output\n",
        "\n",
        "    def compute_output_shape(self, input_shape):\n",
        "        return (input_shape[0], self.D_att)\n",
        "\n",
        "# ---- CONFIGURATION ----\n",
        "DATASET_PATH  = '/content/drive/MyDrive/Synthetic Datasets/Fused_With_Labels 2.csv'\n",
        "OUTPUT_PATH   = '/content/drive/MyDrive/Synthetic Datasets/Fused_data_predicted_labels.csv'\n",
        "MODEL1_PATH   = '/content/drive/MyDrive/Thesis Models/mdd_lstm.h5'\n",
        "MODEL2_PATH   = '/content/drive/MyDrive/Thesis Models/lstm_stress_dryad_model.h5'\n",
        "MODEL3_PATH   = '/content/drive/MyDrive/Thesis Models/rnn_model.h5'\n",
        "\n",
        "# Actual‑label columns\n",
        "ACTUAL_LABEL_COLS = {\n",
        "    'mdd':    'Actual_mdd',\n",
        "    'stress': 'Actual_Stress',\n",
        "    'sphere': 'Actual_sphere'\n",
        "}\n",
        "\n",
        "# 0‑based start columns\n",
        "MODEL_START_COLS = {\n",
        "    'mdd':     0,\n",
        "    'stress':  120,\n",
        "    'sphere':  600\n",
        "}\n",
        "\n",
        "# (timesteps, features) for each\n",
        "MODEL_SHAPES = {\n",
        "    'mdd':     (30, 4),    # 120 cols\n",
        "    'stress':  (10, 48),   # 480 cols\n",
        "    'sphere':  (20, 23)    # 460 cols\n",
        "}\n",
        "\n",
        "# ---- 1. LOAD DATA ----\n",
        "print(f\"Reading dataset from {DATASET_PATH}...\")\n",
        "for enc in ('utf-8', 'utf-8-sig', 'latin1'):\n",
        "    try:\n",
        "        df = pd.read_csv(DATASET_PATH, encoding=enc)\n",
        "        print(f\"→ loaded with encoding={enc!r}, shape={df.shape}\")\n",
        "        break\n",
        "    except Exception:\n",
        "        continue\n",
        "else:\n",
        "    sys.exit(\"ERROR: Could not read CSV with utf-8 / utf-8-sig / latin1\")\n",
        "\n",
        "# ---- 2. SCALE STRESS BLOCK ----\n",
        "# standardize the 480 stress columns before feeding to model2\n",
        "s_start       = MODEL_START_COLS['stress']\n",
        "ts, feats     = MODEL_SHAPES['stress']\n",
        "flat2         = ts * feats\n",
        "stress_slice  = df.iloc[:, s_start : s_start + flat2].values\n",
        "scaler_stress = StandardScaler()\n",
        "stress_scaled = scaler_stress.fit_transform(stress_slice)\n",
        "df.iloc[:, s_start : s_start + flat2] = stress_scaled\n",
        "print(f\"→ scaled stress features (cols {s_start}–{s_start+flat2-1})\")\n",
        "\n",
        "# ---- 3. LOAD MODELS ----\n",
        "print(\"\\nLoading models...\")\n",
        "try:\n",
        "    model1 = load_model(MODEL1_PATH, custom_objects={'SelfAttentionLayer': SelfAttentionLayer})\n",
        "    print(\"→ Model 1 loaded\")\n",
        "    model2 = load_model(MODEL2_PATH, custom_objects={'SelfAttentionLayer': SelfAttentionLayer})\n",
        "    print(\"→ Model 2 loaded\")\n",
        "    model3 = load_model(MODEL3_PATH, custom_objects={'SelfAttentionLayer': SelfAttentionLayer})\n",
        "    print(\"→ Model 3 loaded\")\n",
        "except Exception as e:\n",
        "    sys.exit(f\"ERROR loading models: {e}\")\n",
        "\n",
        "# ---- 4. PREDICT & ACCURACY ----\n",
        "out = df.copy()\n",
        "accuracies = {}\n",
        "\n",
        "for name, model in [('mdd', model1), ('stress', model2), ('sphere', model3)]:\n",
        "    ts, features = MODEL_SHAPES[name]\n",
        "    flat_size    = ts * features\n",
        "    start        = MODEL_START_COLS[name]\n",
        "    end_actual   = start + flat_size\n",
        "\n",
        "    print(f\"\\n→ Preparing inputs for '{name}' (using {flat_size} cols: {start}-{end_actual-1})\")\n",
        "\n",
        "    # Extract & reshape\n",
        "    raw = df.iloc[:, start:end_actual].values\n",
        "    if raw.shape[1] != flat_size:\n",
        "        sys.exit(f\"ERROR: '{name}' expected {flat_size} cols but got {raw.shape[1]}\")\n",
        "    X = raw.reshape(-1, ts, features)\n",
        "    print(f\"   • reshaped to {X.shape}\")\n",
        "\n",
        "    # Predict\n",
        "    preds = model.predict(X, batch_size=32, verbose=1)\n",
        "    if preds.ndim == 2 and preds.shape[1] > 1:\n",
        "        labels = np.argmax(preds, axis=1)\n",
        "    else:\n",
        "        labels = preds.flatten().astype(int)\n",
        "\n",
        "    # Remap for stress\n",
        "    if name == 'stress':\n",
        "        labels = np.where(labels == 2, 1, labels)\n",
        "        print(\"   • remapped stress ‘2’→’1’\")\n",
        "\n",
        "    # Attach predictions\n",
        "    col_pred = {\n",
        "        'mdd':    'Predicted_mdd',\n",
        "        'stress': 'Predicted_Stress',\n",
        "        'sphere': 'SPHERE Labels'\n",
        "    }[name]\n",
        "    out[col_pred] = labels\n",
        "\n",
        "    # Compute accuracy\n",
        "    actual_col = ACTUAL_LABEL_COLS[name]\n",
        "    if actual_col in df and not df[actual_col].isnull().any():\n",
        "        acc = accuracy_score(df[actual_col], labels)\n",
        "        accuracies[name] = acc\n",
        "        print(f\"   • {name} accuracy: {acc:.4%}\")\n",
        "    else:\n",
        "        accuracies[name] = None\n",
        "        print(f\"   • skipped accuracy for '{name}' (missing or NaN labels)\")\n",
        "\n",
        "# ---- 5. SAVE & REPORT ----\n",
        "out.to_csv(OUTPUT_PATH, index=False)\n",
        "print(f\"\\n✅ All model predictions saved to: {OUTPUT_PATH}\")\n",
        "print(\"Accuracies:\", accuracies)"
      ],
      "metadata": {
        "colab": {
          "base_uri": "https://localhost:8080/"
        },
        "outputId": "45bd6de5-6676-4113-d69b-f6940e4e903b",
        "id": "E-dp4_QHi2G8"
      },
      "execution_count": null,
      "outputs": [
        {
          "output_type": "stream",
          "name": "stdout",
          "text": [
            "Reading dataset from /content/drive/MyDrive/Synthetic Datasets/Fused_With_Labels 2.csv...\n",
            "→ loaded with encoding='utf-8', shape=(6868, 1065)\n",
            "→ scaled stress features (cols 120–599)\n",
            "\n",
            "Loading models...\n"
          ]
        },
        {
          "output_type": "stream",
          "name": "stderr",
          "text": [
            "WARNING:absl:Compiled the loaded model, but the compiled metrics have yet to be built. `model.compile_metrics` will be empty until you train or evaluate the model.\n"
          ]
        },
        {
          "output_type": "stream",
          "name": "stdout",
          "text": [
            "→ Model 1 loaded\n"
          ]
        },
        {
          "output_type": "stream",
          "name": "stderr",
          "text": [
            "WARNING:absl:Compiled the loaded model, but the compiled metrics have yet to be built. `model.compile_metrics` will be empty until you train or evaluate the model.\n"
          ]
        },
        {
          "output_type": "stream",
          "name": "stdout",
          "text": [
            "→ Model 2 loaded\n"
          ]
        },
        {
          "output_type": "stream",
          "name": "stderr",
          "text": [
            "WARNING:absl:Compiled the loaded model, but the compiled metrics have yet to be built. `model.compile_metrics` will be empty until you train or evaluate the model.\n"
          ]
        },
        {
          "output_type": "stream",
          "name": "stdout",
          "text": [
            "→ Model 3 loaded\n",
            "\n",
            "→ Preparing inputs for 'mdd' (using 120 cols: 0-119)\n",
            "   • reshaped to (6868, 30, 4)\n",
            "\u001b[1m215/215\u001b[0m \u001b[32m━━━━━━━━━━━━━━━━━━━━\u001b[0m\u001b[37m\u001b[0m \u001b[1m2s\u001b[0m 8ms/step\n",
            "   • mdd accuracy: 91.2784%\n",
            "\n",
            "→ Preparing inputs for 'stress' (using 480 cols: 120-599)\n",
            "   • reshaped to (6868, 10, 48)\n",
            "\u001b[1m215/215\u001b[0m \u001b[32m━━━━━━━━━━━━━━━━━━━━\u001b[0m\u001b[37m\u001b[0m \u001b[1m1s\u001b[0m 4ms/step\n",
            "   • remapped stress ‘2’→’1’\n",
            "   • stress accuracy: 87.2452%\n",
            "\n",
            "→ Preparing inputs for 'sphere' (using 460 cols: 600-1059)\n",
            "   • reshaped to (6868, 20, 23)\n",
            "\u001b[1m215/215\u001b[0m \u001b[32m━━━━━━━━━━━━━━━━━━━━\u001b[0m\u001b[37m\u001b[0m \u001b[1m2s\u001b[0m 9ms/step\n",
            "   • sphere accuracy: 87.6529%\n",
            "\n",
            "✅ All model predictions saved to: /content/drive/MyDrive/Synthetic Datasets/Fused_data_predicted_labels.csv\n",
            "Accuracies: {'mdd': 0.9127839254513687, 'stress': 0.8724519510774607, 'sphere': 0.8765288293535236}\n"
          ]
        }
      ]
    },
    {
      "cell_type": "code",
      "source": [
        "df = pd.read_csv('/content/drive/MyDrive/Synthetic Datasets/Fused_data_predicted_labels.csv')\n",
        "df['Actual_Overall_Stress'] = ((df['Actual_mdd'] + df['Actual_Stress']) / 2 >= 0.5).astype(int)"
      ],
      "metadata": {
        "id": "nWGIJdScVWJR"
      },
      "execution_count": null,
      "outputs": []
    },
    {
      "cell_type": "markdown",
      "source": [
        "# **Simple Attention Fusion**"
      ],
      "metadata": {
        "id": "XEFOLRFKxZdm"
      }
    },
    {
      "cell_type": "code",
      "source": [
        "import pandas as pd\n",
        "import numpy as np\n",
        "import tensorflow as tf\n",
        "from tensorflow.keras.models import Model\n",
        "from tensorflow.keras.layers import Input, Dense, Softmax, Multiply, Lambda\n",
        "import tensorflow.keras.backend as K\n",
        "from sklearn.model_selection import train_test_split\n",
        "from tensorflow.keras.utils import to_categorical\n",
        "\n",
        "# ---- 1. LOAD CSV ----\n",
        "df = pd.read_csv('/content/drive/MyDrive/Synthetic Datasets/Fused_With_Labels 2.csv')\n",
        "\n",
        "# ---- 2. EXTRACT & ONE‑HOT ENCODE EACH PREDICTION SERIES ----\n",
        "m1 = df['Actual_mdd'].astype(int).values\n",
        "m2 = df['Actual_Stress'].astype(int).values\n",
        "m3 = df['Actual_sphere'].astype(int).values\n",
        "\n",
        "# Compute number of classes as the max label+1 across all three\n",
        "n_classes = max(m1.max(), m2.max(), m3.max()) + 1\n",
        "\n",
        "P1 = to_categorical(m1, num_classes=n_classes)   # shape (N, C)\n",
        "P2 = to_categorical(m2, num_classes=n_classes)   # shape (N, C)\n",
        "P3 = to_categorical(m3, num_classes=n_classes)   # shape (N, C)\n",
        "\n",
        "# ---- 3. STACK INTO META‑INPUT ----\n",
        "# axis=1 will give shape (N, 3, C)\n",
        "X_meta = np.stack([P1, P2, P3], axis=1)\n",
        "\n",
        "# If you have a separate ground‑truth column, say `Final_Truth`, load and one‑hot that too:\n",
        "y = df['Actual_sphere'].astype(int).values\n",
        "y_meta = to_categorical(y, num_classes=n_classes)\n",
        "\n",
        "# ---- 4. SPLIT TRAIN/VAL ----\n",
        "X_tr, X_val, y_tr, y_val = train_test_split(\n",
        "    X_meta, y_meta, test_size=0.2, random_state=42, stratify=y\n",
        ")\n",
        "\n",
        "# ---- 5. BUILD ATTENTION‑FUSION MODEL ----\n",
        "inp = Input(shape=(3, n_classes), name='meta_input')\n",
        "# score each slot → (None,3,1)\n",
        "scores = Dense(1, name='att_score')(inp)\n",
        "# squeeze out the last dim → (None,3)\n",
        "scores = Lambda(lambda x: K.squeeze(x, -1), name='att_squeeze')(scores)\n",
        "# normalize across the 3 models → (None,3)\n",
        "weights = Softmax(axis=1, name='att_softmax')(scores)\n",
        "# expand back → (None,3,1)\n",
        "weights_exp = Lambda(lambda x: K.expand_dims(x, -1), name='att_expand')(weights)\n",
        "# weight the prob vectors → (None,3,C)\n",
        "weighted = Multiply(name='att_mul')([inp, weights_exp])\n",
        "\n",
        "# sum across the 3 models → (None,C)\n",
        "fused_vec = Lambda(\n",
        "    lambda x: K.sum(x, axis=1),\n",
        "    output_shape=lambda input_shape: (input_shape[0], input_shape[2]),\n",
        "    name='att_fused'\n",
        ")(weighted)\n",
        "\n",
        "# optional final Dense for refined softmax\n",
        "out = Dense(n_classes, activation='softmax', name='final_softmax')(fused_vec)\n",
        "\n",
        "fusion_model = Model(inputs=inp, outputs=out, name='attention_fusion')\n",
        "fusion_model.compile(\n",
        "    optimizer='adam',\n",
        "    loss='categorical_crossentropy',\n",
        "    metrics=['accuracy']\n",
        ")\n",
        "fusion_model.summary()\n",
        "\n",
        "# ---- 6. TRAIN ----\n",
        "fusion_model.fit(\n",
        "    X_tr, y_tr,\n",
        "    validation_data=(X_val, y_val),\n",
        "    epochs=30,\n",
        "    batch_size=16,\n",
        "    callbacks=[tf.keras.callbacks.EarlyStopping(patience=2, restore_best_weights=True)]\n",
        ")\n",
        "\n",
        "# ---- 7. SAVE ----\n",
        "fusion_model.save('/content/attention_fusion_from_preds.h5')\n",
        "print(\"Saved fused attention‐model to disk.\")"
      ],
      "metadata": {
        "colab": {
          "base_uri": "https://localhost:8080/",
          "height": 1000
        },
        "id": "VYTL1s3orb-O",
        "outputId": "9bd2d065-6b2a-459c-c125-ae630da106be"
      },
      "execution_count": null,
      "outputs": [
        {
          "output_type": "display_data",
          "data": {
            "text/plain": [
              "\u001b[1mModel: \"attention_fusion\"\u001b[0m\n"
            ],
            "text/html": [
              "<pre style=\"white-space:pre;overflow-x:auto;line-height:normal;font-family:Menlo,'DejaVu Sans Mono',consolas,'Courier New',monospace\"><span style=\"font-weight: bold\">Model: \"attention_fusion\"</span>\n",
              "</pre>\n"
            ]
          },
          "metadata": {}
        },
        {
          "output_type": "display_data",
          "data": {
            "text/plain": [
              "┏━━━━━━━━━━━━━━━━━━━━━┳━━━━━━━━━━━━━━━━━━━┳━━━━━━━━━━━━┳━━━━━━━━━━━━━━━━━━━┓\n",
              "┃\u001b[1m \u001b[0m\u001b[1mLayer (type)       \u001b[0m\u001b[1m \u001b[0m┃\u001b[1m \u001b[0m\u001b[1mOutput Shape     \u001b[0m\u001b[1m \u001b[0m┃\u001b[1m \u001b[0m\u001b[1m   Param #\u001b[0m\u001b[1m \u001b[0m┃\u001b[1m \u001b[0m\u001b[1mConnected to     \u001b[0m\u001b[1m \u001b[0m┃\n",
              "┡━━━━━━━━━━━━━━━━━━━━━╇━━━━━━━━━━━━━━━━━━━╇━━━━━━━━━━━━╇━━━━━━━━━━━━━━━━━━━┩\n",
              "│ meta_input          │ (\u001b[38;5;45mNone\u001b[0m, \u001b[38;5;34m3\u001b[0m, \u001b[38;5;34m20\u001b[0m)     │          \u001b[38;5;34m0\u001b[0m │ -                 │\n",
              "│ (\u001b[38;5;33mInputLayer\u001b[0m)        │                   │            │                   │\n",
              "├─────────────────────┼───────────────────┼────────────┼───────────────────┤\n",
              "│ att_score (\u001b[38;5;33mDense\u001b[0m)   │ (\u001b[38;5;45mNone\u001b[0m, \u001b[38;5;34m3\u001b[0m, \u001b[38;5;34m1\u001b[0m)      │         \u001b[38;5;34m21\u001b[0m │ meta_input[\u001b[38;5;34m0\u001b[0m][\u001b[38;5;34m0\u001b[0m]  │\n",
              "├─────────────────────┼───────────────────┼────────────┼───────────────────┤\n",
              "│ att_squeeze         │ (\u001b[38;5;45mNone\u001b[0m, \u001b[38;5;34m3\u001b[0m)         │          \u001b[38;5;34m0\u001b[0m │ att_score[\u001b[38;5;34m0\u001b[0m][\u001b[38;5;34m0\u001b[0m]   │\n",
              "│ (\u001b[38;5;33mLambda\u001b[0m)            │                   │            │                   │\n",
              "├─────────────────────┼───────────────────┼────────────┼───────────────────┤\n",
              "│ att_softmax         │ (\u001b[38;5;45mNone\u001b[0m, \u001b[38;5;34m3\u001b[0m)         │          \u001b[38;5;34m0\u001b[0m │ att_squeeze[\u001b[38;5;34m0\u001b[0m][\u001b[38;5;34m0\u001b[0m] │\n",
              "│ (\u001b[38;5;33mSoftmax\u001b[0m)           │                   │            │                   │\n",
              "├─────────────────────┼───────────────────┼────────────┼───────────────────┤\n",
              "│ att_expand (\u001b[38;5;33mLambda\u001b[0m) │ (\u001b[38;5;45mNone\u001b[0m, \u001b[38;5;34m3\u001b[0m, \u001b[38;5;34m1\u001b[0m)      │          \u001b[38;5;34m0\u001b[0m │ att_softmax[\u001b[38;5;34m0\u001b[0m][\u001b[38;5;34m0\u001b[0m] │\n",
              "├─────────────────────┼───────────────────┼────────────┼───────────────────┤\n",
              "│ att_mul (\u001b[38;5;33mMultiply\u001b[0m)  │ (\u001b[38;5;45mNone\u001b[0m, \u001b[38;5;34m3\u001b[0m, \u001b[38;5;34m20\u001b[0m)     │          \u001b[38;5;34m0\u001b[0m │ meta_input[\u001b[38;5;34m0\u001b[0m][\u001b[38;5;34m0\u001b[0m], │\n",
              "│                     │                   │            │ att_expand[\u001b[38;5;34m0\u001b[0m][\u001b[38;5;34m0\u001b[0m]  │\n",
              "├─────────────────────┼───────────────────┼────────────┼───────────────────┤\n",
              "│ att_fused (\u001b[38;5;33mLambda\u001b[0m)  │ (\u001b[38;5;45mNone\u001b[0m, \u001b[38;5;34m20\u001b[0m)        │          \u001b[38;5;34m0\u001b[0m │ att_mul[\u001b[38;5;34m0\u001b[0m][\u001b[38;5;34m0\u001b[0m]     │\n",
              "├─────────────────────┼───────────────────┼────────────┼───────────────────┤\n",
              "│ final_softmax       │ (\u001b[38;5;45mNone\u001b[0m, \u001b[38;5;34m20\u001b[0m)        │        \u001b[38;5;34m420\u001b[0m │ att_fused[\u001b[38;5;34m0\u001b[0m][\u001b[38;5;34m0\u001b[0m]   │\n",
              "│ (\u001b[38;5;33mDense\u001b[0m)             │                   │            │                   │\n",
              "└─────────────────────┴───────────────────┴────────────┴───────────────────┘\n"
            ],
            "text/html": [
              "<pre style=\"white-space:pre;overflow-x:auto;line-height:normal;font-family:Menlo,'DejaVu Sans Mono',consolas,'Courier New',monospace\">┏━━━━━━━━━━━━━━━━━━━━━┳━━━━━━━━━━━━━━━━━━━┳━━━━━━━━━━━━┳━━━━━━━━━━━━━━━━━━━┓\n",
              "┃<span style=\"font-weight: bold\"> Layer (type)        </span>┃<span style=\"font-weight: bold\"> Output Shape      </span>┃<span style=\"font-weight: bold\">    Param # </span>┃<span style=\"font-weight: bold\"> Connected to      </span>┃\n",
              "┡━━━━━━━━━━━━━━━━━━━━━╇━━━━━━━━━━━━━━━━━━━╇━━━━━━━━━━━━╇━━━━━━━━━━━━━━━━━━━┩\n",
              "│ meta_input          │ (<span style=\"color: #00d7ff; text-decoration-color: #00d7ff\">None</span>, <span style=\"color: #00af00; text-decoration-color: #00af00\">3</span>, <span style=\"color: #00af00; text-decoration-color: #00af00\">20</span>)     │          <span style=\"color: #00af00; text-decoration-color: #00af00\">0</span> │ -                 │\n",
              "│ (<span style=\"color: #0087ff; text-decoration-color: #0087ff\">InputLayer</span>)        │                   │            │                   │\n",
              "├─────────────────────┼───────────────────┼────────────┼───────────────────┤\n",
              "│ att_score (<span style=\"color: #0087ff; text-decoration-color: #0087ff\">Dense</span>)   │ (<span style=\"color: #00d7ff; text-decoration-color: #00d7ff\">None</span>, <span style=\"color: #00af00; text-decoration-color: #00af00\">3</span>, <span style=\"color: #00af00; text-decoration-color: #00af00\">1</span>)      │         <span style=\"color: #00af00; text-decoration-color: #00af00\">21</span> │ meta_input[<span style=\"color: #00af00; text-decoration-color: #00af00\">0</span>][<span style=\"color: #00af00; text-decoration-color: #00af00\">0</span>]  │\n",
              "├─────────────────────┼───────────────────┼────────────┼───────────────────┤\n",
              "│ att_squeeze         │ (<span style=\"color: #00d7ff; text-decoration-color: #00d7ff\">None</span>, <span style=\"color: #00af00; text-decoration-color: #00af00\">3</span>)         │          <span style=\"color: #00af00; text-decoration-color: #00af00\">0</span> │ att_score[<span style=\"color: #00af00; text-decoration-color: #00af00\">0</span>][<span style=\"color: #00af00; text-decoration-color: #00af00\">0</span>]   │\n",
              "│ (<span style=\"color: #0087ff; text-decoration-color: #0087ff\">Lambda</span>)            │                   │            │                   │\n",
              "├─────────────────────┼───────────────────┼────────────┼───────────────────┤\n",
              "│ att_softmax         │ (<span style=\"color: #00d7ff; text-decoration-color: #00d7ff\">None</span>, <span style=\"color: #00af00; text-decoration-color: #00af00\">3</span>)         │          <span style=\"color: #00af00; text-decoration-color: #00af00\">0</span> │ att_squeeze[<span style=\"color: #00af00; text-decoration-color: #00af00\">0</span>][<span style=\"color: #00af00; text-decoration-color: #00af00\">0</span>] │\n",
              "│ (<span style=\"color: #0087ff; text-decoration-color: #0087ff\">Softmax</span>)           │                   │            │                   │\n",
              "├─────────────────────┼───────────────────┼────────────┼───────────────────┤\n",
              "│ att_expand (<span style=\"color: #0087ff; text-decoration-color: #0087ff\">Lambda</span>) │ (<span style=\"color: #00d7ff; text-decoration-color: #00d7ff\">None</span>, <span style=\"color: #00af00; text-decoration-color: #00af00\">3</span>, <span style=\"color: #00af00; text-decoration-color: #00af00\">1</span>)      │          <span style=\"color: #00af00; text-decoration-color: #00af00\">0</span> │ att_softmax[<span style=\"color: #00af00; text-decoration-color: #00af00\">0</span>][<span style=\"color: #00af00; text-decoration-color: #00af00\">0</span>] │\n",
              "├─────────────────────┼───────────────────┼────────────┼───────────────────┤\n",
              "│ att_mul (<span style=\"color: #0087ff; text-decoration-color: #0087ff\">Multiply</span>)  │ (<span style=\"color: #00d7ff; text-decoration-color: #00d7ff\">None</span>, <span style=\"color: #00af00; text-decoration-color: #00af00\">3</span>, <span style=\"color: #00af00; text-decoration-color: #00af00\">20</span>)     │          <span style=\"color: #00af00; text-decoration-color: #00af00\">0</span> │ meta_input[<span style=\"color: #00af00; text-decoration-color: #00af00\">0</span>][<span style=\"color: #00af00; text-decoration-color: #00af00\">0</span>], │\n",
              "│                     │                   │            │ att_expand[<span style=\"color: #00af00; text-decoration-color: #00af00\">0</span>][<span style=\"color: #00af00; text-decoration-color: #00af00\">0</span>]  │\n",
              "├─────────────────────┼───────────────────┼────────────┼───────────────────┤\n",
              "│ att_fused (<span style=\"color: #0087ff; text-decoration-color: #0087ff\">Lambda</span>)  │ (<span style=\"color: #00d7ff; text-decoration-color: #00d7ff\">None</span>, <span style=\"color: #00af00; text-decoration-color: #00af00\">20</span>)        │          <span style=\"color: #00af00; text-decoration-color: #00af00\">0</span> │ att_mul[<span style=\"color: #00af00; text-decoration-color: #00af00\">0</span>][<span style=\"color: #00af00; text-decoration-color: #00af00\">0</span>]     │\n",
              "├─────────────────────┼───────────────────┼────────────┼───────────────────┤\n",
              "│ final_softmax       │ (<span style=\"color: #00d7ff; text-decoration-color: #00d7ff\">None</span>, <span style=\"color: #00af00; text-decoration-color: #00af00\">20</span>)        │        <span style=\"color: #00af00; text-decoration-color: #00af00\">420</span> │ att_fused[<span style=\"color: #00af00; text-decoration-color: #00af00\">0</span>][<span style=\"color: #00af00; text-decoration-color: #00af00\">0</span>]   │\n",
              "│ (<span style=\"color: #0087ff; text-decoration-color: #0087ff\">Dense</span>)             │                   │            │                   │\n",
              "└─────────────────────┴───────────────────┴────────────┴───────────────────┘\n",
              "</pre>\n"
            ]
          },
          "metadata": {}
        },
        {
          "output_type": "display_data",
          "data": {
            "text/plain": [
              "\u001b[1m Total params: \u001b[0m\u001b[38;5;34m441\u001b[0m (1.72 KB)\n"
            ],
            "text/html": [
              "<pre style=\"white-space:pre;overflow-x:auto;line-height:normal;font-family:Menlo,'DejaVu Sans Mono',consolas,'Courier New',monospace\"><span style=\"font-weight: bold\"> Total params: </span><span style=\"color: #00af00; text-decoration-color: #00af00\">441</span> (1.72 KB)\n",
              "</pre>\n"
            ]
          },
          "metadata": {}
        },
        {
          "output_type": "display_data",
          "data": {
            "text/plain": [
              "\u001b[1m Trainable params: \u001b[0m\u001b[38;5;34m441\u001b[0m (1.72 KB)\n"
            ],
            "text/html": [
              "<pre style=\"white-space:pre;overflow-x:auto;line-height:normal;font-family:Menlo,'DejaVu Sans Mono',consolas,'Courier New',monospace\"><span style=\"font-weight: bold\"> Trainable params: </span><span style=\"color: #00af00; text-decoration-color: #00af00\">441</span> (1.72 KB)\n",
              "</pre>\n"
            ]
          },
          "metadata": {}
        },
        {
          "output_type": "display_data",
          "data": {
            "text/plain": [
              "\u001b[1m Non-trainable params: \u001b[0m\u001b[38;5;34m0\u001b[0m (0.00 B)\n"
            ],
            "text/html": [
              "<pre style=\"white-space:pre;overflow-x:auto;line-height:normal;font-family:Menlo,'DejaVu Sans Mono',consolas,'Courier New',monospace\"><span style=\"font-weight: bold\"> Non-trainable params: </span><span style=\"color: #00af00; text-decoration-color: #00af00\">0</span> (0.00 B)\n",
              "</pre>\n"
            ]
          },
          "metadata": {}
        },
        {
          "output_type": "stream",
          "name": "stdout",
          "text": [
            "Epoch 1/30\n",
            "\u001b[1m344/344\u001b[0m \u001b[32m━━━━━━━━━━━━━━━━━━━━\u001b[0m\u001b[37m\u001b[0m \u001b[1m2s\u001b[0m 4ms/step - accuracy: 0.3586 - loss: 2.7409 - val_accuracy: 0.4396 - val_loss: 2.2148\n",
            "Epoch 2/30\n",
            "\u001b[1m344/344\u001b[0m \u001b[32m━━━━━━━━━━━━━━━━━━━━\u001b[0m\u001b[37m\u001b[0m \u001b[1m1s\u001b[0m 3ms/step - accuracy: 0.5371 - loss: 2.0604 - val_accuracy: 0.8348 - val_loss: 1.5846\n",
            "Epoch 3/30\n",
            "\u001b[1m344/344\u001b[0m \u001b[32m━━━━━━━━━━━━━━━━━━━━\u001b[0m\u001b[37m\u001b[0m \u001b[1m1s\u001b[0m 4ms/step - accuracy: 0.8732 - loss: 1.4343 - val_accuracy: 0.8843 - val_loss: 1.0486\n",
            "Epoch 4/30\n",
            "\u001b[1m344/344\u001b[0m \u001b[32m━━━━━━━━━━━━━━━━━━━━\u001b[0m\u001b[37m\u001b[0m \u001b[1m2s\u001b[0m 2ms/step - accuracy: 0.9040 - loss: 0.9589 - val_accuracy: 0.9083 - val_loss: 0.7331\n",
            "Epoch 5/30\n",
            "\u001b[1m344/344\u001b[0m \u001b[32m━━━━━━━━━━━━━━━━━━━━\u001b[0m\u001b[37m\u001b[0m \u001b[1m1s\u001b[0m 2ms/step - accuracy: 0.9118 - loss: 0.6786 - val_accuracy: 0.9243 - val_loss: 0.5546\n",
            "Epoch 6/30\n",
            "\u001b[1m344/344\u001b[0m \u001b[32m━━━━━━━━━━━━━━━━━━━━\u001b[0m\u001b[37m\u001b[0m \u001b[1m1s\u001b[0m 2ms/step - accuracy: 0.9237 - loss: 0.5228 - val_accuracy: 0.9243 - val_loss: 0.4438\n",
            "Epoch 7/30\n",
            "\u001b[1m344/344\u001b[0m \u001b[32m━━━━━━━━━━━━━━━━━━━━\u001b[0m\u001b[37m\u001b[0m \u001b[1m1s\u001b[0m 2ms/step - accuracy: 0.9236 - loss: 0.4320 - val_accuracy: 0.9447 - val_loss: 0.3672\n",
            "Epoch 8/30\n",
            "\u001b[1m344/344\u001b[0m \u001b[32m━━━━━━━━━━━━━━━━━━━━\u001b[0m\u001b[37m\u001b[0m \u001b[1m1s\u001b[0m 2ms/step - accuracy: 0.9505 - loss: 0.3432 - val_accuracy: 0.9571 - val_loss: 0.3106\n",
            "Epoch 9/30\n",
            "\u001b[1m344/344\u001b[0m \u001b[32m━━━━━━━━━━━━━━━━━━━━\u001b[0m\u001b[37m\u001b[0m \u001b[1m1s\u001b[0m 2ms/step - accuracy: 0.9535 - loss: 0.3120 - val_accuracy: 0.9622 - val_loss: 0.2662\n",
            "Epoch 10/30\n",
            "\u001b[1m344/344\u001b[0m \u001b[32m━━━━━━━━━━━━━━━━━━━━\u001b[0m\u001b[37m\u001b[0m \u001b[1m1s\u001b[0m 2ms/step - accuracy: 0.9618 - loss: 0.2611 - val_accuracy: 0.9753 - val_loss: 0.2301\n",
            "Epoch 11/30\n",
            "\u001b[1m344/344\u001b[0m \u001b[32m━━━━━━━━━━━━━━━━━━━━\u001b[0m\u001b[37m\u001b[0m \u001b[1m1s\u001b[0m 2ms/step - accuracy: 0.9766 - loss: 0.2179 - val_accuracy: 0.9753 - val_loss: 0.1998\n",
            "Epoch 12/30\n",
            "\u001b[1m344/344\u001b[0m \u001b[32m━━━━━━━━━━━━━━━━━━━━\u001b[0m\u001b[37m\u001b[0m \u001b[1m1s\u001b[0m 3ms/step - accuracy: 0.9814 - loss: 0.1923 - val_accuracy: 0.9854 - val_loss: 0.1742\n",
            "Epoch 13/30\n",
            "\u001b[1m344/344\u001b[0m \u001b[32m━━━━━━━━━━━━━━━━━━━━\u001b[0m\u001b[37m\u001b[0m \u001b[1m1s\u001b[0m 4ms/step - accuracy: 0.9866 - loss: 0.1721 - val_accuracy: 0.9854 - val_loss: 0.1522\n",
            "Epoch 14/30\n",
            "\u001b[1m344/344\u001b[0m \u001b[32m━━━━━━━━━━━━━━━━━━━━\u001b[0m\u001b[37m\u001b[0m \u001b[1m1s\u001b[0m 3ms/step - accuracy: 0.9854 - loss: 0.1510 - val_accuracy: 0.9854 - val_loss: 0.1329\n",
            "Epoch 15/30\n",
            "\u001b[1m344/344\u001b[0m \u001b[32m━━━━━━━━━━━━━━━━━━━━\u001b[0m\u001b[37m\u001b[0m \u001b[1m1s\u001b[0m 2ms/step - accuracy: 0.9865 - loss: 0.1236 - val_accuracy: 0.9854 - val_loss: 0.1162\n",
            "Epoch 16/30\n",
            "\u001b[1m344/344\u001b[0m \u001b[32m━━━━━━━━━━━━━━━━━━━━\u001b[0m\u001b[37m\u001b[0m \u001b[1m1s\u001b[0m 2ms/step - accuracy: 0.9851 - loss: 0.1187 - val_accuracy: 0.9854 - val_loss: 0.1017\n",
            "Epoch 17/30\n",
            "\u001b[1m344/344\u001b[0m \u001b[32m━━━━━━━━━━━━━━━━━━━━\u001b[0m\u001b[37m\u001b[0m \u001b[1m1s\u001b[0m 2ms/step - accuracy: 0.9839 - loss: 0.1070 - val_accuracy: 0.9876 - val_loss: 0.0891\n",
            "Epoch 18/30\n",
            "\u001b[1m344/344\u001b[0m \u001b[32m━━━━━━━━━━━━━━━━━━━━\u001b[0m\u001b[37m\u001b[0m \u001b[1m1s\u001b[0m 2ms/step - accuracy: 0.9885 - loss: 0.0840 - val_accuracy: 0.9876 - val_loss: 0.0779\n",
            "Epoch 19/30\n",
            "\u001b[1m344/344\u001b[0m \u001b[32m━━━━━━━━━━━━━━━━━━━━\u001b[0m\u001b[37m\u001b[0m \u001b[1m1s\u001b[0m 2ms/step - accuracy: 0.9906 - loss: 0.0756 - val_accuracy: 0.9949 - val_loss: 0.0683\n",
            "Epoch 20/30\n",
            "\u001b[1m344/344\u001b[0m \u001b[32m━━━━━━━━━━━━━━━━━━━━\u001b[0m\u001b[37m\u001b[0m \u001b[1m1s\u001b[0m 2ms/step - accuracy: 0.9954 - loss: 0.0659 - val_accuracy: 0.9949 - val_loss: 0.0599\n",
            "Epoch 21/30\n",
            "\u001b[1m344/344\u001b[0m \u001b[32m━━━━━━━━━━━━━━━━━━━━\u001b[0m\u001b[37m\u001b[0m \u001b[1m1s\u001b[0m 2ms/step - accuracy: 0.9943 - loss: 0.0588 - val_accuracy: 0.9949 - val_loss: 0.0527\n",
            "Epoch 22/30\n",
            "\u001b[1m344/344\u001b[0m \u001b[32m━━━━━━━━━━━━━━━━━━━━\u001b[0m\u001b[37m\u001b[0m \u001b[1m1s\u001b[0m 2ms/step - accuracy: 0.9965 - loss: 0.0491 - val_accuracy: 0.9949 - val_loss: 0.0465\n",
            "Epoch 23/30\n",
            "\u001b[1m344/344\u001b[0m \u001b[32m━━━━━━━━━━━━━━━━━━━━\u001b[0m\u001b[37m\u001b[0m \u001b[1m2s\u001b[0m 3ms/step - accuracy: 0.9931 - loss: 0.0482 - val_accuracy: 0.9949 - val_loss: 0.0412\n",
            "Epoch 24/30\n",
            "\u001b[1m344/344\u001b[0m \u001b[32m━━━━━━━━━━━━━━━━━━━━\u001b[0m\u001b[37m\u001b[0m \u001b[1m1s\u001b[0m 3ms/step - accuracy: 0.9969 - loss: 0.0356 - val_accuracy: 0.9949 - val_loss: 0.0366\n",
            "Epoch 25/30\n",
            "\u001b[1m344/344\u001b[0m \u001b[32m━━━━━━━━━━━━━━━━━━━━\u001b[0m\u001b[37m\u001b[0m \u001b[1m1s\u001b[0m 4ms/step - accuracy: 0.9956 - loss: 0.0355 - val_accuracy: 0.9949 - val_loss: 0.0326\n",
            "Epoch 26/30\n",
            "\u001b[1m344/344\u001b[0m \u001b[32m━━━━━━━━━━━━━━━━━━━━\u001b[0m\u001b[37m\u001b[0m \u001b[1m1s\u001b[0m 3ms/step - accuracy: 0.9939 - loss: 0.0354 - val_accuracy: 0.9949 - val_loss: 0.0292\n",
            "Epoch 27/30\n",
            "\u001b[1m344/344\u001b[0m \u001b[32m━━━━━━━━━━━━━━━━━━━━\u001b[0m\u001b[37m\u001b[0m \u001b[1m1s\u001b[0m 2ms/step - accuracy: 0.9941 - loss: 0.0294 - val_accuracy: 0.9949 - val_loss: 0.0263\n",
            "Epoch 28/30\n",
            "\u001b[1m344/344\u001b[0m \u001b[32m━━━━━━━━━━━━━━━━━━━━\u001b[0m\u001b[37m\u001b[0m \u001b[1m1s\u001b[0m 2ms/step - accuracy: 0.9945 - loss: 0.0261 - val_accuracy: 0.9949 - val_loss: 0.0238\n",
            "Epoch 29/30\n",
            "\u001b[1m344/344\u001b[0m \u001b[32m━━━━━━━━━━━━━━━━━━━━\u001b[0m\u001b[37m\u001b[0m \u001b[1m1s\u001b[0m 2ms/step - accuracy: 0.9957 - loss: 0.0225 - val_accuracy: 0.9949 - val_loss: 0.0216\n",
            "Epoch 30/30\n",
            "\u001b[1m344/344\u001b[0m \u001b[32m━━━━━━━━━━━━━━━━━━━━\u001b[0m\u001b[37m\u001b[0m \u001b[1m1s\u001b[0m 2ms/step - accuracy: 0.9948 - loss: 0.0218 - val_accuracy: 0.9949 - val_loss: 0.0197\n"
          ]
        },
        {
          "output_type": "stream",
          "name": "stderr",
          "text": [
            "WARNING:absl:You are saving your model as an HDF5 file via `model.save()` or `keras.saving.save_model(model)`. This file format is considered legacy. We recommend using instead the native Keras format, e.g. `model.save('my_model.keras')` or `keras.saving.save_model(model, 'my_model.keras')`. \n"
          ]
        },
        {
          "output_type": "stream",
          "name": "stdout",
          "text": [
            "Saved fused attention‐model to disk.\n"
          ]
        }
      ]
    },
    {
      "cell_type": "markdown",
      "source": [
        "# **Fusion Model Testing**"
      ],
      "metadata": {
        "id": "2BWAnNoT4nLz"
      }
    },
    {
      "cell_type": "code",
      "source": [
        "import tensorflow.keras.backend as K\n",
        "\n",
        "def squeeze_fn(x):\n",
        "    return K.squeeze(x, axis=-1)\n",
        "\n",
        "def expand_fn(x):\n",
        "    return K.expand_dims(x, axis=-1)\n",
        "\n",
        "def fused_fn(x):\n",
        "    return K.sum(x, axis=1)\n",
        "\n",
        "# 1. Squeeze layer: (None, 3, 1) → (None, 3)\n",
        "scores = Lambda(\n",
        "    squeeze_fn,\n",
        "    output_shape=lambda s: (s[0], s[1]),  # s = (batch, 3, 1) → (batch, 3)\n",
        "    name=\"att_squeeze\"\n",
        ")(scores)\n",
        "\n",
        "# 2. Expand dims: (None, 3) → (None, 3, 1)\n",
        "weights_exp = Lambda(\n",
        "    expand_fn,\n",
        "    output_shape=lambda s: (s[0], s[1], 1),  # payload dims = 1\n",
        "    name=\"att_expand\"\n",
        ")(weights)\n",
        "\n",
        "# 3. Fuse: (None, 3, 1) after weighted → (None, 1)\n",
        "fused_vec = Lambda(\n",
        "    fused_fn,\n",
        "    output_shape=lambda s: (s[0], s[2]),     # now s = (batch, 3, 1), so s[2] = 1\n",
        "    name=\"att_fused\"\n",
        ")(weighted)"
      ],
      "metadata": {
        "id": "zXHUjUxO3xTO"
      },
      "execution_count": null,
      "outputs": []
    },
    {
      "cell_type": "code",
      "source": [
        "fusion_model.save('attention_fusion_from_preds_2.h5')"
      ],
      "metadata": {
        "colab": {
          "base_uri": "https://localhost:8080/"
        },
        "id": "zp_p7goC6uKK",
        "outputId": "6e7ef45a-5004-490a-eb8d-6fb499d61fd4"
      },
      "execution_count": null,
      "outputs": [
        {
          "output_type": "stream",
          "name": "stderr",
          "text": [
            "WARNING:absl:You are saving your model as an HDF5 file via `model.save()` or `keras.saving.save_model(model)`. This file format is considered legacy. We recommend using instead the native Keras format, e.g. `model.save('my_model.keras')` or `keras.saving.save_model(model, 'my_model.keras')`. \n"
          ]
        }
      ]
    },
    {
      "cell_type": "code",
      "source": [
        "fusion_model.save_weights(\"fusion_weights.weights.h5\")"
      ],
      "metadata": {
        "id": "jBcfDYuW7fA_"
      },
      "execution_count": null,
      "outputs": []
    },
    {
      "cell_type": "code",
      "source": [
        "import tensorflow.keras.backend as K\n",
        "from tensorflow.keras.layers import Input, Dense, Softmax, Multiply, Lambda\n",
        "from tensorflow.keras.models import Model\n",
        "\n",
        "# Named functions for Lambda layers\n",
        "def squeeze_fn(x): return K.squeeze(x, axis=-1)\n",
        "def expand_fn(x): return K.expand_dims(x, axis=-1)\n",
        "def fused_fn(x): return K.sum(x, axis=1)\n",
        "\n",
        "n_classes = 20  # Replace with your actual number of classes\n",
        "\n",
        "# Build architecture\n",
        "inp = Input(shape=(3, n_classes), name=\"meta_input\")\n",
        "scores = Dense(1, name=\"att_score\")(inp)\n",
        "scores = Lambda(\n",
        "    squeeze_fn,\n",
        "    output_shape=lambda s: (s[0], s[1]),  # (batch, 3)\n",
        "    name=\"att_squeeze\"\n",
        ")(scores)\n",
        "weights = Softmax(axis=1, name=\"att_softmax\")(scores)\n",
        "weights_exp = Lambda(\n",
        "    expand_fn,\n",
        "    output_shape=lambda s: (s[0], s[1], 1),\n",
        "    name=\"att_expand\"\n",
        ")(weights)\n",
        "weighted = Multiply(name=\"att_mul\")([inp, weights_exp])\n",
        "fused_vec = Lambda(\n",
        "    fused_fn,\n",
        "    output_shape=lambda s: (s[0], s[2]),\n",
        "    name=\"att_fused\"\n",
        ")(weighted)\n",
        "out = Dense(n_classes, activation='softmax', name=\"final_softmax\")(fused_vec)\n",
        "\n",
        "fusion_model = Model(inputs=inp, outputs=out, name=\"attention_fusion\")"
      ],
      "metadata": {
        "id": "HRF6QKfq61mC"
      },
      "execution_count": null,
      "outputs": []
    },
    {
      "cell_type": "code",
      "source": [
        "fusion_model.load_weights(\"/content/fusion_weights.weights.h5\")"
      ],
      "metadata": {
        "id": "Ivxhp6mq70E-"
      },
      "execution_count": null,
      "outputs": []
    },
    {
      "cell_type": "code",
      "source": [
        "df_new = pd.read_csv(\"/content/drive/MyDrive/Synthetic Datasets/Fused_With_Labels 2.csv\")\n",
        "\n",
        "def slice_input(df, start, timesteps, features):\n",
        "    flat = timesteps * features\n",
        "    arr = df.iloc[:, start:start+flat].values\n",
        "    return arr.reshape(-1, timesteps, features)\n",
        "\n",
        "X1_new = slice_input(df_new, start=0,   timesteps=30, features=4)\n",
        "X2_new = slice_input(df_new, start=120, timesteps=10, features=48)\n",
        "X3_new = slice_input(df_new, start=600, timesteps=20, features=23)\n",
        "\n",
        "P1_new = model1.predict(X1_new)\n",
        "P2_new = model2.predict(X2_new)\n",
        "P3_new = model3.predict(X3_new)\n",
        "\n",
        "print(\"P1_new shape:\", P1_new.shape)\n",
        "print(\"P2_new shape:\", P2_new.shape)\n",
        "print(\"P3_new shape:\", P3_new.shape)"
      ],
      "metadata": {
        "colab": {
          "base_uri": "https://localhost:8080/"
        },
        "id": "6NM9FOn-8Jnd",
        "outputId": "63dec9f7-fda9-443d-a892-5446327dffcb"
      },
      "execution_count": null,
      "outputs": [
        {
          "output_type": "stream",
          "name": "stdout",
          "text": [
            "\u001b[1m215/215\u001b[0m \u001b[32m━━━━━━━━━━━━━━━━━━━━\u001b[0m\u001b[37m\u001b[0m \u001b[1m2s\u001b[0m 8ms/step\n",
            "\u001b[1m215/215\u001b[0m \u001b[32m━━━━━━━━━━━━━━━━━━━━\u001b[0m\u001b[37m\u001b[0m \u001b[1m2s\u001b[0m 7ms/step\n",
            "\u001b[1m215/215\u001b[0m \u001b[32m━━━━━━━━━━━━━━━━━━━━\u001b[0m\u001b[37m\u001b[0m \u001b[1m2s\u001b[0m 10ms/step\n",
            "P1_new shape: (6868, 2)\n",
            "P2_new shape: (6868, 3)\n",
            "P3_new shape: (6868, 20)\n"
          ]
        }
      ]
    },
    {
      "cell_type": "code",
      "source": [
        "def pad_to(arr, target_dim):\n",
        "    n, d = arr.shape\n",
        "    if d < target_dim:\n",
        "        pad = np.zeros((n, target_dim - d))\n",
        "        return np.concatenate([arr, pad], axis=1)\n",
        "    return arr\n",
        "\n",
        "target = max(P1_new.shape[1], P2_new.shape[1], P3_new.shape[1])\n",
        "P1_new = pad_to(P1_new, target)\n",
        "P2_new = pad_to(P2_new, target)\n",
        "P3_new = pad_to(P3_new, target)"
      ],
      "metadata": {
        "id": "MLSR5-Ks9LZ3"
      },
      "execution_count": null,
      "outputs": []
    },
    {
      "cell_type": "code",
      "source": [
        "import numpy as np\n",
        "X_meta_new = np.stack([P1_new, P2_new, P3_new], axis=1)\n",
        "# shape = (num_samples, 3, num_classes)\n",
        "final_probs = fusion_model.predict(X_meta_new)\n",
        "final_labels = final_probs.argmax(axis=1)"
      ],
      "metadata": {
        "colab": {
          "base_uri": "https://localhost:8080/"
        },
        "id": "59bIayK79Fb8",
        "outputId": "549eecd6-8010-4a0f-a623-ff7be5e3bdab"
      },
      "execution_count": null,
      "outputs": [
        {
          "output_type": "stream",
          "name": "stdout",
          "text": [
            "\u001b[1m215/215\u001b[0m \u001b[32m━━━━━━━━━━━━━━━━━━━━\u001b[0m\u001b[37m\u001b[0m \u001b[1m0s\u001b[0m 1ms/step\n"
          ]
        }
      ]
    },
    {
      "cell_type": "code",
      "source": [
        "probs = fusion_model.predict(X_meta_new)\n",
        "labels = probs.argmax(axis=1)\n",
        "print(\"Fused predictions:\", labels)"
      ],
      "metadata": {
        "colab": {
          "base_uri": "https://localhost:8080/"
        },
        "id": "txPLUKMX73fd",
        "outputId": "2ba414cc-b9da-489b-d57e-1309fb46ad83"
      },
      "execution_count": null,
      "outputs": [
        {
          "output_type": "stream",
          "name": "stdout",
          "text": [
            "\u001b[1m215/215\u001b[0m \u001b[32m━━━━━━━━━━━━━━━━━━━━\u001b[0m\u001b[37m\u001b[0m \u001b[1m0s\u001b[0m 2ms/step\n",
            "Fused predictions: [ 4  4  4 ... 10 10 10]\n"
          ]
        }
      ]
    },
    {
      "cell_type": "code",
      "source": [
        "y_true = df_new['Actual_sphere'].astype(int).values"
      ],
      "metadata": {
        "id": "VMxtHAKx9Qh6"
      },
      "execution_count": null,
      "outputs": []
    },
    {
      "cell_type": "code",
      "source": [
        "from sklearn.metrics import accuracy_score\n",
        "\n",
        "accuracy = accuracy_score(y_true, final_labels)\n",
        "print(f'Fused model accuracy: {accuracy:.2%}')"
      ],
      "metadata": {
        "colab": {
          "base_uri": "https://localhost:8080/"
        },
        "id": "x1eY-U_J9hhk",
        "outputId": "d0cf2d55-6efb-4560-c40d-8407a5aa194a"
      },
      "execution_count": null,
      "outputs": [
        {
          "output_type": "stream",
          "name": "stdout",
          "text": [
            "Fused model accuracy: 87.68%\n"
          ]
        }
      ]
    },
    {
      "cell_type": "markdown",
      "source": [
        "# **Multi-Output Attention Fusion and Training**"
      ],
      "metadata": {
        "id": "o_svDvtSAjEa"
      }
    },
    {
      "cell_type": "code",
      "source": [
        "import pandas as pd\n",
        "\n",
        "df = pd.read_csv('/content/drive/MyDrive/Synthetic Datasets/Fused_With_Labels 2.csv')"
      ],
      "metadata": {
        "id": "qR0I--xWBipc"
      },
      "execution_count": null,
      "outputs": []
    },
    {
      "cell_type": "code",
      "source": [
        "import tensorflow.keras.backend as K\n",
        "from tensorflow.keras.layers import Input, Dense, Softmax, Multiply, Lambda\n",
        "from tensorflow.keras.models import Model\n",
        "\n",
        "# Define helper Lambda functions\n",
        "def squeeze_fn(x): return K.squeeze(x, axis=-1)\n",
        "def expand_fn(x): return K.expand_dims(x, axis=-1)\n",
        "def fused_fn(x): return K.sum(x, axis=1)\n",
        "\n",
        "# Use the number of classes from the padded input (which is 20 as the SPHERE has labels from 0 to 19)\n",
        "n_classes = 20\n",
        "\n",
        "inp = Input(shape=(3, n_classes), name='meta_input')\n",
        "scores = Dense(1)(inp)\n",
        "scores = Lambda(squeeze_fn, output_shape=lambda s: (s[0], s[1]))(scores)\n",
        "weights = Softmax(axis=1)(scores)\n",
        "weights_exp = Lambda(expand_fn, output_shape=lambda s: (s[0], s[1], 1))(weights)\n",
        "weighted = Multiply()([inp, weights_exp])\n",
        "fused_vec = Lambda(fused_fn, output_shape=lambda s: (s[0], s[2]))(weighted)\n",
        "\n",
        "out_sphere = Dense(n_classes, activation='softmax', name='sphere_out')(fused_vec)\n",
        "out_mdd    = Dense(n_classes, activation='softmax', name='mdd_out')(fused_vec)\n",
        "out_str    = Dense(n_classes, activation='softmax', name='stress_out')(fused_vec)\n",
        "\n",
        "multi_fusion = Model(inp, [out_sphere, out_mdd, out_str])\n",
        "multi_fusion.compile(optimizer='adam',\n",
        "                     loss='categorical_crossentropy',\n",
        "                     metrics=['accuracy'])"
      ],
      "metadata": {
        "id": "a2hayHHd90so"
      },
      "execution_count": null,
      "outputs": []
    },
    {
      "cell_type": "code",
      "source": [
        "from tensorflow.keras.utils import to_categorical\n",
        "\n",
        "sphere = to_categorical(df['Actual_sphere'], num_classes=n_classes)\n",
        "mdd    = to_categorical(df['Actual_mdd'], num_classes=n_classes)\n",
        "stress = to_categorical(df['Actual_Stress'], num_classes=n_classes)\n",
        "\n",
        "y_train = [sphere, mdd, stress]"
      ],
      "metadata": {
        "id": "StCvCCxHAm4Y"
      },
      "execution_count": null,
      "outputs": []
    },
    {
      "cell_type": "code",
      "source": [
        "multi_fusion.compile(\n",
        "    optimizer='adam',\n",
        "    loss={\n",
        "        'sphere_out': 'categorical_crossentropy',\n",
        "        'mdd_out':    'categorical_crossentropy',\n",
        "        'stress_out': 'categorical_crossentropy'\n",
        "    },\n",
        "    metrics={\n",
        "        'sphere_out': 'accuracy',\n",
        "        'mdd_out':    'accuracy',\n",
        "        'stress_out': 'accuracy'\n",
        "    }\n",
        ")"
      ],
      "metadata": {
        "id": "TZIrAmaNDDI-"
      },
      "execution_count": null,
      "outputs": []
    },
    {
      "cell_type": "code",
      "source": [
        "multi_fusion.fit(\n",
        "    X_meta, y_train,\n",
        "    validation_split=0.1,\n",
        "    epochs=30,\n",
        "    batch_size=16,\n",
        "    callbacks=[tf.keras.callbacks.EarlyStopping(patience=2, restore_best_weights=True)]\n",
        ")"
      ],
      "metadata": {
        "colab": {
          "base_uri": "https://localhost:8080/"
        },
        "id": "QtwVCXy0ArJ4",
        "outputId": "37fa62c6-50a5-43e4-9804-3b472c4851fb"
      },
      "execution_count": null,
      "outputs": [
        {
          "output_type": "stream",
          "name": "stdout",
          "text": [
            "Epoch 1/30\n",
            "\u001b[1m387/387\u001b[0m \u001b[32m━━━━━━━━━━━━━━━━━━━━\u001b[0m\u001b[37m\u001b[0m \u001b[1m4s\u001b[0m 4ms/step - loss: 8.2311 - mdd_out_accuracy: 0.2255 - mdd_out_loss: 2.7750 - sphere_out_accuracy: 0.2113 - sphere_out_loss: 2.8650 - stress_out_accuracy: 0.5605 - stress_out_loss: 2.5911 - val_loss: 5.9858 - val_mdd_out_accuracy: 0.2780 - val_mdd_out_loss: 1.8908 - val_sphere_out_accuracy: 0.6070 - val_sphere_out_loss: 2.3032 - val_stress_out_accuracy: 0.8646 - val_stress_out_loss: 1.7913\n",
            "Epoch 2/30\n",
            "\u001b[1m387/387\u001b[0m \u001b[32m━━━━━━━━━━━━━━━━━━━━\u001b[0m\u001b[37m\u001b[0m \u001b[1m2s\u001b[0m 3ms/step - loss: 5.4508 - mdd_out_accuracy: 0.5049 - mdd_out_loss: 1.7371 - sphere_out_accuracy: 0.7145 - sphere_out_loss: 2.1212 - stress_out_accuracy: 0.7157 - stress_out_loss: 1.5925 - val_loss: 4.1322 - val_mdd_out_accuracy: 0.4047 - val_mdd_out_loss: 1.2384 - val_sphere_out_accuracy: 0.6841 - val_sphere_out_loss: 1.7523 - val_stress_out_accuracy: 0.8646 - val_stress_out_loss: 1.1406\n",
            "Epoch 3/30\n",
            "\u001b[1m387/387\u001b[0m \u001b[32m━━━━━━━━━━━━━━━━━━━━\u001b[0m\u001b[37m\u001b[0m \u001b[1m1s\u001b[0m 3ms/step - loss: 3.8129 - mdd_out_accuracy: 0.6695 - mdd_out_loss: 1.1742 - sphere_out_accuracy: 0.7893 - sphere_out_loss: 1.5690 - stress_out_accuracy: 0.7370 - stress_out_loss: 1.0698 - val_loss: 3.0751 - val_mdd_out_accuracy: 0.8792 - val_mdd_out_loss: 0.9567 - val_sphere_out_accuracy: 0.7380 - val_sphere_out_loss: 1.2858 - val_stress_out_accuracy: 0.8632 - val_stress_out_loss: 0.8316\n",
            "Epoch 4/30\n",
            "\u001b[1m387/387\u001b[0m \u001b[32m━━━━━━━━━━━━━━━━━━━━\u001b[0m\u001b[37m\u001b[0m \u001b[1m1s\u001b[0m 3ms/step - loss: 2.9073 - mdd_out_accuracy: 0.7440 - mdd_out_loss: 0.9220 - sphere_out_accuracy: 0.8174 - sphere_out_loss: 1.1430 - stress_out_accuracy: 0.7561 - stress_out_loss: 0.8423 - val_loss: 2.4627 - val_mdd_out_accuracy: 0.8224 - val_mdd_out_loss: 0.8361 - val_sphere_out_accuracy: 0.8268 - val_sphere_out_loss: 0.9343 - val_stress_out_accuracy: 0.8632 - val_stress_out_loss: 0.6913\n",
            "Epoch 5/30\n",
            "\u001b[1m387/387\u001b[0m \u001b[32m━━━━━━━━━━━━━━━━━━━━\u001b[0m\u001b[37m\u001b[0m \u001b[1m2s\u001b[0m 4ms/step - loss: 2.3720 - mdd_out_accuracy: 0.7240 - mdd_out_loss: 0.7967 - sphere_out_accuracy: 0.8637 - sphere_out_loss: 0.8427 - stress_out_accuracy: 0.7520 - stress_out_loss: 0.7326 - val_loss: 2.0978 - val_mdd_out_accuracy: 0.7860 - val_mdd_out_loss: 0.7741 - val_sphere_out_accuracy: 0.8646 - val_sphere_out_loss: 0.7022 - val_stress_out_accuracy: 0.8603 - val_stress_out_loss: 0.6206\n",
            "Epoch 6/30\n",
            "\u001b[1m387/387\u001b[0m \u001b[32m━━━━━━━━━━━━━━━━━━━━\u001b[0m\u001b[37m\u001b[0m \u001b[1m3s\u001b[0m 4ms/step - loss: 2.0408 - mdd_out_accuracy: 0.6737 - mdd_out_loss: 0.7309 - sphere_out_accuracy: 0.9030 - sphere_out_loss: 0.6328 - stress_out_accuracy: 0.7405 - stress_out_loss: 0.6771 - val_loss: 1.8723 - val_mdd_out_accuracy: 0.6972 - val_mdd_out_loss: 0.7391 - val_sphere_out_accuracy: 0.9141 - val_sphere_out_loss: 0.5522 - val_stress_out_accuracy: 0.8603 - val_stress_out_loss: 0.5802\n",
            "Epoch 7/30\n",
            "\u001b[1m387/387\u001b[0m \u001b[32m━━━━━━━━━━━━━━━━━━━━\u001b[0m\u001b[37m\u001b[0m \u001b[1m1s\u001b[0m 3ms/step - loss: 1.8166 - mdd_out_accuracy: 0.6563 - mdd_out_loss: 0.6864 - sphere_out_accuracy: 0.9223 - sphere_out_loss: 0.5007 - stress_out_accuracy: 0.7569 - stress_out_loss: 0.6294 - val_loss: 1.7123 - val_mdd_out_accuracy: 0.7729 - val_mdd_out_loss: 0.7012 - val_sphere_out_accuracy: 0.9141 - val_sphere_out_loss: 0.4561 - val_stress_out_accuracy: 0.8151 - val_stress_out_loss: 0.5543\n",
            "Epoch 8/30\n",
            "\u001b[1m387/387\u001b[0m \u001b[32m━━━━━━━━━━━━━━━━━━━━\u001b[0m\u001b[37m\u001b[0m \u001b[1m1s\u001b[0m 3ms/step - loss: 1.6736 - mdd_out_accuracy: 0.6846 - mdd_out_loss: 0.6539 - sphere_out_accuracy: 0.9258 - sphere_out_loss: 0.4168 - stress_out_accuracy: 0.7501 - stress_out_loss: 0.6029 - val_loss: 1.5991 - val_mdd_out_accuracy: 0.7729 - val_mdd_out_loss: 0.6777 - val_sphere_out_accuracy: 0.9199 - val_sphere_out_loss: 0.3888 - val_stress_out_accuracy: 0.8151 - val_stress_out_loss: 0.5320\n",
            "Epoch 9/30\n",
            "\u001b[1m387/387\u001b[0m \u001b[32m━━━━━━━━━━━━━━━━━━━━\u001b[0m\u001b[37m\u001b[0m \u001b[1m1s\u001b[0m 3ms/step - loss: 1.5486 - mdd_out_accuracy: 0.7021 - mdd_out_loss: 0.6214 - sphere_out_accuracy: 0.9367 - sphere_out_loss: 0.3545 - stress_out_accuracy: 0.7540 - stress_out_loss: 0.5728 - val_loss: 1.4956 - val_mdd_out_accuracy: 0.7729 - val_mdd_out_loss: 0.6475 - val_sphere_out_accuracy: 0.9330 - val_sphere_out_loss: 0.3383 - val_stress_out_accuracy: 0.8151 - val_stress_out_loss: 0.5093\n",
            "Epoch 10/30\n",
            "\u001b[1m387/387\u001b[0m \u001b[32m━━━━━━━━━━━━━━━━━━━━\u001b[0m\u001b[37m\u001b[0m \u001b[1m1s\u001b[0m 3ms/step - loss: 1.4462 - mdd_out_accuracy: 0.7827 - mdd_out_loss: 0.5898 - sphere_out_accuracy: 0.9466 - sphere_out_loss: 0.3147 - stress_out_accuracy: 0.7608 - stress_out_loss: 0.5418 - val_loss: 1.4120 - val_mdd_out_accuracy: 0.7831 - val_mdd_out_loss: 0.6163 - val_sphere_out_accuracy: 0.9461 - val_sphere_out_loss: 0.3033 - val_stress_out_accuracy: 0.8151 - val_stress_out_loss: 0.4920\n",
            "Epoch 11/30\n",
            "\u001b[1m387/387\u001b[0m \u001b[32m━━━━━━━━━━━━━━━━━━━━\u001b[0m\u001b[37m\u001b[0m \u001b[1m1s\u001b[0m 3ms/step - loss: 1.3670 - mdd_out_accuracy: 0.7871 - mdd_out_loss: 0.5627 - sphere_out_accuracy: 0.9551 - sphere_out_loss: 0.2869 - stress_out_accuracy: 0.7580 - stress_out_loss: 0.5174 - val_loss: 1.3347 - val_mdd_out_accuracy: 0.8108 - val_mdd_out_loss: 0.5832 - val_sphere_out_accuracy: 0.9534 - val_sphere_out_loss: 0.2765 - val_stress_out_accuracy: 0.8879 - val_stress_out_loss: 0.4747\n",
            "Epoch 12/30\n",
            "\u001b[1m387/387\u001b[0m \u001b[32m━━━━━━━━━━━━━━━━━━━━\u001b[0m\u001b[37m\u001b[0m \u001b[1m1s\u001b[0m 3ms/step - loss: 1.2845 - mdd_out_accuracy: 0.8009 - mdd_out_loss: 0.5261 - sphere_out_accuracy: 0.9613 - sphere_out_loss: 0.2706 - stress_out_accuracy: 0.8082 - stress_out_loss: 0.4878 - val_loss: 1.2601 - val_mdd_out_accuracy: 0.8079 - val_mdd_out_loss: 0.5500 - val_sphere_out_accuracy: 0.9680 - val_sphere_out_loss: 0.2523 - val_stress_out_accuracy: 0.9039 - val_stress_out_loss: 0.4576\n",
            "Epoch 13/30\n",
            "\u001b[1m387/387\u001b[0m \u001b[32m━━━━━━━━━━━━━━━━━━━━\u001b[0m\u001b[37m\u001b[0m \u001b[1m1s\u001b[0m 3ms/step - loss: 1.2073 - mdd_out_accuracy: 0.7964 - mdd_out_loss: 0.4923 - sphere_out_accuracy: 0.9645 - sphere_out_loss: 0.2577 - stress_out_accuracy: 0.8073 - stress_out_loss: 0.4573 - val_loss: 1.2033 - val_mdd_out_accuracy: 0.8079 - val_mdd_out_loss: 0.5271 - val_sphere_out_accuracy: 0.9709 - val_sphere_out_loss: 0.2271 - val_stress_out_accuracy: 0.8996 - val_stress_out_loss: 0.4490\n",
            "Epoch 14/30\n",
            "\u001b[1m387/387\u001b[0m \u001b[32m━━━━━━━━━━━━━━━━━━━━\u001b[0m\u001b[37m\u001b[0m \u001b[1m2s\u001b[0m 4ms/step - loss: 1.1153 - mdd_out_accuracy: 0.8116 - mdd_out_loss: 0.4574 - sphere_out_accuracy: 0.9761 - sphere_out_loss: 0.2243 - stress_out_accuracy: 0.8262 - stress_out_loss: 0.4336 - val_loss: 1.1263 - val_mdd_out_accuracy: 0.8079 - val_mdd_out_loss: 0.4916 - val_sphere_out_accuracy: 0.9811 - val_sphere_out_loss: 0.1998 - val_stress_out_accuracy: 0.9025 - val_stress_out_loss: 0.4348\n",
            "Epoch 15/30\n",
            "\u001b[1m387/387\u001b[0m \u001b[32m━━━━━━━━━━━━━━━━━━━━\u001b[0m\u001b[37m\u001b[0m \u001b[1m3s\u001b[0m 4ms/step - loss: 1.0766 - mdd_out_accuracy: 0.8083 - mdd_out_loss: 0.4459 - sphere_out_accuracy: 0.9786 - sphere_out_loss: 0.2095 - stress_out_accuracy: 0.8267 - stress_out_loss: 0.4211 - val_loss: 1.0807 - val_mdd_out_accuracy: 0.8079 - val_mdd_out_loss: 0.4770 - val_sphere_out_accuracy: 1.0000 - val_sphere_out_loss: 0.1760 - val_stress_out_accuracy: 0.9025 - val_stress_out_loss: 0.4277\n",
            "Epoch 16/30\n",
            "\u001b[1m387/387\u001b[0m \u001b[32m━━━━━━━━━━━━━━━━━━━━\u001b[0m\u001b[37m\u001b[0m \u001b[1m2s\u001b[0m 3ms/step - loss: 1.0208 - mdd_out_accuracy: 0.8031 - mdd_out_loss: 0.4320 - sphere_out_accuracy: 0.9840 - sphere_out_loss: 0.1802 - stress_out_accuracy: 0.8237 - stress_out_loss: 0.4085 - val_loss: 1.0233 - val_mdd_out_accuracy: 0.8297 - val_mdd_out_loss: 0.4555 - val_sphere_out_accuracy: 1.0000 - val_sphere_out_loss: 0.1533 - val_stress_out_accuracy: 0.9025 - val_stress_out_loss: 0.4144\n",
            "Epoch 17/30\n",
            "\u001b[1m387/387\u001b[0m \u001b[32m━━━━━━━━━━━━━━━━━━━━\u001b[0m\u001b[37m\u001b[0m \u001b[1m1s\u001b[0m 3ms/step - loss: 0.9794 - mdd_out_accuracy: 0.8081 - mdd_out_loss: 0.4136 - sphere_out_accuracy: 0.9823 - sphere_out_loss: 0.1666 - stress_out_accuracy: 0.8156 - stress_out_loss: 0.3992 - val_loss: 0.9839 - val_mdd_out_accuracy: 0.8297 - val_mdd_out_loss: 0.4419 - val_sphere_out_accuracy: 1.0000 - val_sphere_out_loss: 0.1328 - val_stress_out_accuracy: 0.9025 - val_stress_out_loss: 0.4092\n",
            "Epoch 18/30\n",
            "\u001b[1m387/387\u001b[0m \u001b[32m━━━━━━━━━━━━━━━━━━━━\u001b[0m\u001b[37m\u001b[0m \u001b[1m1s\u001b[0m 3ms/step - loss: 0.9262 - mdd_out_accuracy: 0.8216 - mdd_out_loss: 0.3994 - sphere_out_accuracy: 0.9830 - sphere_out_loss: 0.1474 - stress_out_accuracy: 0.8376 - stress_out_loss: 0.3794 - val_loss: 0.9462 - val_mdd_out_accuracy: 0.9098 - val_mdd_out_loss: 0.4241 - val_sphere_out_accuracy: 1.0000 - val_sphere_out_loss: 0.1180 - val_stress_out_accuracy: 0.9025 - val_stress_out_loss: 0.4041\n",
            "Epoch 19/30\n",
            "\u001b[1m387/387\u001b[0m \u001b[32m━━━━━━━━━━━━━━━━━━━━\u001b[0m\u001b[37m\u001b[0m \u001b[1m1s\u001b[0m 3ms/step - loss: 0.9097 - mdd_out_accuracy: 0.8145 - mdd_out_loss: 0.3935 - sphere_out_accuracy: 0.9822 - sphere_out_loss: 0.1324 - stress_out_accuracy: 0.8203 - stress_out_loss: 0.3837 - val_loss: 0.9214 - val_mdd_out_accuracy: 0.9068 - val_mdd_out_loss: 0.4206 - val_sphere_out_accuracy: 1.0000 - val_sphere_out_loss: 0.1026 - val_stress_out_accuracy: 0.9025 - val_stress_out_loss: 0.3983\n",
            "Epoch 20/30\n",
            "\u001b[1m387/387\u001b[0m \u001b[32m━━━━━━━━━━━━━━━━━━━━\u001b[0m\u001b[37m\u001b[0m \u001b[1m1s\u001b[0m 3ms/step - loss: 0.8676 - mdd_out_accuracy: 0.8182 - mdd_out_loss: 0.3843 - sphere_out_accuracy: 0.9846 - sphere_out_loss: 0.1094 - stress_out_accuracy: 0.8242 - stress_out_loss: 0.3739 - val_loss: 0.8916 - val_mdd_out_accuracy: 0.9098 - val_mdd_out_loss: 0.4110 - val_sphere_out_accuracy: 1.0000 - val_sphere_out_loss: 0.0904 - val_stress_out_accuracy: 0.9025 - val_stress_out_loss: 0.3903\n",
            "Epoch 21/30\n",
            "\u001b[1m387/387\u001b[0m \u001b[32m━━━━━━━━━━━━━━━━━━━━\u001b[0m\u001b[37m\u001b[0m \u001b[1m1s\u001b[0m 3ms/step - loss: 0.8675 - mdd_out_accuracy: 0.8138 - mdd_out_loss: 0.3834 - sphere_out_accuracy: 0.9801 - sphere_out_loss: 0.1088 - stress_out_accuracy: 0.8210 - stress_out_loss: 0.3753 - val_loss: 0.8531 - val_mdd_out_accuracy: 0.9156 - val_mdd_out_loss: 0.3904 - val_sphere_out_accuracy: 1.0000 - val_sphere_out_loss: 0.0801 - val_stress_out_accuracy: 0.9025 - val_stress_out_loss: 0.3827\n",
            "Epoch 22/30\n",
            "\u001b[1m387/387\u001b[0m \u001b[32m━━━━━━━━━━━━━━━━━━━━\u001b[0m\u001b[37m\u001b[0m \u001b[1m1s\u001b[0m 3ms/step - loss: 0.8240 - mdd_out_accuracy: 0.8227 - mdd_out_loss: 0.3718 - sphere_out_accuracy: 0.9873 - sphere_out_loss: 0.0909 - stress_out_accuracy: 0.8293 - stress_out_loss: 0.3613 - val_loss: 0.8658 - val_mdd_out_accuracy: 0.9068 - val_mdd_out_loss: 0.4044 - val_sphere_out_accuracy: 1.0000 - val_sphere_out_loss: 0.0701 - val_stress_out_accuracy: 0.9025 - val_stress_out_loss: 0.3914\n",
            "Epoch 23/30\n",
            "\u001b[1m387/387\u001b[0m \u001b[32m━━━━━━━━━━━━━━━━━━━━\u001b[0m\u001b[37m\u001b[0m \u001b[1m1s\u001b[0m 3ms/step - loss: 0.7836 - mdd_out_accuracy: 0.8309 - mdd_out_loss: 0.3600 - sphere_out_accuracy: 0.9895 - sphere_out_loss: 0.0756 - stress_out_accuracy: 0.8362 - stress_out_loss: 0.3481 - val_loss: 0.8511 - val_mdd_out_accuracy: 0.9068 - val_mdd_out_loss: 0.4046 - val_sphere_out_accuracy: 1.0000 - val_sphere_out_loss: 0.0633 - val_stress_out_accuracy: 0.9025 - val_stress_out_loss: 0.3833\n",
            "Epoch 24/30\n",
            "\u001b[1m387/387\u001b[0m \u001b[32m━━━━━━━━━━━━━━━━━━━━\u001b[0m\u001b[37m\u001b[0m \u001b[1m2s\u001b[0m 4ms/step - loss: 0.7990 - mdd_out_accuracy: 0.8185 - mdd_out_loss: 0.3659 - sphere_out_accuracy: 0.9881 - sphere_out_loss: 0.0750 - stress_out_accuracy: 0.8244 - stress_out_loss: 0.3581 - val_loss: 0.8240 - val_mdd_out_accuracy: 0.9156 - val_mdd_out_loss: 0.3891 - val_sphere_out_accuracy: 1.0000 - val_sphere_out_loss: 0.0551 - val_stress_out_accuracy: 0.9025 - val_stress_out_loss: 0.3800\n",
            "Epoch 25/30\n",
            "\u001b[1m387/387\u001b[0m \u001b[32m━━━━━━━━━━━━━━━━━━━━\u001b[0m\u001b[37m\u001b[0m \u001b[1m2s\u001b[0m 3ms/step - loss: 0.7853 - mdd_out_accuracy: 0.8235 - mdd_out_loss: 0.3612 - sphere_out_accuracy: 0.9888 - sphere_out_loss: 0.0654 - stress_out_accuracy: 0.8291 - stress_out_loss: 0.3587 - val_loss: 0.8156 - val_mdd_out_accuracy: 0.9156 - val_mdd_out_loss: 0.3822 - val_sphere_out_accuracy: 1.0000 - val_sphere_out_loss: 0.0502 - val_stress_out_accuracy: 0.9025 - val_stress_out_loss: 0.3833\n",
            "Epoch 26/30\n",
            "\u001b[1m387/387\u001b[0m \u001b[32m━━━━━━━━━━━━━━━━━━━━\u001b[0m\u001b[37m\u001b[0m \u001b[1m1s\u001b[0m 3ms/step - loss: 0.7628 - mdd_out_accuracy: 0.8241 - mdd_out_loss: 0.3565 - sphere_out_accuracy: 0.9953 - sphere_out_loss: 0.0596 - stress_out_accuracy: 0.8310 - stress_out_loss: 0.3468 - val_loss: 0.8097 - val_mdd_out_accuracy: 0.9098 - val_mdd_out_loss: 0.3870 - val_sphere_out_accuracy: 1.0000 - val_sphere_out_loss: 0.0442 - val_stress_out_accuracy: 0.9025 - val_stress_out_loss: 0.3786\n",
            "Epoch 27/30\n",
            "\u001b[1m387/387\u001b[0m \u001b[32m━━━━━━━━━━━━━━━━━━━━\u001b[0m\u001b[37m\u001b[0m \u001b[1m1s\u001b[0m 3ms/step - loss: 0.7653 - mdd_out_accuracy: 0.8202 - mdd_out_loss: 0.3545 - sphere_out_accuracy: 0.9928 - sphere_out_loss: 0.0588 - stress_out_accuracy: 0.8246 - stress_out_loss: 0.3521 - val_loss: 0.7951 - val_mdd_out_accuracy: 0.9156 - val_mdd_out_loss: 0.3793 - val_sphere_out_accuracy: 1.0000 - val_sphere_out_loss: 0.0400 - val_stress_out_accuracy: 0.9025 - val_stress_out_loss: 0.3760\n",
            "Epoch 28/30\n",
            "\u001b[1m387/387\u001b[0m \u001b[32m━━━━━━━━━━━━━━━━━━━━\u001b[0m\u001b[37m\u001b[0m \u001b[1m1s\u001b[0m 3ms/step - loss: 0.7403 - mdd_out_accuracy: 0.8280 - mdd_out_loss: 0.3488 - sphere_out_accuracy: 0.9950 - sphere_out_loss: 0.0477 - stress_out_accuracy: 0.8321 - stress_out_loss: 0.3438 - val_loss: 0.8037 - val_mdd_out_accuracy: 0.9098 - val_mdd_out_loss: 0.3810 - val_sphere_out_accuracy: 1.0000 - val_sphere_out_loss: 0.0361 - val_stress_out_accuracy: 0.9025 - val_stress_out_loss: 0.3868\n",
            "Epoch 29/30\n",
            "\u001b[1m387/387\u001b[0m \u001b[32m━━━━━━━━━━━━━━━━━━━━\u001b[0m\u001b[37m\u001b[0m \u001b[1m1s\u001b[0m 3ms/step - loss: 0.7448 - mdd_out_accuracy: 0.8198 - mdd_out_loss: 0.3536 - sphere_out_accuracy: 0.9948 - sphere_out_loss: 0.0423 - stress_out_accuracy: 0.8246 - stress_out_loss: 0.3489 - val_loss: 0.7879 - val_mdd_out_accuracy: 0.9098 - val_mdd_out_loss: 0.3830 - val_sphere_out_accuracy: 1.0000 - val_sphere_out_loss: 0.0324 - val_stress_out_accuracy: 0.9025 - val_stress_out_loss: 0.3726\n",
            "Epoch 30/30\n",
            "\u001b[1m387/387\u001b[0m \u001b[32m━━━━━━━━━━━━━━━━━━━━\u001b[0m\u001b[37m\u001b[0m \u001b[1m1s\u001b[0m 3ms/step - loss: 0.7528 - mdd_out_accuracy: 0.8184 - mdd_out_loss: 0.3578 - sphere_out_accuracy: 0.9984 - sphere_out_loss: 0.0395 - stress_out_accuracy: 0.8213 - stress_out_loss: 0.3555 - val_loss: 0.7704 - val_mdd_out_accuracy: 0.9156 - val_mdd_out_loss: 0.3754 - val_sphere_out_accuracy: 1.0000 - val_sphere_out_loss: 0.0296 - val_stress_out_accuracy: 0.9025 - val_stress_out_loss: 0.3656\n"
          ]
        },
        {
          "output_type": "execute_result",
          "data": {
            "text/plain": [
              "<keras.src.callbacks.history.History at 0x796e8275c890>"
            ]
          },
          "metadata": {},
          "execution_count": 31
        }
      ]
    },
    {
      "cell_type": "code",
      "source": [
        "sphere_pred, mdd_pred, stress_pred = multi_fusion.predict(X_meta_new)\n",
        "\n",
        "sphere_lbl = sphere_pred.argmax(axis=1)\n",
        "mdd_lbl    = mdd_pred.argmax(axis=1)\n",
        "stress_lbl = stress_pred.argmax(axis=1)"
      ],
      "metadata": {
        "colab": {
          "base_uri": "https://localhost:8080/"
        },
        "id": "UDfzLVZ-BOGn",
        "outputId": "865ad08d-b525-4992-d6da-fdaed9ece722"
      },
      "execution_count": null,
      "outputs": [
        {
          "output_type": "stream",
          "name": "stdout",
          "text": [
            "\u001b[1m215/215\u001b[0m \u001b[32m━━━━━━━━━━━━━━━━━━━━\u001b[0m\u001b[37m\u001b[0m \u001b[1m0s\u001b[0m 1ms/step\n"
          ]
        }
      ]
    },
    {
      "cell_type": "code",
      "source": [
        "multi_fusion.save('/content/Multi-Output_Attention_Fusion_2.h5')"
      ],
      "metadata": {
        "colab": {
          "base_uri": "https://localhost:8080/"
        },
        "id": "qF23wPiBD8gf",
        "outputId": "9e48702c-8606-450c-8c42-daab82ccf9eb"
      },
      "execution_count": null,
      "outputs": [
        {
          "output_type": "stream",
          "name": "stderr",
          "text": [
            "WARNING:absl:You are saving your model as an HDF5 file via `model.save()` or `keras.saving.save_model(model)`. This file format is considered legacy. We recommend using instead the native Keras format, e.g. `model.save('my_model.keras')` or `keras.saving.save_model(model, 'my_model.keras')`. \n"
          ]
        }
      ]
    },
    {
      "cell_type": "code",
      "source": [
        "multi_fusion.save('/content/Multi-Output_Attention_Fusion_2.keras')"
      ],
      "metadata": {
        "id": "_3HdKXbjEGMe"
      },
      "execution_count": null,
      "outputs": []
    },
    {
      "cell_type": "markdown",
      "source": [
        "# **Fusion Testing**\n",
        "\n"
      ],
      "metadata": {
        "id": "Wbn5pQZ7Eb23"
      }
    },
    {
      "cell_type": "code",
      "source": [
        "import tensorflow.keras.backend as K\n",
        "import keras\n",
        "from tensorflow.keras.models import load_model\n",
        "from tensorflow.keras.saving import custom_object_scope\n",
        "\n",
        "# Redefine the functions exactly as during training\n",
        "@keras.saving.register_keras_serializable()\n",
        "def squeeze_fn(x):\n",
        "    return K.squeeze(x, axis=-1)\n",
        "\n",
        "@keras.saving.register_keras_serializable()\n",
        "def expand_fn(x):\n",
        "    return K.expand_dims(x, axis=-1)\n",
        "\n",
        "@keras.saving.register_keras_serializable()\n",
        "def fused_fn(x):\n",
        "    return K.sum(x, axis=1)\n",
        "\n",
        "with custom_object_scope({\n",
        "    'squeeze_fn': squeeze_fn,\n",
        "    'expand_fn': expand_fn,\n",
        "    'fused_fn': fused_fn\n",
        "}):\n",
        "    fusion = load_model('/content/Multi-Output_Attention_Fusion_2.h5', compile=False)"
      ],
      "metadata": {
        "id": "eBtY_VC0EqDK"
      },
      "execution_count": null,
      "outputs": []
    },
    {
      "cell_type": "code",
      "source": [
        "meta_probs = fusion.predict(X_meta_new)\n",
        "out_sphere, out_mdd, out_stress = meta_probs  # depending on model outputs"
      ],
      "metadata": {
        "colab": {
          "base_uri": "https://localhost:8080/"
        },
        "id": "wnDB6zsaFlz9",
        "outputId": "de66a0f3-bb8f-45d6-a85e-8aded3e68b32"
      },
      "execution_count": null,
      "outputs": [
        {
          "output_type": "stream",
          "name": "stdout",
          "text": [
            "\u001b[1m215/215\u001b[0m \u001b[32m━━━━━━━━━━━━━━━━━━━━\u001b[0m\u001b[37m\u001b[0m \u001b[1m0s\u001b[0m 1ms/step\n"
          ]
        }
      ]
    },
    {
      "cell_type": "code",
      "source": [
        "df_test = pd.read_csv('/content/drive/MyDrive/Synthetic Datasets/Fused_With_Labels 2.csv')\n",
        "sample = df.sample(n=1, random_state=42).reset_index(drop=True)\n",
        "\n",
        "def slice_input(df, start, ts, feat):\n",
        "    arr = df.iloc[:, start : start + ts * feat].values\n",
        "    return arr.reshape(-1, ts, feat)\n",
        "\n",
        "X1 = slice_input(df_test, start=0,   ts=30, feat=4)\n",
        "X2 = slice_input(df_test, start=120, ts=10, feat=48)\n",
        "X3 = slice_input(df_test, start=600, ts=20, feat=23)\n",
        "\n",
        "# Load your three base models (if not already loaded)\n",
        "model1 = load_model('/content/drive/MyDrive/Thesis Models/mdd_lstm.h5', compile=False)\n",
        "model2 = load_model('/content/drive/MyDrive/Thesis Models/lstm_stress_dryad_model.h5', compile=False)\n",
        "model3 = load_model('/content/drive/MyDrive/Thesis Models/rnn_model.h5', compile=False)\n",
        "\n",
        "P1 = model1.predict(X1)\n",
        "P2 = model2.predict(X2)\n",
        "P3 = model3.predict(X3)\n",
        "\n",
        "# Ensure all have the same class dimension\n",
        "maxC = max(P1.shape[1], P2.shape[1], P3.shape[1])\n",
        "def pad(arr, target):\n",
        "    return arr if arr.shape[1] == target else np.pad(arr, ((0,0),(0,target-arr.shape[1])))\n",
        "P1, P2, P3 = pad(P1, maxC), pad(P2, maxC), pad(P3, maxC)\n",
        "\n",
        "X_meta = np.stack([P1, P2, P3], axis=1)"
      ],
      "metadata": {
        "colab": {
          "base_uri": "https://localhost:8080/"
        },
        "id": "rkiyTzS0F5go",
        "outputId": "3a34cf87-cf30-4b01-8001-3e6d178929b7"
      },
      "execution_count": null,
      "outputs": [
        {
          "output_type": "stream",
          "name": "stdout",
          "text": [
            "\u001b[1m215/215\u001b[0m \u001b[32m━━━━━━━━━━━━━━━━━━━━\u001b[0m\u001b[37m\u001b[0m \u001b[1m3s\u001b[0m 11ms/step\n",
            "\u001b[1m215/215\u001b[0m \u001b[32m━━━━━━━━━━━━━━━━━━━━\u001b[0m\u001b[37m\u001b[0m \u001b[1m1s\u001b[0m 5ms/step\n",
            "\u001b[1m215/215\u001b[0m \u001b[32m━━━━━━━━━━━━━━━━━━━━\u001b[0m\u001b[37m\u001b[0m \u001b[1m3s\u001b[0m 12ms/step\n"
          ]
        }
      ]
    },
    {
      "cell_type": "code",
      "source": [
        "out_sphere, out_mdd, out_stress = fusion.predict(X_meta)\n",
        "pred_sphere = np.argmax(out_sphere, axis=1)\n",
        "pred_mdd    = np.argmax(out_mdd, axis=1)\n",
        "pred_str    = np.argmax(out_stress, axis=1)"
      ],
      "metadata": {
        "colab": {
          "base_uri": "https://localhost:8080/"
        },
        "id": "s_0W32mUGH3R",
        "outputId": "453f5048-9cd9-418a-a950-7081322f0144"
      },
      "execution_count": null,
      "outputs": [
        {
          "output_type": "stream",
          "name": "stdout",
          "text": [
            "\u001b[1m215/215\u001b[0m \u001b[32m━━━━━━━━━━━━━━━━━━━━\u001b[0m\u001b[37m\u001b[0m \u001b[1m0s\u001b[0m 1ms/step\n"
          ]
        }
      ]
    },
    {
      "cell_type": "code",
      "source": [
        "act_s   = sample['Actual_sphere'].values[0]\n",
        "act_m   = sample['Actual_mdd'].values[0]\n",
        "act_str = sample['Actual_Stress'].values[0]"
      ],
      "metadata": {
        "id": "u5oFXN4VHWsq"
      },
      "execution_count": null,
      "outputs": []
    },
    {
      "cell_type": "code",
      "source": [
        "print(\"✅ Sample index:\", sample.index[0])\n",
        "print(\"Actual labels:    SPHERE =\", act_s, \" | MDD =\", act_m, \" | STRESS =\", act_str)\n",
        "print(\"Predicted labels: SPHERE =\", np.argmax(out_sphere, axis = 1)[0], \" | MDD =\", np.argmax(out_mdd, axis = 1)[0], \" | STRESS =\", np.argmax(out_stress, axis = 1)[0])"
      ],
      "metadata": {
        "colab": {
          "base_uri": "https://localhost:8080/"
        },
        "id": "s-3Yk6zRIQnj",
        "outputId": "efc49264-f4c7-4d55-fd4e-65b621cef0d0"
      },
      "execution_count": null,
      "outputs": [
        {
          "output_type": "stream",
          "name": "stdout",
          "text": [
            "✅ Sample index: 0\n",
            "Actual labels:    SPHERE = 10  | MDD = 1  | STRESS = 1.0\n",
            "Predicted labels: SPHERE = 4  | MDD = 0  | STRESS = 0\n"
          ]
        }
      ]
    },
    {
      "cell_type": "code",
      "source": [
        "from sklearn.metrics import accuracy_score, classification_report\n",
        "\n",
        "# Replace with your actual test label columns\n",
        "y_true_sphere = df_test['Actual_sphere'].astype(int).values\n",
        "y_true_mdd    = df_test['Actual_mdd'].astype(int).values\n",
        "y_true_str    = df_test['Actual_Stress'].astype(int).values\n",
        "\n",
        "print(\"Fusion Model Report:\\n\", classification_report(y_true_sphere, pred_sphere))"
      ],
      "metadata": {
        "colab": {
          "base_uri": "https://localhost:8080/"
        },
        "id": "8p4mCjp_GKwb",
        "outputId": "5ccd1c58-3784-465b-9442-0fa85403f8f7"
      },
      "execution_count": null,
      "outputs": [
        {
          "output_type": "stream",
          "name": "stdout",
          "text": [
            "Fusion Model Report:\n",
            "               precision    recall  f1-score   support\n",
            "\n",
            "           0       1.00      0.31      0.47        36\n",
            "           1       0.58      0.92      0.71        52\n",
            "           2       0.64      0.50      0.56        14\n",
            "           4       0.89      0.75      0.81       696\n",
            "           5       0.84      0.75      0.79       210\n",
            "           6       0.96      0.50      0.66       107\n",
            "           7       0.90      0.97      0.94       568\n",
            "           8       0.94      0.99      0.96      1449\n",
            "           9       1.00      1.00      1.00        37\n",
            "          10       0.85      0.99      0.92      3021\n",
            "          11       1.00      0.20      0.34        54\n",
            "          12       1.00      0.11      0.21        35\n",
            "          13       0.91      0.18      0.29        57\n",
            "          14       0.80      0.57      0.67        61\n",
            "          15       0.92      0.54      0.68        41\n",
            "          16       0.71      0.34      0.46        35\n",
            "          17       0.68      0.40      0.50        53\n",
            "          18       0.68      0.39      0.49        49\n",
            "          19       0.78      0.19      0.31       293\n",
            "\n",
            "    accuracy                           0.87      6868\n",
            "   macro avg       0.85      0.56      0.62      6868\n",
            "weighted avg       0.87      0.87      0.85      6868\n",
            "\n"
          ]
        }
      ]
    },
    {
      "cell_type": "markdown",
      "source": [
        "# **Large Sample Testing**"
      ],
      "metadata": {
        "id": "j8D1SUxbSChM"
      }
    },
    {
      "cell_type": "code",
      "source": [
        "import pandas as pd\n",
        "import numpy as np\n",
        "import tensorflow.keras.backend as K\n",
        "import keras\n",
        "from tensorflow.keras.models import load_model\n",
        "from tensorflow.keras.saving import custom_object_scope"
      ],
      "metadata": {
        "id": "g-OiZ11SP-8T"
      },
      "execution_count": null,
      "outputs": []
    },
    {
      "cell_type": "code",
      "source": [
        "@keras.saving.register_keras_serializable()\n",
        "def squeeze_fn(x): return K.squeeze(x, axis=-1)\n",
        "\n",
        "@keras.saving.register_keras_serializable()\n",
        "def expand_fn(x): return K.expand_dims(x, axis=-1)\n",
        "\n",
        "@keras.saving.register_keras_serializable()\n",
        "def fused_fn(x): return K.sum(x, axis=1)\n",
        "\n",
        "with custom_object_scope({\n",
        "    'squeeze_fn': squeeze_fn,\n",
        "    'expand_fn': expand_fn,\n",
        "    'fused_fn': fused_fn\n",
        "}):\n",
        "    fusion = load_model('/content/Multi-Output_Attention_Fusion_2.h5', compile=False)"
      ],
      "metadata": {
        "id": "hlEla-tLQG5c"
      },
      "execution_count": null,
      "outputs": []
    },
    {
      "cell_type": "code",
      "source": [
        "model1 = load_model('/content/drive/MyDrive/Thesis Models/mdd_lstm.h5', compile=False)\n",
        "model2 = load_model('/content/drive/MyDrive/Thesis Models/lstm_stress_dryad_model.h5', compile=False)\n",
        "model3 = load_model('/content/drive/MyDrive/Thesis Models/rnn_model.h5', compile=False)"
      ],
      "metadata": {
        "id": "UZCZUKi-QL3v"
      },
      "execution_count": null,
      "outputs": []
    },
    {
      "cell_type": "code",
      "source": [
        "df = pd.read_csv('/content/drive/MyDrive/Synthetic Datasets/Fused_With_Labels 2.csv')\n",
        "sample = df.sample(n=250).reset_index(drop=True)\n",
        "\n",
        "# Calculate Overall_Stress for the sampled data\n",
        "sample['Overall_Stress'] = ((sample['Actual_mdd'] + sample['Actual_Stress']) / 2 >= 0.5).astype(int)"
      ],
      "metadata": {
        "id": "SZakbXlgQJtG"
      },
      "execution_count": null,
      "outputs": []
    },
    {
      "cell_type": "code",
      "source": [
        "def slice_input(df, start, ts, feat):\n",
        "    arr = df.iloc[:, start:start + ts*feat].values\n",
        "    return arr.reshape(-1, ts, feat)\n",
        "\n",
        "X1 = slice_input(sample, 0,   30, 4)\n",
        "X2 = slice_input(sample, 120, 10, 48)\n",
        "X3 = slice_input(sample, 600, 20, 23)\n",
        "\n",
        "# ---- 3. Predict sub-models ----\n",
        "P1 = model1.predict(X1, batch_size=32, verbose=0)\n",
        "P2 = model2.predict(X2, batch_size=32, verbose=0)\n",
        "P3 = model3.predict(X3, batch_size=32, verbose=0)\n",
        "\n",
        "# ---- 4. Align class dims and create meta tensor ----\n",
        "maxC = max(P1.shape[1], P2.shape[1], P3.shape[1])\n",
        "def pad(arr): return arr if arr.shape[1]==maxC else np.pad(arr, ((0,0),(0, maxC-arr.shape[1])))\n",
        "P1, P2, P3 = pad(P1), pad(P2), pad(P3)\n",
        "X_meta = np.stack([P1, P2, P3], axis=1)"
      ],
      "metadata": {
        "id": "HwWDVI59QPz-",
        "colab": {
          "base_uri": "https://localhost:8080/"
        },
        "outputId": "b8ea5880-763b-4c70-c6d8-c3fc5a065945"
      },
      "execution_count": null,
      "outputs": [
        {
          "output_type": "stream",
          "name": "stderr",
          "text": [
            "WARNING:tensorflow:5 out of the last 17 calls to <function TensorFlowTrainer.make_predict_function.<locals>.one_step_on_data_distributed at 0x796e98596de0> triggered tf.function retracing. Tracing is expensive and the excessive number of tracings could be due to (1) creating @tf.function repeatedly in a loop, (2) passing tensors with different shapes, (3) passing Python objects instead of tensors. For (1), please define your @tf.function outside of the loop. For (2), @tf.function has reduce_retracing=True option that can avoid unnecessary retracing. For (3), please refer to https://www.tensorflow.org/guide/function#controlling_retracing and https://www.tensorflow.org/api_docs/python/tf/function for  more details.\n"
          ]
        }
      ]
    },
    {
      "cell_type": "code",
      "source": [
        "out_sphere, out_mdd, out_stress = fusion.predict(X_meta, batch_size=32, verbose=0)\n",
        "pred_s = np.argmax(out_sphere, axis=1)\n",
        "pred_m = np.argmax(out_mdd, axis=1)\n",
        "pred_t = np.argmax(out_stress, axis=1)\n",
        "\n",
        "# ---- 6. Extract actual labels ----\n",
        "act_s = sample['Actual_sphere'].astype(int).values\n",
        "act_m = sample['Actual_mdd'].astype(int).values\n",
        "act_t = sample['Actual_Stress'].astype(int).values"
      ],
      "metadata": {
        "id": "edrxnOr9QTX5",
        "colab": {
          "base_uri": "https://localhost:8080/"
        },
        "outputId": "eaeff548-99a9-46e5-d290-85bcce55d1aa"
      },
      "execution_count": null,
      "outputs": [
        {
          "output_type": "stream",
          "name": "stderr",
          "text": [
            "WARNING:tensorflow:5 out of the last 17 calls to <function TensorFlowTrainer.make_predict_function.<locals>.one_step_on_data_distributed at 0x796e8f56be20> triggered tf.function retracing. Tracing is expensive and the excessive number of tracings could be due to (1) creating @tf.function repeatedly in a loop, (2) passing tensors with different shapes, (3) passing Python objects instead of tensors. For (1), please define your @tf.function outside of the loop. For (2), @tf.function has reduce_retracing=True option that can avoid unnecessary retracing. For (3), please refer to https://www.tensorflow.org/guide/function#controlling_retracing and https://www.tensorflow.org/api_docs/python/tf/function for  more details.\n"
          ]
        }
      ]
    },
    {
      "cell_type": "code",
      "source": [
        "results = sample.copy().loc[:, :]  # include all original columns\n",
        "results = results.assign(\n",
        "    sphere_actual   = act_s,\n",
        "    mdd_actual      = act_m,\n",
        "    stress_actual   = act_t,\n",
        "    sphere_pred     = pred_s,\n",
        "    mdd_pred        = pred_m,\n",
        "    stress_pred     = pred_t,\n",
        "    Overall_Stress  = sample['Overall_Stress'].values # Include the calculated Overall_Stress\n",
        ")"
      ],
      "metadata": {
        "id": "yAWYz90WQXFD"
      },
      "execution_count": null,
      "outputs": []
    },
    {
      "cell_type": "code",
      "source": [
        "output_path = '/content/Fusion_Stress_300_Final.csv'\n",
        "results.to_csv(output_path, index=False)\n",
        "print(f\"✅ Saved 100‑sample results to:\\n  {output_path}\")"
      ],
      "metadata": {
        "colab": {
          "base_uri": "https://localhost:8080/"
        },
        "id": "PlrTnR7hQku8",
        "outputId": "904166c5-6fb6-440c-badf-43491f0e2fdd"
      },
      "execution_count": null,
      "outputs": [
        {
          "output_type": "stream",
          "name": "stdout",
          "text": [
            "✅ Saved 100‑sample results to:\n",
            "  /content/Fusion_Stress_300_Final.csv\n"
          ]
        }
      ]
    },
    {
      "cell_type": "code",
      "source": [
        "import pandas as pd\n",
        "from sklearn.metrics import classification_report\n",
        "\n",
        "# Load the CSV with actual and predicted columns\n",
        "df = pd.read_csv('/content/Fusion_Stress_300_Final.csv')\n",
        "\n",
        "# Extract arrays for true / predicted labels\n",
        "y_true_sphere = df['sphere_actual']\n",
        "y_pred_sphere = df['sphere_pred']\n",
        "\n",
        "y_true_mdd = df['mdd_actual']\n",
        "y_pred_mdd = df['mdd_pred']\n",
        "\n",
        "y_true_stress = df['stress_actual']\n",
        "y_pred_stress = df['stress_pred']\n",
        "\n",
        "# Print classification reports\n",
        "print(\"==== SPHERE Classification Report ====\")\n",
        "print(classification_report(y_true_sphere, y_pred_sphere))\n",
        "\n",
        "print(\"==== MDD Classification Report ====\")\n",
        "print(classification_report(y_true_mdd, y_pred_mdd))\n",
        "\n",
        "print(\"==== STRESS Classification Report ====\")\n",
        "print(classification_report(y_true_stress, y_pred_stress))"
      ],
      "metadata": {
        "colab": {
          "base_uri": "https://localhost:8080/"
        },
        "id": "QryR2DlOQnmr",
        "outputId": "d01405e1-2b72-4f1f-b958-afabc86ffb4d"
      },
      "execution_count": null,
      "outputs": [
        {
          "output_type": "stream",
          "name": "stdout",
          "text": [
            "==== SPHERE Classification Report ====\n",
            "              precision    recall  f1-score   support\n",
            "\n",
            "           0       0.00      0.00      0.00         1\n",
            "           1       0.33      1.00      0.50         1\n",
            "           4       1.00      0.67      0.80        24\n",
            "           5       1.00      0.70      0.82        10\n",
            "           6       1.00      0.60      0.75         5\n",
            "           7       1.00      1.00      1.00        19\n",
            "           8       0.98      1.00      0.99        50\n",
            "           9       1.00      1.00      1.00         2\n",
            "          10       0.81      0.99      0.89       115\n",
            "          11       0.00      0.00      0.00         1\n",
            "          12       0.00      0.00      0.00         3\n",
            "          13       0.00      0.00      0.00         1\n",
            "          15       1.00      1.00      1.00         1\n",
            "          17       0.50      0.50      0.50         2\n",
            "          18       0.67      0.67      0.67         3\n",
            "          19       1.00      0.25      0.40        12\n",
            "\n",
            "    accuracy                           0.88       250\n",
            "   macro avg       0.64      0.59      0.58       250\n",
            "weighted avg       0.88      0.88      0.86       250\n",
            "\n",
            "==== MDD Classification Report ====\n",
            "              precision    recall  f1-score   support\n",
            "\n",
            "           0       0.79      0.29      0.43       143\n",
            "           1       0.49      0.90      0.63       107\n",
            "\n",
            "    accuracy                           0.55       250\n",
            "   macro avg       0.64      0.60      0.53       250\n",
            "weighted avg       0.66      0.55      0.52       250\n",
            "\n",
            "==== STRESS Classification Report ====\n",
            "              precision    recall  f1-score   support\n",
            "\n",
            "           0       0.71      0.27      0.39       106\n",
            "           1       0.63      0.92      0.75       144\n",
            "\n",
            "    accuracy                           0.64       250\n",
            "   macro avg       0.67      0.60      0.57       250\n",
            "weighted avg       0.66      0.64      0.60       250\n",
            "\n"
          ]
        },
        {
          "output_type": "stream",
          "name": "stderr",
          "text": [
            "/usr/local/lib/python3.11/dist-packages/sklearn/metrics/_classification.py:1565: UndefinedMetricWarning: Precision is ill-defined and being set to 0.0 in labels with no predicted samples. Use `zero_division` parameter to control this behavior.\n",
            "  _warn_prf(average, modifier, f\"{metric.capitalize()} is\", len(result))\n",
            "/usr/local/lib/python3.11/dist-packages/sklearn/metrics/_classification.py:1565: UndefinedMetricWarning: Precision is ill-defined and being set to 0.0 in labels with no predicted samples. Use `zero_division` parameter to control this behavior.\n",
            "  _warn_prf(average, modifier, f\"{metric.capitalize()} is\", len(result))\n",
            "/usr/local/lib/python3.11/dist-packages/sklearn/metrics/_classification.py:1565: UndefinedMetricWarning: Precision is ill-defined and being set to 0.0 in labels with no predicted samples. Use `zero_division` parameter to control this behavior.\n",
            "  _warn_prf(average, modifier, f\"{metric.capitalize()} is\", len(result))\n"
          ]
        }
      ]
    },
    {
      "cell_type": "markdown",
      "source": [
        "# **OVERALL STRESS**"
      ],
      "metadata": {
        "id": "3m6G-0zhV8cI"
      }
    },
    {
      "cell_type": "code",
      "source": [
        "df = pd.read_csv('/content/drive/MyDrive/Synthetic Datasets/Fused_With_Labels 2.csv')\n",
        "df['Overall_Stress'] = ((df['Actual_mdd'] + df['Actual_Stress']) / 2 >= 0.5).astype(int)"
      ],
      "metadata": {
        "id": "QawGkNacUg85"
      },
      "execution_count": null,
      "outputs": []
    },
    {
      "cell_type": "code",
      "source": [
        "import pandas as pd\n",
        "from sklearn.metrics import classification_report\n",
        "\n",
        "# Load your results (with predicted MDD and Stress and Actual Overall Stress)\n",
        "df = pd.read_csv('/content/Fusion_Stress_300_Final.csv')\n",
        "\n",
        "# Compute predicted overall stress:\n",
        "# If the average of Predicted_mdd and Predicted_Stress is ≥ 0.5 → 1, else 0\n",
        "df['Predicted Overall Stress'] = (\n",
        "    ((df['mdd_pred'] + df['stress_pred']) / 2) >= 0.5\n",
        ").astype(int)\n",
        "\n",
        "# If you also have the actual overall-stress labels:\n",
        "print(\"Classification report for Overall Stress:\")\n",
        "print(classification_report(df['Overall_Stress'], df['Predicted Overall Stress']))\n",
        "\n",
        "# Save updated CSV\n",
        "df.to_csv('/content/drive/MyDrive/Synthetic Data/Fusion_With_OverallStress.csv', index=False)\n",
        "print(\"✅ Updated CSV saved with 'Predicted Overall Stress'.\")"
      ],
      "metadata": {
        "colab": {
          "base_uri": "https://localhost:8080/"
        },
        "id": "B_6nlejOWICu",
        "outputId": "c1d5310c-b328-46b9-af48-1e5ad1f7a268"
      },
      "execution_count": null,
      "outputs": [
        {
          "output_type": "stream",
          "name": "stdout",
          "text": [
            "Classification report for Overall Stress:\n",
            "              precision    recall  f1-score   support\n",
            "\n",
            "           0       0.92      0.20      0.33        59\n",
            "           1       0.80      0.99      0.89       191\n",
            "\n",
            "    accuracy                           0.81       250\n",
            "   macro avg       0.86      0.60      0.61       250\n",
            "weighted avg       0.83      0.81      0.76       250\n",
            "\n",
            "✅ Updated CSV saved with 'Predicted Overall Stress'.\n"
          ]
        }
      ]
    },
    {
      "cell_type": "code",
      "source": [],
      "metadata": {
        "id": "Z84RrblRbrTq"
      },
      "execution_count": null,
      "outputs": []
    }
  ]
}