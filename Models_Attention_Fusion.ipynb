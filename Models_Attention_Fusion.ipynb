{
  "nbformat": 4,
  "nbformat_minor": 0,
  "metadata": {
    "colab": {
      "provenance": []
    },
    "kernelspec": {
      "name": "python3",
      "display_name": "Python 3"
    },
    "language_info": {
      "name": "python"
    }
  },
  "cells": [
    {
      "cell_type": "markdown",
      "source": [
        "# **Individual Models**"
      ],
      "metadata": {
        "id": "qNNqZbWVf5E6"
      }
    },
    {
      "cell_type": "code",
      "source": [
        "import pandas as pd\n",
        "import numpy as np\n",
        "import tensorflow as tf\n",
        "from tensorflow.keras.models import load_model\n",
        "import chardet\n",
        "import sys\n",
        "from sklearn.metrics import accuracy_score\n",
        "from sklearn.preprocessing import StandardScaler   # ← import scaler\n",
        "\n",
        "# ---- CUSTOM SELF-ATTENTION LAYER ----\n",
        "from tensorflow.keras.layers import Layer\n",
        "import tensorflow.keras.backend as K\n",
        "import keras\n",
        "\n",
        "@keras.saving.register_keras_serializable()\n",
        "class SelfAttentionLayer(Layer):\n",
        "    def __init__(self, D_att, **kwargs):\n",
        "        super(SelfAttentionLayer, self).__init__(**kwargs)\n",
        "        self.D_att = D_att\n",
        "\n",
        "    def build(self, input_shape):\n",
        "        self.Q = self.add_weight(\n",
        "            name      = 'query_vector',\n",
        "            shape     = (1, self.D_att),\n",
        "            initializer = 'random_normal',\n",
        "            trainable = True\n",
        "        )\n",
        "        super(SelfAttentionLayer, self).build(input_shape)\n",
        "\n",
        "    def call(self, inputs):\n",
        "        batch_size      = tf.shape(inputs)[0]\n",
        "        sequence_length = tf.shape(inputs)[1]\n",
        "        Q_expanded      = tf.tile(self.Q, [batch_size, sequence_length, 1])\n",
        "        scores          = K.sum(Q_expanded * inputs, axis=-1)\n",
        "        weights         = tf.keras.activations.softmax(scores)\n",
        "        output          = K.sum(K.expand_dims(weights, -1) * inputs, axis=1)\n",
        "        return output\n",
        "\n",
        "    def compute_output_shape(self, input_shape):\n",
        "        return (input_shape[0], self.D_att)\n",
        "\n",
        "# ---- CONFIGURATION ----\n",
        "DATASET_PATH  = '/content/drive/MyDrive/Synthetic Datasets/Fused_With_Labels 2.csv'\n",
        "OUTPUT_PATH   = '/content/drive/MyDrive/Synthetic Datasets/Fused_data_predicted_labels.csv'\n",
        "MODEL1_PATH   = '/content/drive/MyDrive/Thesis Models/mdd_lstm.h5'\n",
        "MODEL2_PATH   = '/content/drive/MyDrive/Thesis Models/lstm_stress_dryad_model.h5'\n",
        "MODEL3_PATH   = '/content/drive/MyDrive/Thesis Models/rnn_model.h5'\n",
        "\n",
        "# Actual‑label columns\n",
        "ACTUAL_LABEL_COLS = {\n",
        "    'mdd':    'Actual_mdd',\n",
        "    'stress': 'Actual_Stress',\n",
        "    'sphere': 'Actual_sphere'\n",
        "}\n",
        "\n",
        "# 0‑based start columns\n",
        "MODEL_START_COLS = {\n",
        "    'mdd':     0,\n",
        "    'stress':  120,\n",
        "    'sphere':  600\n",
        "}\n",
        "\n",
        "# (timesteps, features) for each\n",
        "MODEL_SHAPES = {\n",
        "    'mdd':     (30, 4),    # 120 cols\n",
        "    'stress':  (10, 48),   # 480 cols\n",
        "    'sphere':  (20, 23)    # 460 cols\n",
        "}\n",
        "\n",
        "# ---- 1. LOAD DATA ----\n",
        "print(f\"Reading dataset from {DATASET_PATH}...\")\n",
        "for enc in ('utf-8', 'utf-8-sig', 'latin1'):\n",
        "    try:\n",
        "        df = pd.read_csv(DATASET_PATH, encoding=enc)\n",
        "        print(f\"→ loaded with encoding={enc!r}, shape={df.shape}\")\n",
        "        break\n",
        "    except Exception:\n",
        "        continue\n",
        "else:\n",
        "    sys.exit(\"ERROR: Could not read CSV with utf-8 / utf-8-sig / latin1\")\n",
        "\n",
        "# ---- 2. SCALE STRESS BLOCK ----\n",
        "# standardize the 480 stress columns before feeding to model2\n",
        "s_start       = MODEL_START_COLS['stress']\n",
        "ts, feats     = MODEL_SHAPES['stress']\n",
        "flat2         = ts * feats\n",
        "stress_slice  = df.iloc[:, s_start : s_start + flat2].values\n",
        "scaler_stress = StandardScaler()\n",
        "stress_scaled = scaler_stress.fit_transform(stress_slice)\n",
        "df.iloc[:, s_start : s_start + flat2] = stress_scaled\n",
        "print(f\"→ scaled stress features (cols {s_start}–{s_start+flat2-1})\")\n",
        "\n",
        "# ---- 3. LOAD MODELS ----\n",
        "print(\"\\nLoading models...\")\n",
        "try:\n",
        "    model1 = load_model(MODEL1_PATH, custom_objects={'SelfAttentionLayer': SelfAttentionLayer})\n",
        "    print(\"→ Model 1 loaded\")\n",
        "    model2 = load_model(MODEL2_PATH, custom_objects={'SelfAttentionLayer': SelfAttentionLayer})\n",
        "    print(\"→ Model 2 loaded\")\n",
        "    model3 = load_model(MODEL3_PATH, custom_objects={'SelfAttentionLayer': SelfAttentionLayer})\n",
        "    print(\"→ Model 3 loaded\")\n",
        "except Exception as e:\n",
        "    sys.exit(f\"ERROR loading models: {e}\")\n",
        "\n",
        "# ---- 4. PREDICT & ACCURACY ----\n",
        "out = df.copy()\n",
        "accuracies = {}\n",
        "\n",
        "for name, model in [('mdd', model1), ('stress', model2), ('sphere', model3)]:\n",
        "    ts, features = MODEL_SHAPES[name]\n",
        "    flat_size    = ts * features\n",
        "    start        = MODEL_START_COLS[name]\n",
        "    end_actual   = start + flat_size\n",
        "\n",
        "    print(f\"\\n→ Preparing inputs for '{name}' (using {flat_size} cols: {start}-{end_actual-1})\")\n",
        "\n",
        "    # Extract & reshape\n",
        "    raw = df.iloc[:, start:end_actual].values\n",
        "    if raw.shape[1] != flat_size:\n",
        "        sys.exit(f\"ERROR: '{name}' expected {flat_size} cols but got {raw.shape[1]}\")\n",
        "    X = raw.reshape(-1, ts, features)\n",
        "    print(f\"   • reshaped to {X.shape}\")\n",
        "\n",
        "    # Predict\n",
        "    preds = model.predict(X, batch_size=32, verbose=1)\n",
        "    if preds.ndim == 2 and preds.shape[1] > 1:\n",
        "        labels = np.argmax(preds, axis=1)\n",
        "    else:\n",
        "        labels = preds.flatten().astype(int)\n",
        "\n",
        "    # Remap for stress\n",
        "    if name == 'stress':\n",
        "        labels = np.where(labels == 2, 1, labels)\n",
        "        print(\"   • remapped stress ‘2’→’1’\")\n",
        "\n",
        "    # Attach predictions\n",
        "    col_pred = {\n",
        "        'mdd':    'Predicted_mdd',\n",
        "        'stress': 'Predicted_Stress',\n",
        "        'sphere': 'SPHERE Labels'\n",
        "    }[name]\n",
        "    out[col_pred] = labels\n",
        "\n",
        "    # Compute accuracy\n",
        "    actual_col = ACTUAL_LABEL_COLS[name]\n",
        "    if actual_col in df and not df[actual_col].isnull().any():\n",
        "        acc = accuracy_score(df[actual_col], labels)\n",
        "        accuracies[name] = acc\n",
        "        print(f\"   • {name} accuracy: {acc:.4%}\")\n",
        "    else:\n",
        "        accuracies[name] = None\n",
        "        print(f\"   • skipped accuracy for '{name}' (missing or NaN labels)\")\n",
        "\n",
        "# ---- 5. SAVE & REPORT ----\n",
        "out.to_csv(OUTPUT_PATH, index=False)\n",
        "print(f\"\\n✅ All model predictions saved to: {OUTPUT_PATH}\")\n",
        "print(\"Accuracies:\", accuracies)"
      ],
      "metadata": {
        "colab": {
          "base_uri": "https://localhost:8080/"
        },
        "id": "xIFrJy1oqoc3",
        "outputId": "ca61078e-9a61-4b9a-c3b2-9f6ae9549138"
      },
      "execution_count": 13,
      "outputs": [
        {
          "output_type": "stream",
          "name": "stdout",
          "text": [
            "Reading dataset from /content/drive/MyDrive/Synthetic Datasets/Fused_With_Labels 2.csv...\n"
          ]
        },
        {
          "output_type": "stream",
          "name": "stderr",
          "text": [
            "WARNING:absl:Compiled the loaded model, but the compiled metrics have yet to be built. `model.compile_metrics` will be empty until you train or evaluate the model.\n",
            "WARNING:absl:Compiled the loaded model, but the compiled metrics have yet to be built. `model.compile_metrics` will be empty until you train or evaluate the model.\n"
          ]
        },
        {
          "output_type": "stream",
          "name": "stdout",
          "text": [
            "→ loaded with encoding='utf-8', shape=(6868, 1065)\n",
            "→ scaled stress features (cols 120–599)\n",
            "\n",
            "Loading models...\n",
            "→ Model 1 loaded\n",
            "→ Model 2 loaded\n"
          ]
        },
        {
          "output_type": "stream",
          "name": "stderr",
          "text": [
            "WARNING:absl:Compiled the loaded model, but the compiled metrics have yet to be built. `model.compile_metrics` will be empty until you train or evaluate the model.\n"
          ]
        },
        {
          "output_type": "stream",
          "name": "stdout",
          "text": [
            "→ Model 3 loaded\n",
            "\n",
            "→ Preparing inputs for 'mdd' (using 120 cols: 0-119)\n",
            "   • reshaped to (6868, 30, 4)\n",
            "\u001b[1m215/215\u001b[0m \u001b[32m━━━━━━━━━━━━━━━━━━━━\u001b[0m\u001b[37m\u001b[0m \u001b[1m1s\u001b[0m 5ms/step\n",
            "   • mdd accuracy: 91.2784%\n",
            "\n",
            "→ Preparing inputs for 'stress' (using 480 cols: 120-599)\n",
            "   • reshaped to (6868, 10, 48)\n",
            "\u001b[1m215/215\u001b[0m \u001b[32m━━━━━━━━━━━━━━━━━━━━\u001b[0m\u001b[37m\u001b[0m \u001b[1m1s\u001b[0m 4ms/step\n",
            "   • remapped stress ‘2’→’1’\n",
            "   • stress accuracy: 87.2452%\n",
            "\n",
            "→ Preparing inputs for 'sphere' (using 460 cols: 600-1059)\n",
            "   • reshaped to (6868, 20, 23)\n",
            "\u001b[1m215/215\u001b[0m \u001b[32m━━━━━━━━━━━━━━━━━━━━\u001b[0m\u001b[37m\u001b[0m \u001b[1m2s\u001b[0m 7ms/step\n",
            "   • sphere accuracy: 87.6529%\n",
            "\n",
            "✅ All model predictions saved to: /content/drive/MyDrive/Synthetic Datasets/Fused_data_predicted_labels.csv\n",
            "Accuracies: {'mdd': 0.9127839254513687, 'stress': 0.8724519510774607, 'sphere': 0.8765288293535236}\n"
          ]
        }
      ]
    },
    {
      "cell_type": "code",
      "source": [
        "df = pd.read_csv('/content/drive/MyDrive/Synthetic Datasets/Fused_data_predicted_labels.csv')\n",
        "df['Actual_Overall_Stress'] = ((df['Actual_mdd'] + df['Actual_Stress']) / 2 >= 0.5).astype(int)"
      ],
      "metadata": {
        "id": "nWGIJdScVWJR"
      },
      "execution_count": 14,
      "outputs": []
    },
    {
      "cell_type": "markdown",
      "source": [
        "# **Simple Attention Fusion**"
      ],
      "metadata": {
        "id": "XEFOLRFKxZdm"
      }
    },
    {
      "cell_type": "code",
      "source": [
        "import pandas as pd\n",
        "import numpy as np\n",
        "import tensorflow as tf\n",
        "from tensorflow.keras.models import Model\n",
        "from tensorflow.keras.layers import Input, Dense, Softmax, Multiply, Lambda\n",
        "import tensorflow.keras.backend as K\n",
        "from sklearn.model_selection import train_test_split\n",
        "from tensorflow.keras.utils import to_categorical\n",
        "\n",
        "# ---- 1. LOAD CSV ----\n",
        "df = pd.read_csv('/content/drive/MyDrive/Synthetic Datasets/Fused_With_Labels 2.csv')\n",
        "\n",
        "# ---- 2. EXTRACT & ONE‑HOT ENCODE EACH PREDICTION SERIES ----\n",
        "m1 = df['Actual_mdd'].astype(int).values\n",
        "m2 = df['Actual_Stress'].astype(int).values\n",
        "m3 = df['Actual_sphere'].astype(int).values\n",
        "\n",
        "# Compute number of classes as the max label+1 across all three\n",
        "n_classes = max(m1.max(), m2.max(), m3.max()) + 1\n",
        "\n",
        "P1 = to_categorical(m1, num_classes=n_classes)   # shape (N, C)\n",
        "P2 = to_categorical(m2, num_classes=n_classes)   # shape (N, C)\n",
        "P3 = to_categorical(m3, num_classes=n_classes)   # shape (N, C)\n",
        "\n",
        "# ---- 3. STACK INTO META‑INPUT ----\n",
        "# axis=1 will give shape (N, 3, C)\n",
        "X_meta = np.stack([P1, P2, P3], axis=1)\n",
        "\n",
        "# If you have a separate ground‑truth column, say `Final_Truth`, load and one‑hot that too:\n",
        "y = df['Actual_sphere'].astype(int).values\n",
        "y_meta = to_categorical(y, num_classes=n_classes)\n",
        "\n",
        "# ---- 4. SPLIT TRAIN/VAL ----\n",
        "X_tr, X_val, y_tr, y_val = train_test_split(\n",
        "    X_meta, y_meta, test_size=0.2, random_state=42, stratify=y\n",
        ")\n",
        "\n",
        "# ---- 5. BUILD ATTENTION‑FUSION MODEL ----\n",
        "inp = Input(shape=(3, n_classes), name='meta_input')\n",
        "# score each slot → (None,3,1)\n",
        "scores = Dense(1, name='att_score')(inp)\n",
        "# squeeze out the last dim → (None,3)\n",
        "scores = Lambda(lambda x: K.squeeze(x, -1), name='att_squeeze')(scores)\n",
        "# normalize across the 3 models → (None,3)\n",
        "weights = Softmax(axis=1, name='att_softmax')(scores)\n",
        "# expand back → (None,3,1)\n",
        "weights_exp = Lambda(lambda x: K.expand_dims(x, -1), name='att_expand')(weights)\n",
        "# weight the prob vectors → (None,3,C)\n",
        "weighted = Multiply(name='att_mul')([inp, weights_exp])\n",
        "\n",
        "# sum across the 3 models → (None,C)\n",
        "fused_vec = Lambda(\n",
        "    lambda x: K.sum(x, axis=1),\n",
        "    output_shape=lambda input_shape: (input_shape[0], input_shape[2]),\n",
        "    name='att_fused'\n",
        ")(weighted)\n",
        "\n",
        "# optional final Dense for refined softmax\n",
        "out = Dense(n_classes, activation='softmax', name='final_softmax')(fused_vec)\n",
        "\n",
        "fusion_model = Model(inputs=inp, outputs=out, name='attention_fusion')\n",
        "fusion_model.compile(\n",
        "    optimizer='adam',\n",
        "    loss='categorical_crossentropy',\n",
        "    metrics=['accuracy']\n",
        ")\n",
        "fusion_model.summary()\n",
        "\n",
        "# ---- 6. TRAIN ----\n",
        "fusion_model.fit(\n",
        "    X_tr, y_tr,\n",
        "    validation_data=(X_val, y_val),\n",
        "    epochs=30,\n",
        "    batch_size=16,\n",
        "    callbacks=[tf.keras.callbacks.EarlyStopping(patience=2, restore_best_weights=True)]\n",
        ")\n",
        "\n",
        "# ---- 7. SAVE ----\n",
        "fusion_model.save('/content/attention_fusion_from_preds.h5')\n",
        "print(\"Saved fused attention‐model to disk.\")"
      ],
      "metadata": {
        "colab": {
          "base_uri": "https://localhost:8080/",
          "height": 1000
        },
        "id": "VYTL1s3orb-O",
        "outputId": "5b542a6c-7c88-4f94-ea7c-798543ee394c"
      },
      "execution_count": 15,
      "outputs": [
        {
          "output_type": "display_data",
          "data": {
            "text/plain": [
              "\u001b[1mModel: \"attention_fusion\"\u001b[0m\n"
            ],
            "text/html": [
              "<pre style=\"white-space:pre;overflow-x:auto;line-height:normal;font-family:Menlo,'DejaVu Sans Mono',consolas,'Courier New',monospace\"><span style=\"font-weight: bold\">Model: \"attention_fusion\"</span>\n",
              "</pre>\n"
            ]
          },
          "metadata": {}
        },
        {
          "output_type": "display_data",
          "data": {
            "text/plain": [
              "┏━━━━━━━━━━━━━━━━━━━━━┳━━━━━━━━━━━━━━━━━━━┳━━━━━━━━━━━━┳━━━━━━━━━━━━━━━━━━━┓\n",
              "┃\u001b[1m \u001b[0m\u001b[1mLayer (type)       \u001b[0m\u001b[1m \u001b[0m┃\u001b[1m \u001b[0m\u001b[1mOutput Shape     \u001b[0m\u001b[1m \u001b[0m┃\u001b[1m \u001b[0m\u001b[1m   Param #\u001b[0m\u001b[1m \u001b[0m┃\u001b[1m \u001b[0m\u001b[1mConnected to     \u001b[0m\u001b[1m \u001b[0m┃\n",
              "┡━━━━━━━━━━━━━━━━━━━━━╇━━━━━━━━━━━━━━━━━━━╇━━━━━━━━━━━━╇━━━━━━━━━━━━━━━━━━━┩\n",
              "│ meta_input          │ (\u001b[38;5;45mNone\u001b[0m, \u001b[38;5;34m3\u001b[0m, \u001b[38;5;34m20\u001b[0m)     │          \u001b[38;5;34m0\u001b[0m │ -                 │\n",
              "│ (\u001b[38;5;33mInputLayer\u001b[0m)        │                   │            │                   │\n",
              "├─────────────────────┼───────────────────┼────────────┼───────────────────┤\n",
              "│ att_score (\u001b[38;5;33mDense\u001b[0m)   │ (\u001b[38;5;45mNone\u001b[0m, \u001b[38;5;34m3\u001b[0m, \u001b[38;5;34m1\u001b[0m)      │         \u001b[38;5;34m21\u001b[0m │ meta_input[\u001b[38;5;34m0\u001b[0m][\u001b[38;5;34m0\u001b[0m]  │\n",
              "├─────────────────────┼───────────────────┼────────────┼───────────────────┤\n",
              "│ att_squeeze         │ (\u001b[38;5;45mNone\u001b[0m, \u001b[38;5;34m3\u001b[0m)         │          \u001b[38;5;34m0\u001b[0m │ att_score[\u001b[38;5;34m0\u001b[0m][\u001b[38;5;34m0\u001b[0m]   │\n",
              "│ (\u001b[38;5;33mLambda\u001b[0m)            │                   │            │                   │\n",
              "├─────────────────────┼───────────────────┼────────────┼───────────────────┤\n",
              "│ att_softmax         │ (\u001b[38;5;45mNone\u001b[0m, \u001b[38;5;34m3\u001b[0m)         │          \u001b[38;5;34m0\u001b[0m │ att_squeeze[\u001b[38;5;34m0\u001b[0m][\u001b[38;5;34m0\u001b[0m] │\n",
              "│ (\u001b[38;5;33mSoftmax\u001b[0m)           │                   │            │                   │\n",
              "├─────────────────────┼───────────────────┼────────────┼───────────────────┤\n",
              "│ att_expand (\u001b[38;5;33mLambda\u001b[0m) │ (\u001b[38;5;45mNone\u001b[0m, \u001b[38;5;34m3\u001b[0m, \u001b[38;5;34m1\u001b[0m)      │          \u001b[38;5;34m0\u001b[0m │ att_softmax[\u001b[38;5;34m0\u001b[0m][\u001b[38;5;34m0\u001b[0m] │\n",
              "├─────────────────────┼───────────────────┼────────────┼───────────────────┤\n",
              "│ att_mul (\u001b[38;5;33mMultiply\u001b[0m)  │ (\u001b[38;5;45mNone\u001b[0m, \u001b[38;5;34m3\u001b[0m, \u001b[38;5;34m20\u001b[0m)     │          \u001b[38;5;34m0\u001b[0m │ meta_input[\u001b[38;5;34m0\u001b[0m][\u001b[38;5;34m0\u001b[0m], │\n",
              "│                     │                   │            │ att_expand[\u001b[38;5;34m0\u001b[0m][\u001b[38;5;34m0\u001b[0m]  │\n",
              "├─────────────────────┼───────────────────┼────────────┼───────────────────┤\n",
              "│ att_fused (\u001b[38;5;33mLambda\u001b[0m)  │ (\u001b[38;5;45mNone\u001b[0m, \u001b[38;5;34m20\u001b[0m)        │          \u001b[38;5;34m0\u001b[0m │ att_mul[\u001b[38;5;34m0\u001b[0m][\u001b[38;5;34m0\u001b[0m]     │\n",
              "├─────────────────────┼───────────────────┼────────────┼───────────────────┤\n",
              "│ final_softmax       │ (\u001b[38;5;45mNone\u001b[0m, \u001b[38;5;34m20\u001b[0m)        │        \u001b[38;5;34m420\u001b[0m │ att_fused[\u001b[38;5;34m0\u001b[0m][\u001b[38;5;34m0\u001b[0m]   │\n",
              "│ (\u001b[38;5;33mDense\u001b[0m)             │                   │            │                   │\n",
              "└─────────────────────┴───────────────────┴────────────┴───────────────────┘\n"
            ],
            "text/html": [
              "<pre style=\"white-space:pre;overflow-x:auto;line-height:normal;font-family:Menlo,'DejaVu Sans Mono',consolas,'Courier New',monospace\">┏━━━━━━━━━━━━━━━━━━━━━┳━━━━━━━━━━━━━━━━━━━┳━━━━━━━━━━━━┳━━━━━━━━━━━━━━━━━━━┓\n",
              "┃<span style=\"font-weight: bold\"> Layer (type)        </span>┃<span style=\"font-weight: bold\"> Output Shape      </span>┃<span style=\"font-weight: bold\">    Param # </span>┃<span style=\"font-weight: bold\"> Connected to      </span>┃\n",
              "┡━━━━━━━━━━━━━━━━━━━━━╇━━━━━━━━━━━━━━━━━━━╇━━━━━━━━━━━━╇━━━━━━━━━━━━━━━━━━━┩\n",
              "│ meta_input          │ (<span style=\"color: #00d7ff; text-decoration-color: #00d7ff\">None</span>, <span style=\"color: #00af00; text-decoration-color: #00af00\">3</span>, <span style=\"color: #00af00; text-decoration-color: #00af00\">20</span>)     │          <span style=\"color: #00af00; text-decoration-color: #00af00\">0</span> │ -                 │\n",
              "│ (<span style=\"color: #0087ff; text-decoration-color: #0087ff\">InputLayer</span>)        │                   │            │                   │\n",
              "├─────────────────────┼───────────────────┼────────────┼───────────────────┤\n",
              "│ att_score (<span style=\"color: #0087ff; text-decoration-color: #0087ff\">Dense</span>)   │ (<span style=\"color: #00d7ff; text-decoration-color: #00d7ff\">None</span>, <span style=\"color: #00af00; text-decoration-color: #00af00\">3</span>, <span style=\"color: #00af00; text-decoration-color: #00af00\">1</span>)      │         <span style=\"color: #00af00; text-decoration-color: #00af00\">21</span> │ meta_input[<span style=\"color: #00af00; text-decoration-color: #00af00\">0</span>][<span style=\"color: #00af00; text-decoration-color: #00af00\">0</span>]  │\n",
              "├─────────────────────┼───────────────────┼────────────┼───────────────────┤\n",
              "│ att_squeeze         │ (<span style=\"color: #00d7ff; text-decoration-color: #00d7ff\">None</span>, <span style=\"color: #00af00; text-decoration-color: #00af00\">3</span>)         │          <span style=\"color: #00af00; text-decoration-color: #00af00\">0</span> │ att_score[<span style=\"color: #00af00; text-decoration-color: #00af00\">0</span>][<span style=\"color: #00af00; text-decoration-color: #00af00\">0</span>]   │\n",
              "│ (<span style=\"color: #0087ff; text-decoration-color: #0087ff\">Lambda</span>)            │                   │            │                   │\n",
              "├─────────────────────┼───────────────────┼────────────┼───────────────────┤\n",
              "│ att_softmax         │ (<span style=\"color: #00d7ff; text-decoration-color: #00d7ff\">None</span>, <span style=\"color: #00af00; text-decoration-color: #00af00\">3</span>)         │          <span style=\"color: #00af00; text-decoration-color: #00af00\">0</span> │ att_squeeze[<span style=\"color: #00af00; text-decoration-color: #00af00\">0</span>][<span style=\"color: #00af00; text-decoration-color: #00af00\">0</span>] │\n",
              "│ (<span style=\"color: #0087ff; text-decoration-color: #0087ff\">Softmax</span>)           │                   │            │                   │\n",
              "├─────────────────────┼───────────────────┼────────────┼───────────────────┤\n",
              "│ att_expand (<span style=\"color: #0087ff; text-decoration-color: #0087ff\">Lambda</span>) │ (<span style=\"color: #00d7ff; text-decoration-color: #00d7ff\">None</span>, <span style=\"color: #00af00; text-decoration-color: #00af00\">3</span>, <span style=\"color: #00af00; text-decoration-color: #00af00\">1</span>)      │          <span style=\"color: #00af00; text-decoration-color: #00af00\">0</span> │ att_softmax[<span style=\"color: #00af00; text-decoration-color: #00af00\">0</span>][<span style=\"color: #00af00; text-decoration-color: #00af00\">0</span>] │\n",
              "├─────────────────────┼───────────────────┼────────────┼───────────────────┤\n",
              "│ att_mul (<span style=\"color: #0087ff; text-decoration-color: #0087ff\">Multiply</span>)  │ (<span style=\"color: #00d7ff; text-decoration-color: #00d7ff\">None</span>, <span style=\"color: #00af00; text-decoration-color: #00af00\">3</span>, <span style=\"color: #00af00; text-decoration-color: #00af00\">20</span>)     │          <span style=\"color: #00af00; text-decoration-color: #00af00\">0</span> │ meta_input[<span style=\"color: #00af00; text-decoration-color: #00af00\">0</span>][<span style=\"color: #00af00; text-decoration-color: #00af00\">0</span>], │\n",
              "│                     │                   │            │ att_expand[<span style=\"color: #00af00; text-decoration-color: #00af00\">0</span>][<span style=\"color: #00af00; text-decoration-color: #00af00\">0</span>]  │\n",
              "├─────────────────────┼───────────────────┼────────────┼───────────────────┤\n",
              "│ att_fused (<span style=\"color: #0087ff; text-decoration-color: #0087ff\">Lambda</span>)  │ (<span style=\"color: #00d7ff; text-decoration-color: #00d7ff\">None</span>, <span style=\"color: #00af00; text-decoration-color: #00af00\">20</span>)        │          <span style=\"color: #00af00; text-decoration-color: #00af00\">0</span> │ att_mul[<span style=\"color: #00af00; text-decoration-color: #00af00\">0</span>][<span style=\"color: #00af00; text-decoration-color: #00af00\">0</span>]     │\n",
              "├─────────────────────┼───────────────────┼────────────┼───────────────────┤\n",
              "│ final_softmax       │ (<span style=\"color: #00d7ff; text-decoration-color: #00d7ff\">None</span>, <span style=\"color: #00af00; text-decoration-color: #00af00\">20</span>)        │        <span style=\"color: #00af00; text-decoration-color: #00af00\">420</span> │ att_fused[<span style=\"color: #00af00; text-decoration-color: #00af00\">0</span>][<span style=\"color: #00af00; text-decoration-color: #00af00\">0</span>]   │\n",
              "│ (<span style=\"color: #0087ff; text-decoration-color: #0087ff\">Dense</span>)             │                   │            │                   │\n",
              "└─────────────────────┴───────────────────┴────────────┴───────────────────┘\n",
              "</pre>\n"
            ]
          },
          "metadata": {}
        },
        {
          "output_type": "display_data",
          "data": {
            "text/plain": [
              "\u001b[1m Total params: \u001b[0m\u001b[38;5;34m441\u001b[0m (1.72 KB)\n"
            ],
            "text/html": [
              "<pre style=\"white-space:pre;overflow-x:auto;line-height:normal;font-family:Menlo,'DejaVu Sans Mono',consolas,'Courier New',monospace\"><span style=\"font-weight: bold\"> Total params: </span><span style=\"color: #00af00; text-decoration-color: #00af00\">441</span> (1.72 KB)\n",
              "</pre>\n"
            ]
          },
          "metadata": {}
        },
        {
          "output_type": "display_data",
          "data": {
            "text/plain": [
              "\u001b[1m Trainable params: \u001b[0m\u001b[38;5;34m441\u001b[0m (1.72 KB)\n"
            ],
            "text/html": [
              "<pre style=\"white-space:pre;overflow-x:auto;line-height:normal;font-family:Menlo,'DejaVu Sans Mono',consolas,'Courier New',monospace\"><span style=\"font-weight: bold\"> Trainable params: </span><span style=\"color: #00af00; text-decoration-color: #00af00\">441</span> (1.72 KB)\n",
              "</pre>\n"
            ]
          },
          "metadata": {}
        },
        {
          "output_type": "display_data",
          "data": {
            "text/plain": [
              "\u001b[1m Non-trainable params: \u001b[0m\u001b[38;5;34m0\u001b[0m (0.00 B)\n"
            ],
            "text/html": [
              "<pre style=\"white-space:pre;overflow-x:auto;line-height:normal;font-family:Menlo,'DejaVu Sans Mono',consolas,'Courier New',monospace\"><span style=\"font-weight: bold\"> Non-trainable params: </span><span style=\"color: #00af00; text-decoration-color: #00af00\">0</span> (0.00 B)\n",
              "</pre>\n"
            ]
          },
          "metadata": {}
        },
        {
          "output_type": "stream",
          "name": "stdout",
          "text": [
            "Epoch 1/30\n",
            "\u001b[1m344/344\u001b[0m \u001b[32m━━━━━━━━━━━━━━━━━━━━\u001b[0m\u001b[37m\u001b[0m \u001b[1m1s\u001b[0m 2ms/step - accuracy: 0.2871 - loss: 2.8323 - val_accuracy: 0.6892 - val_loss: 2.2726\n",
            "Epoch 2/30\n",
            "\u001b[1m344/344\u001b[0m \u001b[32m━━━━━━━━━━━━━━━━━━━━\u001b[0m\u001b[37m\u001b[0m \u001b[1m2s\u001b[0m 3ms/step - accuracy: 0.6961 - loss: 2.0916 - val_accuracy: 0.7336 - val_loss: 1.6031\n",
            "Epoch 3/30\n",
            "\u001b[1m344/344\u001b[0m \u001b[32m━━━━━━━━━━━━━━━━━━━━\u001b[0m\u001b[37m\u001b[0m \u001b[1m1s\u001b[0m 2ms/step - accuracy: 0.8111 - loss: 1.4672 - val_accuracy: 0.8777 - val_loss: 1.0906\n",
            "Epoch 4/30\n",
            "\u001b[1m344/344\u001b[0m \u001b[32m━━━━━━━━━━━━━━━━━━━━\u001b[0m\u001b[37m\u001b[0m \u001b[1m1s\u001b[0m 2ms/step - accuracy: 0.8843 - loss: 0.9963 - val_accuracy: 0.9083 - val_loss: 0.7747\n",
            "Epoch 5/30\n",
            "\u001b[1m344/344\u001b[0m \u001b[32m━━━━━━━━━━━━━━━━━━━━\u001b[0m\u001b[37m\u001b[0m \u001b[1m1s\u001b[0m 1ms/step - accuracy: 0.9168 - loss: 0.7214 - val_accuracy: 0.9243 - val_loss: 0.5866\n",
            "Epoch 6/30\n",
            "\u001b[1m344/344\u001b[0m \u001b[32m━━━━━━━━━━━━━━━━━━━━\u001b[0m\u001b[37m\u001b[0m \u001b[1m1s\u001b[0m 2ms/step - accuracy: 0.9206 - loss: 0.5620 - val_accuracy: 0.9243 - val_loss: 0.4674\n",
            "Epoch 7/30\n",
            "\u001b[1m344/344\u001b[0m \u001b[32m━━━━━━━━━━━━━━━━━━━━\u001b[0m\u001b[37m\u001b[0m \u001b[1m1s\u001b[0m 2ms/step - accuracy: 0.9305 - loss: 0.4278 - val_accuracy: 0.9330 - val_loss: 0.3856\n",
            "Epoch 8/30\n",
            "\u001b[1m344/344\u001b[0m \u001b[32m━━━━━━━━━━━━━━━━━━━━\u001b[0m\u001b[37m\u001b[0m \u001b[1m1s\u001b[0m 2ms/step - accuracy: 0.9366 - loss: 0.3651 - val_accuracy: 0.9469 - val_loss: 0.3254\n",
            "Epoch 9/30\n",
            "\u001b[1m344/344\u001b[0m \u001b[32m━━━━━━━━━━━━━━━━━━━━\u001b[0m\u001b[37m\u001b[0m \u001b[1m1s\u001b[0m 2ms/step - accuracy: 0.9446 - loss: 0.3182 - val_accuracy: 0.9563 - val_loss: 0.2785\n",
            "Epoch 10/30\n",
            "\u001b[1m344/344\u001b[0m \u001b[32m━━━━━━━━━━━━━━━━━━━━\u001b[0m\u001b[37m\u001b[0m \u001b[1m1s\u001b[0m 2ms/step - accuracy: 0.9602 - loss: 0.2725 - val_accuracy: 0.9680 - val_loss: 0.2405\n",
            "Epoch 11/30\n",
            "\u001b[1m344/344\u001b[0m \u001b[32m━━━━━━━━━━━━━━━━━━━━\u001b[0m\u001b[37m\u001b[0m \u001b[1m1s\u001b[0m 2ms/step - accuracy: 0.9711 - loss: 0.2326 - val_accuracy: 0.9854 - val_loss: 0.2087\n",
            "Epoch 12/30\n",
            "\u001b[1m344/344\u001b[0m \u001b[32m━━━━━━━━━━━━━━━━━━━━\u001b[0m\u001b[37m\u001b[0m \u001b[1m1s\u001b[0m 2ms/step - accuracy: 0.9843 - loss: 0.2084 - val_accuracy: 0.9854 - val_loss: 0.1818\n",
            "Epoch 13/30\n",
            "\u001b[1m344/344\u001b[0m \u001b[32m━━━━━━━━━━━━━━━━━━━━\u001b[0m\u001b[37m\u001b[0m \u001b[1m2s\u001b[0m 4ms/step - accuracy: 0.9867 - loss: 0.1784 - val_accuracy: 0.9854 - val_loss: 0.1585\n",
            "Epoch 14/30\n",
            "\u001b[1m344/344\u001b[0m \u001b[32m━━━━━━━━━━━━━━━━━━━━\u001b[0m\u001b[37m\u001b[0m \u001b[1m1s\u001b[0m 4ms/step - accuracy: 0.9835 - loss: 0.1614 - val_accuracy: 0.9854 - val_loss: 0.1385\n",
            "Epoch 15/30\n",
            "\u001b[1m344/344\u001b[0m \u001b[32m━━━━━━━━━━━━━━━━━━━━\u001b[0m\u001b[37m\u001b[0m \u001b[1m1s\u001b[0m 4ms/step - accuracy: 0.9852 - loss: 0.1327 - val_accuracy: 0.9854 - val_loss: 0.1210\n",
            "Epoch 16/30\n",
            "\u001b[1m344/344\u001b[0m \u001b[32m━━━━━━━━━━━━━━━━━━━━\u001b[0m\u001b[37m\u001b[0m \u001b[1m2s\u001b[0m 2ms/step - accuracy: 0.9849 - loss: 0.1173 - val_accuracy: 0.9854 - val_loss: 0.1058\n",
            "Epoch 17/30\n",
            "\u001b[1m344/344\u001b[0m \u001b[32m━━━━━━━━━━━━━━━━━━━━\u001b[0m\u001b[37m\u001b[0m \u001b[1m1s\u001b[0m 2ms/step - accuracy: 0.9865 - loss: 0.0976 - val_accuracy: 0.9854 - val_loss: 0.0924\n",
            "Epoch 18/30\n",
            "\u001b[1m344/344\u001b[0m \u001b[32m━━━━━━━━━━━━━━━━━━━━\u001b[0m\u001b[37m\u001b[0m \u001b[1m1s\u001b[0m 2ms/step - accuracy: 0.9842 - loss: 0.0915 - val_accuracy: 0.9854 - val_loss: 0.0808\n",
            "Epoch 19/30\n",
            "\u001b[1m344/344\u001b[0m \u001b[32m━━━━━━━━━━━━━━━━━━━━\u001b[0m\u001b[37m\u001b[0m \u001b[1m1s\u001b[0m 2ms/step - accuracy: 0.9881 - loss: 0.0771 - val_accuracy: 0.9949 - val_loss: 0.0709\n",
            "Epoch 20/30\n",
            "\u001b[1m344/344\u001b[0m \u001b[32m━━━━━━━━━━━━━━━━━━━━\u001b[0m\u001b[37m\u001b[0m \u001b[1m1s\u001b[0m 2ms/step - accuracy: 0.9958 - loss: 0.0657 - val_accuracy: 0.9949 - val_loss: 0.0621\n",
            "Epoch 21/30\n",
            "\u001b[1m344/344\u001b[0m \u001b[32m━━━━━━━━━━━━━━━━━━━━\u001b[0m\u001b[37m\u001b[0m \u001b[1m1s\u001b[0m 2ms/step - accuracy: 0.9957 - loss: 0.0581 - val_accuracy: 0.9949 - val_loss: 0.0546\n",
            "Epoch 22/30\n",
            "\u001b[1m344/344\u001b[0m \u001b[32m━━━━━━━━━━━━━━━━━━━━\u001b[0m\u001b[37m\u001b[0m \u001b[1m1s\u001b[0m 2ms/step - accuracy: 0.9948 - loss: 0.0502 - val_accuracy: 0.9949 - val_loss: 0.0481\n",
            "Epoch 23/30\n",
            "\u001b[1m344/344\u001b[0m \u001b[32m━━━━━━━━━━━━━━━━━━━━\u001b[0m\u001b[37m\u001b[0m \u001b[1m1s\u001b[0m 2ms/step - accuracy: 0.9951 - loss: 0.0511 - val_accuracy: 0.9949 - val_loss: 0.0426\n",
            "Epoch 24/30\n",
            "\u001b[1m344/344\u001b[0m \u001b[32m━━━━━━━━━━━━━━━━━━━━\u001b[0m\u001b[37m\u001b[0m \u001b[1m1s\u001b[0m 3ms/step - accuracy: 0.9953 - loss: 0.0405 - val_accuracy: 0.9949 - val_loss: 0.0378\n",
            "Epoch 25/30\n",
            "\u001b[1m344/344\u001b[0m \u001b[32m━━━━━━━━━━━━━━━━━━━━\u001b[0m\u001b[37m\u001b[0m \u001b[1m1s\u001b[0m 4ms/step - accuracy: 0.9944 - loss: 0.0388 - val_accuracy: 0.9949 - val_loss: 0.0337\n",
            "Epoch 26/30\n",
            "\u001b[1m344/344\u001b[0m \u001b[32m━━━━━━━━━━━━━━━━━━━━\u001b[0m\u001b[37m\u001b[0m \u001b[1m1s\u001b[0m 2ms/step - accuracy: 0.9957 - loss: 0.0301 - val_accuracy: 0.9949 - val_loss: 0.0302\n",
            "Epoch 27/30\n",
            "\u001b[1m344/344\u001b[0m \u001b[32m━━━━━━━━━━━━━━━━━━━━\u001b[0m\u001b[37m\u001b[0m \u001b[1m1s\u001b[0m 2ms/step - accuracy: 0.9941 - loss: 0.0306 - val_accuracy: 0.9949 - val_loss: 0.0271\n",
            "Epoch 28/30\n",
            "\u001b[1m344/344\u001b[0m \u001b[32m━━━━━━━━━━━━━━━━━━━━\u001b[0m\u001b[37m\u001b[0m \u001b[1m1s\u001b[0m 2ms/step - accuracy: 0.9954 - loss: 0.0274 - val_accuracy: 0.9949 - val_loss: 0.0246\n",
            "Epoch 29/30\n",
            "\u001b[1m344/344\u001b[0m \u001b[32m━━━━━━━━━━━━━━━━━━━━\u001b[0m\u001b[37m\u001b[0m \u001b[1m1s\u001b[0m 2ms/step - accuracy: 0.9954 - loss: 0.0242 - val_accuracy: 0.9949 - val_loss: 0.0224\n",
            "Epoch 30/30\n",
            "\u001b[1m344/344\u001b[0m \u001b[32m━━━━━━━━━━━━━━━━━━━━\u001b[0m\u001b[37m\u001b[0m \u001b[1m1s\u001b[0m 2ms/step - accuracy: 0.9946 - loss: 0.0212 - val_accuracy: 0.9949 - val_loss: 0.0204\n"
          ]
        },
        {
          "output_type": "stream",
          "name": "stderr",
          "text": [
            "WARNING:absl:You are saving your model as an HDF5 file via `model.save()` or `keras.saving.save_model(model)`. This file format is considered legacy. We recommend using instead the native Keras format, e.g. `model.save('my_model.keras')` or `keras.saving.save_model(model, 'my_model.keras')`. \n"
          ]
        },
        {
          "output_type": "stream",
          "name": "stdout",
          "text": [
            "Saved fused attention‐model to disk.\n"
          ]
        }
      ]
    },
    {
      "cell_type": "markdown",
      "source": [
        "# **Fusion Model Testing**"
      ],
      "metadata": {
        "id": "2BWAnNoT4nLz"
      }
    },
    {
      "cell_type": "code",
      "source": [
        "import tensorflow.keras.backend as K\n",
        "\n",
        "def squeeze_fn(x):\n",
        "    return K.squeeze(x, axis=-1)\n",
        "\n",
        "def expand_fn(x):\n",
        "    return K.expand_dims(x, axis=-1)\n",
        "\n",
        "def fused_fn(x):\n",
        "    return K.sum(x, axis=1)\n",
        "\n",
        "# 1. Squeeze layer: (None, 3, 1) → (None, 3)\n",
        "scores = Lambda(\n",
        "    squeeze_fn,\n",
        "    output_shape=lambda s: (s[0], s[1]),  # s = (batch, 3, 1) → (batch, 3)\n",
        "    name=\"att_squeeze\"\n",
        ")(scores)\n",
        "\n",
        "# 2. Expand dims: (None, 3) → (None, 3, 1)\n",
        "weights_exp = Lambda(\n",
        "    expand_fn,\n",
        "    output_shape=lambda s: (s[0], s[1], 1),  # payload dims = 1\n",
        "    name=\"att_expand\"\n",
        ")(weights)\n",
        "\n",
        "# 3. Fuse: (None, 3, 1) after weighted → (None, 1)\n",
        "fused_vec = Lambda(\n",
        "    fused_fn,\n",
        "    output_shape=lambda s: (s[0], s[2]),     # now s = (batch, 3, 1), so s[2] = 1\n",
        "    name=\"att_fused\"\n",
        ")(weighted)"
      ],
      "metadata": {
        "id": "zXHUjUxO3xTO"
      },
      "execution_count": 16,
      "outputs": []
    },
    {
      "cell_type": "code",
      "source": [
        "fusion_model.save('attention_fusion_from_preds_2.h5')"
      ],
      "metadata": {
        "colab": {
          "base_uri": "https://localhost:8080/"
        },
        "id": "zp_p7goC6uKK",
        "outputId": "375566b8-c183-4843-fcce-4d1e6b0faf39"
      },
      "execution_count": 17,
      "outputs": [
        {
          "output_type": "stream",
          "name": "stderr",
          "text": [
            "WARNING:absl:You are saving your model as an HDF5 file via `model.save()` or `keras.saving.save_model(model)`. This file format is considered legacy. We recommend using instead the native Keras format, e.g. `model.save('my_model.keras')` or `keras.saving.save_model(model, 'my_model.keras')`. \n"
          ]
        }
      ]
    },
    {
      "cell_type": "code",
      "source": [
        "fusion_model.save_weights(\"fusion_weights.weights.h5\")"
      ],
      "metadata": {
        "id": "jBcfDYuW7fA_"
      },
      "execution_count": 18,
      "outputs": []
    },
    {
      "cell_type": "code",
      "source": [
        "import tensorflow.keras.backend as K\n",
        "from tensorflow.keras.layers import Input, Dense, Softmax, Multiply, Lambda\n",
        "from tensorflow.keras.models import Model\n",
        "\n",
        "# Named functions for Lambda layers\n",
        "def squeeze_fn(x): return K.squeeze(x, axis=-1)\n",
        "def expand_fn(x): return K.expand_dims(x, axis=-1)\n",
        "def fused_fn(x): return K.sum(x, axis=1)\n",
        "\n",
        "n_classes = 20  # Replace with your actual number of classes\n",
        "\n",
        "# Build architecture\n",
        "inp = Input(shape=(3, n_classes), name=\"meta_input\")\n",
        "scores = Dense(1, name=\"att_score\")(inp)\n",
        "scores = Lambda(\n",
        "    squeeze_fn,\n",
        "    output_shape=lambda s: (s[0], s[1]),  # (batch, 3)\n",
        "    name=\"att_squeeze\"\n",
        ")(scores)\n",
        "weights = Softmax(axis=1, name=\"att_softmax\")(scores)\n",
        "weights_exp = Lambda(\n",
        "    expand_fn,\n",
        "    output_shape=lambda s: (s[0], s[1], 1),\n",
        "    name=\"att_expand\"\n",
        ")(weights)\n",
        "weighted = Multiply(name=\"att_mul\")([inp, weights_exp])\n",
        "fused_vec = Lambda(\n",
        "    fused_fn,\n",
        "    output_shape=lambda s: (s[0], s[2]),\n",
        "    name=\"att_fused\"\n",
        ")(weighted)\n",
        "out = Dense(n_classes, activation='softmax', name=\"final_softmax\")(fused_vec)\n",
        "\n",
        "fusion_model = Model(inputs=inp, outputs=out, name=\"attention_fusion\")"
      ],
      "metadata": {
        "id": "HRF6QKfq61mC"
      },
      "execution_count": 19,
      "outputs": []
    },
    {
      "cell_type": "code",
      "source": [
        "fusion_model.load_weights(\"/content/fusion_weights.weights.h5\")"
      ],
      "metadata": {
        "id": "Ivxhp6mq70E-"
      },
      "execution_count": 20,
      "outputs": []
    },
    {
      "cell_type": "code",
      "source": [
        "df_new = pd.read_csv(\"/content/drive/MyDrive/Synthetic Datasets/Fused_With_Labels 2.csv\")\n",
        "\n",
        "def slice_input(df, start, timesteps, features):\n",
        "    flat = timesteps * features\n",
        "    arr = df.iloc[:, start:start+flat].values\n",
        "    return arr.reshape(-1, timesteps, features)\n",
        "\n",
        "X1_new = slice_input(df_new, start=0,   timesteps=30, features=4)\n",
        "X2_new = slice_input(df_new, start=120, timesteps=10, features=48)\n",
        "X3_new = slice_input(df_new, start=600, timesteps=20, features=23)\n",
        "\n",
        "P1_new = model1.predict(X1_new)\n",
        "P2_new = model2.predict(X2_new)\n",
        "P3_new = model3.predict(X3_new)\n",
        "\n",
        "print(\"P1_new shape:\", P1_new.shape)\n",
        "print(\"P2_new shape:\", P2_new.shape)\n",
        "print(\"P3_new shape:\", P3_new.shape)"
      ],
      "metadata": {
        "colab": {
          "base_uri": "https://localhost:8080/"
        },
        "id": "6NM9FOn-8Jnd",
        "outputId": "a601a1ab-ce3d-4513-a3b7-1bd95d5d8716"
      },
      "execution_count": 21,
      "outputs": [
        {
          "output_type": "stream",
          "name": "stdout",
          "text": [
            "\u001b[1m215/215\u001b[0m \u001b[32m━━━━━━━━━━━━━━━━━━━━\u001b[0m\u001b[37m\u001b[0m \u001b[1m1s\u001b[0m 5ms/step\n",
            "\u001b[1m215/215\u001b[0m \u001b[32m━━━━━━━━━━━━━━━━━━━━\u001b[0m\u001b[37m\u001b[0m \u001b[1m1s\u001b[0m 3ms/step\n",
            "\u001b[1m215/215\u001b[0m \u001b[32m━━━━━━━━━━━━━━━━━━━━\u001b[0m\u001b[37m\u001b[0m \u001b[1m2s\u001b[0m 8ms/step\n",
            "P1_new shape: (6868, 2)\n",
            "P2_new shape: (6868, 3)\n",
            "P3_new shape: (6868, 20)\n"
          ]
        }
      ]
    },
    {
      "cell_type": "code",
      "source": [
        "def pad_to(arr, target_dim):\n",
        "    n, d = arr.shape\n",
        "    if d < target_dim:\n",
        "        pad = np.zeros((n, target_dim - d))\n",
        "        return np.concatenate([arr, pad], axis=1)\n",
        "    return arr\n",
        "\n",
        "target = max(P1_new.shape[1], P2_new.shape[1], P3_new.shape[1])\n",
        "P1_new = pad_to(P1_new, target)\n",
        "P2_new = pad_to(P2_new, target)\n",
        "P3_new = pad_to(P3_new, target)"
      ],
      "metadata": {
        "id": "MLSR5-Ks9LZ3"
      },
      "execution_count": 22,
      "outputs": []
    },
    {
      "cell_type": "code",
      "source": [
        "import numpy as np\n",
        "X_meta_new = np.stack([P1_new, P2_new, P3_new], axis=1)\n",
        "# shape = (num_samples, 3, num_classes)\n",
        "final_probs = fusion_model.predict(X_meta_new)\n",
        "final_labels = final_probs.argmax(axis=1)"
      ],
      "metadata": {
        "colab": {
          "base_uri": "https://localhost:8080/"
        },
        "id": "59bIayK79Fb8",
        "outputId": "4af4f37c-c8d6-4ea6-86cc-5b5a6161ca6c"
      },
      "execution_count": 23,
      "outputs": [
        {
          "output_type": "stream",
          "name": "stdout",
          "text": [
            "\u001b[1m215/215\u001b[0m \u001b[32m━━━━━━━━━━━━━━━━━━━━\u001b[0m\u001b[37m\u001b[0m \u001b[1m0s\u001b[0m 1ms/step  \n"
          ]
        }
      ]
    },
    {
      "cell_type": "code",
      "source": [
        "probs = fusion_model.predict(X_meta_new)\n",
        "labels = probs.argmax(axis=1)\n",
        "print(\"Fused predictions:\", labels)"
      ],
      "metadata": {
        "colab": {
          "base_uri": "https://localhost:8080/"
        },
        "id": "txPLUKMX73fd",
        "outputId": "aa000ddb-30f0-46d3-bb7d-cf9ce854bce7"
      },
      "execution_count": 24,
      "outputs": [
        {
          "output_type": "stream",
          "name": "stdout",
          "text": [
            "\u001b[1m215/215\u001b[0m \u001b[32m━━━━━━━━━━━━━━━━━━━━\u001b[0m\u001b[37m\u001b[0m \u001b[1m0s\u001b[0m 1ms/step\n",
            "Fused predictions: [ 4  4  4 ... 10 10 10]\n"
          ]
        }
      ]
    },
    {
      "cell_type": "code",
      "source": [
        "y_true = df_new['Actual_sphere'].astype(int).values"
      ],
      "metadata": {
        "id": "VMxtHAKx9Qh6"
      },
      "execution_count": 25,
      "outputs": []
    },
    {
      "cell_type": "code",
      "source": [
        "from sklearn.metrics import accuracy_score\n",
        "\n",
        "accuracy = accuracy_score(y_true, final_labels)\n",
        "print(f'Fused model accuracy: {accuracy:.2%}')"
      ],
      "metadata": {
        "colab": {
          "base_uri": "https://localhost:8080/"
        },
        "id": "x1eY-U_J9hhk",
        "outputId": "00b0140b-751e-4725-ba27-567f559ac832"
      },
      "execution_count": 26,
      "outputs": [
        {
          "output_type": "stream",
          "name": "stdout",
          "text": [
            "Fused model accuracy: 87.61%\n"
          ]
        }
      ]
    },
    {
      "cell_type": "markdown",
      "source": [
        "# **Multi-Output Attention Fusion and Training**"
      ],
      "metadata": {
        "id": "o_svDvtSAjEa"
      }
    },
    {
      "cell_type": "code",
      "source": [
        "import pandas as pd\n",
        "\n",
        "df = pd.read_csv('/content/drive/MyDrive/Synthetic Datasets/Fused_With_Labels 2.csv')"
      ],
      "metadata": {
        "id": "qR0I--xWBipc"
      },
      "execution_count": 27,
      "outputs": []
    },
    {
      "cell_type": "code",
      "source": [
        "import tensorflow.keras.backend as K\n",
        "from tensorflow.keras.layers import Input, Dense, Softmax, Multiply, Lambda\n",
        "from tensorflow.keras.models import Model\n",
        "\n",
        "# Define helper Lambda functions\n",
        "def squeeze_fn(x): return K.squeeze(x, axis=-1)\n",
        "def expand_fn(x): return K.expand_dims(x, axis=-1)\n",
        "def fused_fn(x): return K.sum(x, axis=1)\n",
        "\n",
        "# Use the number of classes from the padded input (which is 20 as the SPHERE has labels from 0 to 19)\n",
        "n_classes = 20\n",
        "\n",
        "inp = Input(shape=(3, n_classes), name='meta_input')\n",
        "scores = Dense(1)(inp)\n",
        "scores = Lambda(squeeze_fn, output_shape=lambda s: (s[0], s[1]))(scores)\n",
        "weights = Softmax(axis=1)(scores)\n",
        "weights_exp = Lambda(expand_fn, output_shape=lambda s: (s[0], s[1], 1))(weights)\n",
        "weighted = Multiply()([inp, weights_exp])\n",
        "fused_vec = Lambda(fused_fn, output_shape=lambda s: (s[0], s[2]))(weighted)\n",
        "\n",
        "out_sphere = Dense(n_classes, activation='softmax', name='sphere_out')(fused_vec)\n",
        "out_mdd    = Dense(n_classes, activation='softmax', name='mdd_out')(fused_vec)\n",
        "out_str    = Dense(n_classes, activation='softmax', name='stress_out')(fused_vec)\n",
        "\n",
        "multi_fusion = Model(inp, [out_sphere, out_mdd, out_str])\n",
        "multi_fusion.compile(optimizer='adam',\n",
        "                     loss='categorical_crossentropy',\n",
        "                     metrics=['accuracy'])"
      ],
      "metadata": {
        "id": "a2hayHHd90so"
      },
      "execution_count": 28,
      "outputs": []
    },
    {
      "cell_type": "code",
      "source": [
        "from tensorflow.keras.utils import to_categorical\n",
        "\n",
        "sphere = to_categorical(df['Actual_sphere'], num_classes=n_classes)\n",
        "mdd    = to_categorical(df['Actual_mdd'], num_classes=n_classes)\n",
        "stress = to_categorical(df['Actual_Stress'], num_classes=n_classes)\n",
        "\n",
        "y_train = [sphere, mdd, stress]"
      ],
      "metadata": {
        "id": "StCvCCxHAm4Y"
      },
      "execution_count": 29,
      "outputs": []
    },
    {
      "cell_type": "code",
      "source": [
        "multi_fusion.compile(\n",
        "    optimizer='adam',\n",
        "    loss={\n",
        "        'sphere_out': 'categorical_crossentropy',\n",
        "        'mdd_out':    'categorical_crossentropy',\n",
        "        'stress_out': 'categorical_crossentropy'\n",
        "    },\n",
        "    metrics={\n",
        "        'sphere_out': 'accuracy',\n",
        "        'mdd_out':    'accuracy',\n",
        "        'stress_out': 'accuracy'\n",
        "    }\n",
        ")"
      ],
      "metadata": {
        "id": "TZIrAmaNDDI-"
      },
      "execution_count": 30,
      "outputs": []
    },
    {
      "cell_type": "code",
      "source": [
        "multi_fusion.fit(\n",
        "    X_meta, y_train,\n",
        "    validation_split=0.1,\n",
        "    epochs=30,\n",
        "    batch_size=16,\n",
        "    callbacks=[tf.keras.callbacks.EarlyStopping(patience=2, restore_best_weights=True)]\n",
        ")"
      ],
      "metadata": {
        "colab": {
          "base_uri": "https://localhost:8080/"
        },
        "id": "QtwVCXy0ArJ4",
        "outputId": "b3a99938-f014-4329-e1a9-f0b0ba899f2e"
      },
      "execution_count": 31,
      "outputs": [
        {
          "output_type": "stream",
          "name": "stdout",
          "text": [
            "Epoch 1/30\n",
            "\u001b[1m387/387\u001b[0m \u001b[32m━━━━━━━━━━━━━━━━━━━━\u001b[0m\u001b[37m\u001b[0m \u001b[1m3s\u001b[0m 3ms/step - loss: 8.2842 - mdd_out_accuracy: 0.1806 - mdd_out_loss: 2.6821 - sphere_out_accuracy: 0.3595 - sphere_out_loss: 2.7773 - stress_out_accuracy: 0.1584 - stress_out_loss: 2.8247 - val_loss: 6.1615 - val_mdd_out_accuracy: 0.0247 - val_mdd_out_loss: 1.9130 - val_sphere_out_accuracy: 0.6012 - val_sphere_out_loss: 2.2461 - val_stress_out_accuracy: 0.2082 - val_stress_out_loss: 2.0018\n",
            "Epoch 2/30\n",
            "\u001b[1m387/387\u001b[0m \u001b[32m━━━━━━━━━━━━━━━━━━━━\u001b[0m\u001b[37m\u001b[0m \u001b[1m2s\u001b[0m 3ms/step - loss: 5.5280 - mdd_out_accuracy: 0.3584 - mdd_out_loss: 1.6880 - sphere_out_accuracy: 0.5412 - sphere_out_loss: 2.0729 - stress_out_accuracy: 0.4089 - stress_out_loss: 1.7670 - val_loss: 4.2152 - val_mdd_out_accuracy: 0.0946 - val_mdd_out_loss: 1.2971 - val_sphere_out_accuracy: 0.6157 - val_sphere_out_loss: 1.6270 - val_stress_out_accuracy: 0.8413 - val_stress_out_loss: 1.2902\n",
            "Epoch 3/30\n",
            "\u001b[1m387/387\u001b[0m \u001b[32m━━━━━━━━━━━━━━━━━━━━\u001b[0m\u001b[37m\u001b[0m \u001b[1m1s\u001b[0m 2ms/step - loss: 3.8030 - mdd_out_accuracy: 0.5681 - mdd_out_loss: 1.1655 - sphere_out_accuracy: 0.7115 - sphere_out_loss: 1.4622 - stress_out_accuracy: 0.6646 - stress_out_loss: 1.1753 - val_loss: 2.9719 - val_mdd_out_accuracy: 0.6856 - val_mdd_out_loss: 0.9800 - val_sphere_out_accuracy: 0.8515 - val_sphere_out_loss: 1.0729 - val_stress_out_accuracy: 0.7773 - val_stress_out_loss: 0.9180\n",
            "Epoch 4/30\n",
            "\u001b[1m387/387\u001b[0m \u001b[32m━━━━━━━━━━━━━━━━━━━━\u001b[0m\u001b[37m\u001b[0m \u001b[1m1s\u001b[0m 2ms/step - loss: 2.7627 - mdd_out_accuracy: 0.6678 - mdd_out_loss: 0.9220 - sphere_out_accuracy: 0.8893 - sphere_out_loss: 0.9436 - stress_out_accuracy: 0.6618 - stress_out_loss: 0.8971 - val_loss: 2.3276 - val_mdd_out_accuracy: 0.6856 - val_mdd_out_loss: 0.8400 - val_sphere_out_accuracy: 0.8865 - val_sphere_out_loss: 0.7396 - val_stress_out_accuracy: 0.8632 - val_stress_out_loss: 0.7470\n",
            "Epoch 5/30\n",
            "\u001b[1m387/387\u001b[0m \u001b[32m━━━━━━━━━━━━━━━━━━━━\u001b[0m\u001b[37m\u001b[0m \u001b[1m2s\u001b[0m 3ms/step - loss: 2.2470 - mdd_out_accuracy: 0.5808 - mdd_out_loss: 0.8136 - sphere_out_accuracy: 0.9106 - sphere_out_loss: 0.6508 - stress_out_accuracy: 0.6793 - stress_out_loss: 0.7825 - val_loss: 1.9846 - val_mdd_out_accuracy: 0.6550 - val_mdd_out_loss: 0.7748 - val_sphere_out_accuracy: 0.8865 - val_sphere_out_loss: 0.5491 - val_stress_out_accuracy: 0.8180 - val_stress_out_loss: 0.6598\n",
            "Epoch 6/30\n",
            "\u001b[1m387/387\u001b[0m \u001b[32m━━━━━━━━━━━━━━━━━━━━\u001b[0m\u001b[37m\u001b[0m \u001b[1m1s\u001b[0m 3ms/step - loss: 1.9932 - mdd_out_accuracy: 0.5784 - mdd_out_loss: 0.7594 - sphere_out_accuracy: 0.9068 - sphere_out_loss: 0.5058 - stress_out_accuracy: 0.6850 - stress_out_loss: 0.7280 - val_loss: 1.7790 - val_mdd_out_accuracy: 0.6521 - val_mdd_out_loss: 0.7351 - val_sphere_out_accuracy: 0.9141 - val_sphere_out_loss: 0.4302 - val_stress_out_accuracy: 0.8151 - val_stress_out_loss: 0.6129\n",
            "Epoch 7/30\n",
            "\u001b[1m387/387\u001b[0m \u001b[32m━━━━━━━━━━━━━━━━━━━━\u001b[0m\u001b[37m\u001b[0m \u001b[1m1s\u001b[0m 2ms/step - loss: 1.8225 - mdd_out_accuracy: 0.5696 - mdd_out_loss: 0.7310 - sphere_out_accuracy: 0.9206 - sphere_out_loss: 0.4008 - stress_out_accuracy: 0.6804 - stress_out_loss: 0.6908 - val_loss: 1.6561 - val_mdd_out_accuracy: 0.6521 - val_mdd_out_loss: 0.7218 - val_sphere_out_accuracy: 0.9214 - val_sphere_out_loss: 0.3478 - val_stress_out_accuracy: 0.8151 - val_stress_out_loss: 0.5858\n",
            "Epoch 8/30\n",
            "\u001b[1m387/387\u001b[0m \u001b[32m━━━━━━━━━━━━━━━━━━━━\u001b[0m\u001b[37m\u001b[0m \u001b[1m1s\u001b[0m 3ms/step - loss: 1.6883 - mdd_out_accuracy: 0.5899 - mdd_out_loss: 0.7059 - sphere_out_accuracy: 0.9369 - sphere_out_loss: 0.3147 - stress_out_accuracy: 0.6672 - stress_out_loss: 0.6678 - val_loss: 1.5690 - val_mdd_out_accuracy: 0.6521 - val_mdd_out_loss: 0.7090 - val_sphere_out_accuracy: 0.9374 - val_sphere_out_loss: 0.2874 - val_stress_out_accuracy: 0.8151 - val_stress_out_loss: 0.5720\n",
            "Epoch 9/30\n",
            "\u001b[1m387/387\u001b[0m \u001b[32m━━━━━━━━━━━━━━━━━━━━\u001b[0m\u001b[37m\u001b[0m \u001b[1m1s\u001b[0m 3ms/step - loss: 1.6218 - mdd_out_accuracy: 0.5817 - mdd_out_loss: 0.6924 - sphere_out_accuracy: 0.9530 - sphere_out_loss: 0.2775 - stress_out_accuracy: 0.6694 - stress_out_loss: 0.6519 - val_loss: 1.4921 - val_mdd_out_accuracy: 0.6521 - val_mdd_out_loss: 0.6932 - val_sphere_out_accuracy: 0.9782 - val_sphere_out_loss: 0.2417 - val_stress_out_accuracy: 0.8093 - val_stress_out_loss: 0.5567\n",
            "Epoch 10/30\n",
            "\u001b[1m387/387\u001b[0m \u001b[32m━━━━━━━━━━━━━━━━━━━━\u001b[0m\u001b[37m\u001b[0m \u001b[1m2s\u001b[0m 4ms/step - loss: 1.5468 - mdd_out_accuracy: 0.5936 - mdd_out_loss: 0.6723 - sphere_out_accuracy: 0.9782 - sphere_out_loss: 0.2386 - stress_out_accuracy: 0.6686 - stress_out_loss: 0.6359 - val_loss: 1.4304 - val_mdd_out_accuracy: 0.6972 - val_mdd_out_loss: 0.6822 - val_sphere_out_accuracy: 1.0000 - val_sphere_out_loss: 0.2082 - val_stress_out_accuracy: 0.8311 - val_stress_out_loss: 0.5396\n",
            "Epoch 11/30\n",
            "\u001b[1m387/387\u001b[0m \u001b[32m━━━━━━━━━━━━━━━━━━━━\u001b[0m\u001b[37m\u001b[0m \u001b[1m2s\u001b[0m 3ms/step - loss: 1.4704 - mdd_out_accuracy: 0.7112 - mdd_out_loss: 0.6485 - sphere_out_accuracy: 0.9861 - sphere_out_loss: 0.2114 - stress_out_accuracy: 0.7581 - stress_out_loss: 0.6106 - val_loss: 1.3505 - val_mdd_out_accuracy: 0.7860 - val_mdd_out_loss: 0.6435 - val_sphere_out_accuracy: 1.0000 - val_sphere_out_loss: 0.1897 - val_stress_out_accuracy: 0.8311 - val_stress_out_loss: 0.5169\n",
            "Epoch 12/30\n",
            "\u001b[1m387/387\u001b[0m \u001b[32m━━━━━━━━━━━━━━━━━━━━\u001b[0m\u001b[37m\u001b[0m \u001b[1m1s\u001b[0m 2ms/step - loss: 1.3839 - mdd_out_accuracy: 0.7867 - mdd_out_loss: 0.6068 - sphere_out_accuracy: 0.9843 - sphere_out_loss: 0.2040 - stress_out_accuracy: 0.7598 - stress_out_loss: 0.5732 - val_loss: 1.2804 - val_mdd_out_accuracy: 0.8195 - val_mdd_out_loss: 0.6097 - val_sphere_out_accuracy: 1.0000 - val_sphere_out_loss: 0.1874 - val_stress_out_accuracy: 0.8311 - val_stress_out_loss: 0.4831\n",
            "Epoch 13/30\n",
            "\u001b[1m387/387\u001b[0m \u001b[32m━━━━━━━━━━━━━━━━━━━━\u001b[0m\u001b[37m\u001b[0m \u001b[1m1s\u001b[0m 2ms/step - loss: 1.2603 - mdd_out_accuracy: 0.8154 - mdd_out_loss: 0.5438 - sphere_out_accuracy: 0.9862 - sphere_out_loss: 0.2001 - stress_out_accuracy: 0.7929 - stress_out_loss: 0.5165 - val_loss: 1.2075 - val_mdd_out_accuracy: 0.8195 - val_mdd_out_loss: 0.5559 - val_sphere_out_accuracy: 1.0000 - val_sphere_out_loss: 0.1896 - val_stress_out_accuracy: 0.9127 - val_stress_out_loss: 0.4619\n",
            "Epoch 14/30\n",
            "\u001b[1m387/387\u001b[0m \u001b[32m━━━━━━━━━━━━━━━━━━━━\u001b[0m\u001b[37m\u001b[0m \u001b[1m1s\u001b[0m 2ms/step - loss: 1.1691 - mdd_out_accuracy: 0.8147 - mdd_out_loss: 0.4938 - sphere_out_accuracy: 0.9824 - sphere_out_loss: 0.2048 - stress_out_accuracy: 0.8273 - stress_out_loss: 0.4706 - val_loss: 1.1424 - val_mdd_out_accuracy: 0.8195 - val_mdd_out_loss: 0.5213 - val_sphere_out_accuracy: 1.0000 - val_sphere_out_loss: 0.1782 - val_stress_out_accuracy: 0.9127 - val_stress_out_loss: 0.4429\n",
            "Epoch 15/30\n",
            "\u001b[1m387/387\u001b[0m \u001b[32m━━━━━━━━━━━━━━━━━━━━\u001b[0m\u001b[37m\u001b[0m \u001b[1m1s\u001b[0m 2ms/step - loss: 1.0968 - mdd_out_accuracy: 0.8045 - mdd_out_loss: 0.4623 - sphere_out_accuracy: 0.9823 - sphere_out_loss: 0.1926 - stress_out_accuracy: 0.8226 - stress_out_loss: 0.4419 - val_loss: 1.0830 - val_mdd_out_accuracy: 0.8195 - val_mdd_out_loss: 0.4924 - val_sphere_out_accuracy: 1.0000 - val_sphere_out_loss: 0.1593 - val_stress_out_accuracy: 0.8996 - val_stress_out_loss: 0.4313\n",
            "Epoch 16/30\n",
            "\u001b[1m387/387\u001b[0m \u001b[32m━━━━━━━━━━━━━━━━━━━━\u001b[0m\u001b[37m\u001b[0m \u001b[1m1s\u001b[0m 2ms/step - loss: 1.0258 - mdd_out_accuracy: 0.8067 - mdd_out_loss: 0.4397 - sphere_out_accuracy: 0.9844 - sphere_out_loss: 0.1637 - stress_out_accuracy: 0.8196 - stress_out_loss: 0.4223 - val_loss: 1.0172 - val_mdd_out_accuracy: 0.8195 - val_mdd_out_loss: 0.4662 - val_sphere_out_accuracy: 1.0000 - val_sphere_out_loss: 0.1406 - val_stress_out_accuracy: 0.9156 - val_stress_out_loss: 0.4104\n",
            "Epoch 17/30\n",
            "\u001b[1m387/387\u001b[0m \u001b[32m━━━━━━━━━━━━━━━━━━━━\u001b[0m\u001b[37m\u001b[0m \u001b[1m1s\u001b[0m 2ms/step - loss: 0.9781 - mdd_out_accuracy: 0.8010 - mdd_out_loss: 0.4240 - sphere_out_accuracy: 0.9858 - sphere_out_loss: 0.1432 - stress_out_accuracy: 0.8182 - stress_out_loss: 0.4109 - val_loss: 0.9645 - val_mdd_out_accuracy: 0.8195 - val_mdd_out_loss: 0.4418 - val_sphere_out_accuracy: 1.0000 - val_sphere_out_loss: 0.1240 - val_stress_out_accuracy: 0.9156 - val_stress_out_loss: 0.3988\n",
            "Epoch 18/30\n",
            "\u001b[1m387/387\u001b[0m \u001b[32m━━━━━━━━━━━━━━━━━━━━\u001b[0m\u001b[37m\u001b[0m \u001b[1m1s\u001b[0m 2ms/step - loss: 0.9318 - mdd_out_accuracy: 0.8090 - mdd_out_loss: 0.4090 - sphere_out_accuracy: 0.9857 - sphere_out_loss: 0.1276 - stress_out_accuracy: 0.8277 - stress_out_loss: 0.3953 - val_loss: 0.9455 - val_mdd_out_accuracy: 0.8166 - val_mdd_out_loss: 0.4356 - val_sphere_out_accuracy: 1.0000 - val_sphere_out_loss: 0.1101 - val_stress_out_accuracy: 0.9025 - val_stress_out_loss: 0.3999\n",
            "Epoch 19/30\n",
            "\u001b[1m387/387\u001b[0m \u001b[32m━━━━━━━━━━━━━━━━━━━━\u001b[0m\u001b[37m\u001b[0m \u001b[1m2s\u001b[0m 3ms/step - loss: 0.8984 - mdd_out_accuracy: 0.8076 - mdd_out_loss: 0.3966 - sphere_out_accuracy: 0.9863 - sphere_out_loss: 0.1166 - stress_out_accuracy: 0.8285 - stress_out_loss: 0.3852 - val_loss: 0.9183 - val_mdd_out_accuracy: 0.8384 - val_mdd_out_loss: 0.4214 - val_sphere_out_accuracy: 1.0000 - val_sphere_out_loss: 0.0971 - val_stress_out_accuracy: 0.9025 - val_stress_out_loss: 0.3999\n",
            "Epoch 20/30\n",
            "\u001b[1m387/387\u001b[0m \u001b[32m━━━━━━━━━━━━━━━━━━━━\u001b[0m\u001b[37m\u001b[0m \u001b[1m2s\u001b[0m 5ms/step - loss: 0.8739 - mdd_out_accuracy: 0.8181 - mdd_out_loss: 0.3855 - sphere_out_accuracy: 0.9861 - sphere_out_loss: 0.1100 - stress_out_accuracy: 0.8297 - stress_out_loss: 0.3784 - val_loss: 0.9030 - val_mdd_out_accuracy: 0.9156 - val_mdd_out_loss: 0.4152 - val_sphere_out_accuracy: 1.0000 - val_sphere_out_loss: 0.0863 - val_stress_out_accuracy: 0.9025 - val_stress_out_loss: 0.4016\n",
            "Epoch 21/30\n",
            "\u001b[1m387/387\u001b[0m \u001b[32m━━━━━━━━━━━━━━━━━━━━\u001b[0m\u001b[37m\u001b[0m \u001b[1m2s\u001b[0m 2ms/step - loss: 0.8593 - mdd_out_accuracy: 0.8068 - mdd_out_loss: 0.3848 - sphere_out_accuracy: 0.9879 - sphere_out_loss: 0.0958 - stress_out_accuracy: 0.8175 - stress_out_loss: 0.3787 - val_loss: 0.8673 - val_mdd_out_accuracy: 0.9156 - val_mdd_out_loss: 0.4000 - val_sphere_out_accuracy: 1.0000 - val_sphere_out_loss: 0.0763 - val_stress_out_accuracy: 0.9025 - val_stress_out_loss: 0.3911\n",
            "Epoch 22/30\n",
            "\u001b[1m387/387\u001b[0m \u001b[32m━━━━━━━━━━━━━━━━━━━━\u001b[0m\u001b[37m\u001b[0m \u001b[1m1s\u001b[0m 3ms/step - loss: 0.8419 - mdd_out_accuracy: 0.8155 - mdd_out_loss: 0.3796 - sphere_out_accuracy: 0.9889 - sphere_out_loss: 0.0884 - stress_out_accuracy: 0.8215 - stress_out_loss: 0.3738 - val_loss: 0.8409 - val_mdd_out_accuracy: 0.9156 - val_mdd_out_loss: 0.3986 - val_sphere_out_accuracy: 1.0000 - val_sphere_out_loss: 0.0668 - val_stress_out_accuracy: 0.9025 - val_stress_out_loss: 0.3755\n",
            "Epoch 23/30\n",
            "\u001b[1m387/387\u001b[0m \u001b[32m━━━━━━━━━━━━━━━━━━━━\u001b[0m\u001b[37m\u001b[0m \u001b[1m1s\u001b[0m 3ms/step - loss: 0.8374 - mdd_out_accuracy: 0.8151 - mdd_out_loss: 0.3800 - sphere_out_accuracy: 0.9932 - sphere_out_loss: 0.0844 - stress_out_accuracy: 0.8230 - stress_out_loss: 0.3729 - val_loss: 0.8400 - val_mdd_out_accuracy: 0.9068 - val_mdd_out_loss: 0.4012 - val_sphere_out_accuracy: 1.0000 - val_sphere_out_loss: 0.0597 - val_stress_out_accuracy: 0.9025 - val_stress_out_loss: 0.3791\n",
            "Epoch 24/30\n",
            "\u001b[1m387/387\u001b[0m \u001b[32m━━━━━━━━━━━━━━━━━━━━\u001b[0m\u001b[37m\u001b[0m \u001b[1m1s\u001b[0m 2ms/step - loss: 0.8072 - mdd_out_accuracy: 0.8197 - mdd_out_loss: 0.3717 - sphere_out_accuracy: 0.9936 - sphere_out_loss: 0.0712 - stress_out_accuracy: 0.8255 - stress_out_loss: 0.3643 - val_loss: 0.8273 - val_mdd_out_accuracy: 0.9068 - val_mdd_out_loss: 0.3906 - val_sphere_out_accuracy: 1.0000 - val_sphere_out_loss: 0.0540 - val_stress_out_accuracy: 0.9025 - val_stress_out_loss: 0.3829\n",
            "Epoch 25/30\n",
            "\u001b[1m387/387\u001b[0m \u001b[32m━━━━━━━━━━━━━━━━━━━━\u001b[0m\u001b[37m\u001b[0m \u001b[1m1s\u001b[0m 2ms/step - loss: 0.7843 - mdd_out_accuracy: 0.8264 - mdd_out_loss: 0.3590 - sphere_out_accuracy: 0.9921 - sphere_out_loss: 0.0664 - stress_out_accuracy: 0.8259 - stress_out_loss: 0.3589 - val_loss: 0.8082 - val_mdd_out_accuracy: 0.9156 - val_mdd_out_loss: 0.3783 - val_sphere_out_accuracy: 1.0000 - val_sphere_out_loss: 0.0484 - val_stress_out_accuracy: 0.9025 - val_stress_out_loss: 0.3816\n",
            "Epoch 26/30\n",
            "\u001b[1m387/387\u001b[0m \u001b[32m━━━━━━━━━━━━━━━━━━━━\u001b[0m\u001b[37m\u001b[0m \u001b[1m1s\u001b[0m 2ms/step - loss: 0.7858 - mdd_out_accuracy: 0.8216 - mdd_out_loss: 0.3631 - sphere_out_accuracy: 0.9981 - sphere_out_loss: 0.0570 - stress_out_accuracy: 0.8186 - stress_out_loss: 0.3657 - val_loss: 0.7900 - val_mdd_out_accuracy: 0.9098 - val_mdd_out_loss: 0.3780 - val_sphere_out_accuracy: 1.0000 - val_sphere_out_loss: 0.0430 - val_stress_out_accuracy: 0.9025 - val_stress_out_loss: 0.3691\n",
            "Epoch 27/30\n",
            "\u001b[1m387/387\u001b[0m \u001b[32m━━━━━━━━━━━━━━━━━━━━\u001b[0m\u001b[37m\u001b[0m \u001b[1m1s\u001b[0m 2ms/step - loss: 0.7514 - mdd_out_accuracy: 0.8279 - mdd_out_loss: 0.3497 - sphere_out_accuracy: 0.9957 - sphere_out_loss: 0.0548 - stress_out_accuracy: 0.8277 - stress_out_loss: 0.3469 - val_loss: 0.7956 - val_mdd_out_accuracy: 0.9068 - val_mdd_out_loss: 0.3872 - val_sphere_out_accuracy: 1.0000 - val_sphere_out_loss: 0.0385 - val_stress_out_accuracy: 0.9025 - val_stress_out_loss: 0.3700\n",
            "Epoch 28/30\n",
            "\u001b[1m387/387\u001b[0m \u001b[32m━━━━━━━━━━━━━━━━━━━━\u001b[0m\u001b[37m\u001b[0m \u001b[1m1s\u001b[0m 3ms/step - loss: 0.7654 - mdd_out_accuracy: 0.8167 - mdd_out_loss: 0.3601 - sphere_out_accuracy: 0.9962 - sphere_out_loss: 0.0502 - stress_out_accuracy: 0.8196 - stress_out_loss: 0.3552 - val_loss: 0.7981 - val_mdd_out_accuracy: 0.9068 - val_mdd_out_loss: 0.3879 - val_sphere_out_accuracy: 1.0000 - val_sphere_out_loss: 0.0349 - val_stress_out_accuracy: 0.9025 - val_stress_out_loss: 0.3754\n"
          ]
        },
        {
          "output_type": "execute_result",
          "data": {
            "text/plain": [
              "<keras.src.callbacks.history.History at 0x78e2e5b7a150>"
            ]
          },
          "metadata": {},
          "execution_count": 31
        }
      ]
    },
    {
      "cell_type": "code",
      "source": [
        "sphere_pred, mdd_pred, stress_pred = multi_fusion.predict(X_meta_new)\n",
        "\n",
        "sphere_lbl = sphere_pred.argmax(axis=1)\n",
        "mdd_lbl    = mdd_pred.argmax(axis=1)\n",
        "stress_lbl = stress_pred.argmax(axis=1)"
      ],
      "metadata": {
        "colab": {
          "base_uri": "https://localhost:8080/"
        },
        "id": "UDfzLVZ-BOGn",
        "outputId": "37c6564e-a473-403d-d346-6760fa613213"
      },
      "execution_count": 32,
      "outputs": [
        {
          "output_type": "stream",
          "name": "stdout",
          "text": [
            "\u001b[1m215/215\u001b[0m \u001b[32m━━━━━━━━━━━━━━━━━━━━\u001b[0m\u001b[37m\u001b[0m \u001b[1m0s\u001b[0m 1ms/step\n"
          ]
        }
      ]
    },
    {
      "cell_type": "code",
      "source": [
        "multi_fusion.save('/content/Multi-Output_Attention_Fusion_2.h5')"
      ],
      "metadata": {
        "colab": {
          "base_uri": "https://localhost:8080/"
        },
        "id": "qF23wPiBD8gf",
        "outputId": "3dc1313f-1e20-489d-e57f-7bfb106f0e35"
      },
      "execution_count": 33,
      "outputs": [
        {
          "output_type": "stream",
          "name": "stderr",
          "text": [
            "WARNING:absl:You are saving your model as an HDF5 file via `model.save()` or `keras.saving.save_model(model)`. This file format is considered legacy. We recommend using instead the native Keras format, e.g. `model.save('my_model.keras')` or `keras.saving.save_model(model, 'my_model.keras')`. \n"
          ]
        }
      ]
    },
    {
      "cell_type": "code",
      "source": [
        "multi_fusion.save('/content/Multi-Output_Attention_Fusion_2.keras')"
      ],
      "metadata": {
        "id": "_3HdKXbjEGMe"
      },
      "execution_count": 34,
      "outputs": []
    },
    {
      "cell_type": "markdown",
      "source": [
        "# **Fusion Testing**\n",
        "\n"
      ],
      "metadata": {
        "id": "Wbn5pQZ7Eb23"
      }
    },
    {
      "cell_type": "code",
      "source": [
        "import tensorflow.keras.backend as K\n",
        "import keras\n",
        "from tensorflow.keras.models import load_model\n",
        "from tensorflow.keras.saving import custom_object_scope\n",
        "\n",
        "# Redefine the functions exactly as during training\n",
        "@keras.saving.register_keras_serializable()\n",
        "def squeeze_fn(x):\n",
        "    return K.squeeze(x, axis=-1)\n",
        "\n",
        "@keras.saving.register_keras_serializable()\n",
        "def expand_fn(x):\n",
        "    return K.expand_dims(x, axis=-1)\n",
        "\n",
        "@keras.saving.register_keras_serializable()\n",
        "def fused_fn(x):\n",
        "    return K.sum(x, axis=1)\n",
        "\n",
        "with custom_object_scope({\n",
        "    'squeeze_fn': squeeze_fn,\n",
        "    'expand_fn': expand_fn,\n",
        "    'fused_fn': fused_fn\n",
        "}):\n",
        "    fusion = load_model('/content/Multi-Output_Attention_Fusion_2.h5', compile=False)"
      ],
      "metadata": {
        "id": "eBtY_VC0EqDK"
      },
      "execution_count": 35,
      "outputs": []
    },
    {
      "cell_type": "code",
      "source": [
        "meta_probs = fusion.predict(X_meta_new)\n",
        "out_sphere, out_mdd, out_stress = meta_probs  # depending on model outputs"
      ],
      "metadata": {
        "colab": {
          "base_uri": "https://localhost:8080/"
        },
        "id": "wnDB6zsaFlz9",
        "outputId": "25222c0a-e7d2-4c4e-c1d0-3b4e95f9a826"
      },
      "execution_count": 36,
      "outputs": [
        {
          "output_type": "stream",
          "name": "stdout",
          "text": [
            "\u001b[1m215/215\u001b[0m \u001b[32m━━━━━━━━━━━━━━━━━━━━\u001b[0m\u001b[37m\u001b[0m \u001b[1m0s\u001b[0m 1ms/step\n"
          ]
        }
      ]
    },
    {
      "cell_type": "code",
      "source": [
        "df_test = pd.read_csv('/content/drive/MyDrive/Synthetic Datasets/Fused_With_Labels 2.csv')\n",
        "sample = df.sample(n=1, random_state=42).reset_index(drop=True)\n",
        "\n",
        "def slice_input(df, start, ts, feat):\n",
        "    arr = df.iloc[:, start : start + ts * feat].values\n",
        "    return arr.reshape(-1, ts, feat)\n",
        "\n",
        "X1 = slice_input(df_test, start=0,   ts=30, feat=4)\n",
        "X2 = slice_input(df_test, start=120, ts=10, feat=48)\n",
        "X3 = slice_input(df_test, start=600, ts=20, feat=23)\n",
        "\n",
        "# Load your three base models (if not already loaded)\n",
        "model1 = load_model('/content/drive/MyDrive/Thesis Models/mdd_lstm.h5', compile=False)\n",
        "model2 = load_model('/content/drive/MyDrive/Thesis Models/lstm_stress_dryad_model.h5', compile=False)\n",
        "model3 = load_model('/content/drive/MyDrive/Thesis Models/rnn_model.h5', compile=False)\n",
        "\n",
        "P1 = model1.predict(X1)\n",
        "P2 = model2.predict(X2)\n",
        "P3 = model3.predict(X3)\n",
        "\n",
        "# Ensure all have the same class dimension\n",
        "maxC = max(P1.shape[1], P2.shape[1], P3.shape[1])\n",
        "def pad(arr, target):\n",
        "    return arr if arr.shape[1] == target else np.pad(arr, ((0,0),(0,target-arr.shape[1])))\n",
        "P1, P2, P3 = pad(P1, maxC), pad(P2, maxC), pad(P3, maxC)\n",
        "\n",
        "X_meta = np.stack([P1, P2, P3], axis=1)"
      ],
      "metadata": {
        "colab": {
          "base_uri": "https://localhost:8080/"
        },
        "id": "rkiyTzS0F5go",
        "outputId": "81668d05-40db-42b1-c5c1-0b01091f16f2"
      },
      "execution_count": 37,
      "outputs": [
        {
          "output_type": "stream",
          "name": "stdout",
          "text": [
            "\u001b[1m215/215\u001b[0m \u001b[32m━━━━━━━━━━━━━━━━━━━━\u001b[0m\u001b[37m\u001b[0m \u001b[1m3s\u001b[0m 11ms/step\n",
            "\u001b[1m215/215\u001b[0m \u001b[32m━━━━━━━━━━━━━━━━━━━━\u001b[0m\u001b[37m\u001b[0m \u001b[1m2s\u001b[0m 6ms/step\n",
            "\u001b[1m215/215\u001b[0m \u001b[32m━━━━━━━━━━━━━━━━━━━━\u001b[0m\u001b[37m\u001b[0m \u001b[1m2s\u001b[0m 9ms/step\n"
          ]
        }
      ]
    },
    {
      "cell_type": "code",
      "source": [
        "out_sphere, out_mdd, out_stress = fusion.predict(X_meta)\n",
        "pred_sphere = np.argmax(out_sphere, axis=1)\n",
        "pred_mdd    = np.argmax(out_mdd, axis=1)\n",
        "pred_str    = np.argmax(out_stress, axis=1)"
      ],
      "metadata": {
        "colab": {
          "base_uri": "https://localhost:8080/"
        },
        "id": "s_0W32mUGH3R",
        "outputId": "7a8e59dc-95cd-4299-e9ef-de60653bd22f"
      },
      "execution_count": 38,
      "outputs": [
        {
          "output_type": "stream",
          "name": "stdout",
          "text": [
            "\u001b[1m215/215\u001b[0m \u001b[32m━━━━━━━━━━━━━━━━━━━━\u001b[0m\u001b[37m\u001b[0m \u001b[1m0s\u001b[0m 994us/step\n"
          ]
        }
      ]
    },
    {
      "cell_type": "code",
      "source": [
        "act_s   = sample['Actual_sphere'].values[0]\n",
        "act_m   = sample['Actual_mdd'].values[0]\n",
        "act_str = sample['Actual_Stress'].values[0]"
      ],
      "metadata": {
        "id": "u5oFXN4VHWsq"
      },
      "execution_count": 39,
      "outputs": []
    },
    {
      "cell_type": "code",
      "source": [
        "print(\"✅ Sample index:\", sample.index[0])\n",
        "print(\"Actual labels:    SPHERE =\", act_s, \" | MDD =\", act_m, \" | STRESS =\", act_str)\n",
        "print(\"Predicted labels: SPHERE =\", np.argmax(out_sphere, axis = 1)[0], \" | MDD =\", np.argmax(out_mdd, axis = 1)[0], \" | STRESS =\", np.argmax(out_stress, axis = 1)[0])"
      ],
      "metadata": {
        "colab": {
          "base_uri": "https://localhost:8080/"
        },
        "id": "s-3Yk6zRIQnj",
        "outputId": "6479ef96-0c82-4445-a0aa-855d97c38a2e"
      },
      "execution_count": 40,
      "outputs": [
        {
          "output_type": "stream",
          "name": "stdout",
          "text": [
            "✅ Sample index: 0\n",
            "Actual labels:    SPHERE = 10  | MDD = 1  | STRESS = 1.0\n",
            "Predicted labels: SPHERE = 4  | MDD = 0  | STRESS = 0\n"
          ]
        }
      ]
    },
    {
      "cell_type": "code",
      "source": [
        "from sklearn.metrics import accuracy_score, classification_report\n",
        "\n",
        "# Replace with your actual test label columns\n",
        "y_true_sphere = df_test['Actual_sphere'].astype(int).values\n",
        "y_true_mdd    = df_test['Actual_mdd'].astype(int).values\n",
        "y_true_str    = df_test['Actual_Stress'].astype(int).values\n",
        "\n",
        "print(\"Fusion Model Report:\\n\", classification_report(y_true_sphere, pred_sphere))"
      ],
      "metadata": {
        "colab": {
          "base_uri": "https://localhost:8080/"
        },
        "id": "8p4mCjp_GKwb",
        "outputId": "deb5e5f2-923f-4c7a-cf73-9c44ba54e2ff"
      },
      "execution_count": 41,
      "outputs": [
        {
          "output_type": "stream",
          "name": "stdout",
          "text": [
            "Fusion Model Report:\n",
            "               precision    recall  f1-score   support\n",
            "\n",
            "           0       1.00      0.11      0.20        36\n",
            "           1       0.55      0.90      0.69        52\n",
            "           2       0.07      0.50      0.12        14\n",
            "           4       0.89      0.75      0.81       696\n",
            "           5       0.83      0.74      0.79       210\n",
            "           6       0.96      0.51      0.67       107\n",
            "           7       0.90      0.95      0.92       568\n",
            "           8       0.94      0.98      0.96      1449\n",
            "           9       1.00      1.00      1.00        37\n",
            "          10       0.85      0.97      0.91      3021\n",
            "          11       1.00      0.20      0.34        54\n",
            "          12       1.00      0.11      0.21        35\n",
            "          13       0.90      0.16      0.27        57\n",
            "          14       0.83      0.56      0.67        61\n",
            "          15       0.91      0.51      0.66        41\n",
            "          16       0.71      0.34      0.46        35\n",
            "          17       0.67      0.38      0.48        53\n",
            "          18       0.69      0.37      0.48        49\n",
            "          19       0.79      0.19      0.30       293\n",
            "\n",
            "    accuracy                           0.86      6868\n",
            "   macro avg       0.81      0.54      0.57      6868\n",
            "weighted avg       0.87      0.86      0.84      6868\n",
            "\n"
          ]
        }
      ]
    },
    {
      "cell_type": "markdown",
      "source": [
        "# **Large Sample Testing**"
      ],
      "metadata": {
        "id": "j8D1SUxbSChM"
      }
    },
    {
      "cell_type": "code",
      "source": [
        "import pandas as pd\n",
        "import numpy as np\n",
        "import tensorflow.keras.backend as K\n",
        "import keras\n",
        "from tensorflow.keras.models import load_model\n",
        "from tensorflow.keras.saving import custom_object_scope"
      ],
      "metadata": {
        "id": "g-OiZ11SP-8T"
      },
      "execution_count": 42,
      "outputs": []
    },
    {
      "cell_type": "code",
      "source": [
        "@keras.saving.register_keras_serializable()\n",
        "def squeeze_fn(x): return K.squeeze(x, axis=-1)\n",
        "\n",
        "@keras.saving.register_keras_serializable()\n",
        "def expand_fn(x): return K.expand_dims(x, axis=-1)\n",
        "\n",
        "@keras.saving.register_keras_serializable()\n",
        "def fused_fn(x): return K.sum(x, axis=1)\n",
        "\n",
        "with custom_object_scope({\n",
        "    'squeeze_fn': squeeze_fn,\n",
        "    'expand_fn': expand_fn,\n",
        "    'fused_fn': fused_fn\n",
        "}):\n",
        "    fusion = load_model('/content/Multi-Output_Attention_Fusion_2.h5', compile=False)"
      ],
      "metadata": {
        "id": "hlEla-tLQG5c"
      },
      "execution_count": 43,
      "outputs": []
    },
    {
      "cell_type": "code",
      "source": [
        "model1 = load_model('/content/drive/MyDrive/Thesis Models/mdd_lstm.h5', compile=False)\n",
        "model2 = load_model('/content/drive/MyDrive/Thesis Models/lstm_stress_dryad_model.h5', compile=False)\n",
        "model3 = load_model('/content/drive/MyDrive/Thesis Models/rnn_model.h5', compile=False)"
      ],
      "metadata": {
        "id": "UZCZUKi-QL3v"
      },
      "execution_count": 44,
      "outputs": []
    },
    {
      "cell_type": "code",
      "source": [
        "df = pd.read_csv('/content/drive/MyDrive/Synthetic Datasets/Fused_With_Labels 2.csv')\n",
        "sample = df.sample(n=300).reset_index(drop=True)\n",
        "\n",
        "# Calculate Overall_Stress for the sampled data\n",
        "sample['Overall_Stress'] = ((sample['Actual_mdd'] + sample['Actual_Stress']) / 2 >= 0.5).astype(int)"
      ],
      "metadata": {
        "id": "SZakbXlgQJtG"
      },
      "execution_count": 53,
      "outputs": []
    },
    {
      "cell_type": "code",
      "source": [
        "def slice_input(df, start, ts, feat):\n",
        "    arr = df.iloc[:, start:start + ts*feat].values\n",
        "    return arr.reshape(-1, ts, feat)\n",
        "\n",
        "X1 = slice_input(sample, 0,   30, 4)\n",
        "X2 = slice_input(sample, 120, 10, 48)\n",
        "X3 = slice_input(sample, 600, 20, 23)\n",
        "\n",
        "# ---- 3. Predict sub-models ----\n",
        "P1 = model1.predict(X1, batch_size=32, verbose=0)\n",
        "P2 = model2.predict(X2, batch_size=32, verbose=0)\n",
        "P3 = model3.predict(X3, batch_size=32, verbose=0)\n",
        "\n",
        "# ---- 4. Align class dims and create meta tensor ----\n",
        "maxC = max(P1.shape[1], P2.shape[1], P3.shape[1])\n",
        "def pad(arr): return arr if arr.shape[1]==maxC else np.pad(arr, ((0,0),(0, maxC-arr.shape[1])))\n",
        "P1, P2, P3 = pad(P1), pad(P2), pad(P3)\n",
        "X_meta = np.stack([P1, P2, P3], axis=1)\n",
        "out_sphere, out_mdd, out_stress = fusion.predict(X_meta, batch_size=32, verbose=0)\n",
        "pred_s = np.argmax(out_sphere, axis=1)\n",
        "pred_m = np.argmax(out_mdd, axis=1)\n",
        "pred_t = np.argmax(out_stress, axis=1)\n",
        "\n",
        "# ---- 6. Extract actual labels ----\n",
        "act_s = sample['Actual_sphere'].astype(int).values\n",
        "act_m = sample['Actual_mdd'].astype(int).values\n",
        "act_t = sample['Actual_Stress'].astype(int).values"
      ],
      "metadata": {
        "id": "HwWDVI59QPz-"
      },
      "execution_count": 54,
      "outputs": []
    },
    {
      "cell_type": "code",
      "source": [
        "results = sample.copy().loc[:, :]  # include all original columns\n",
        "results = results.assign(\n",
        "    sphere_actual   = act_s,\n",
        "    mdd_actual      = act_m,\n",
        "    stress_actual   = act_t,\n",
        "    sphere_pred     = pred_s,\n",
        "    mdd_pred        = pred_m,\n",
        "    stress_pred     = pred_t,\n",
        "    Overall_Stress  = sample['Overall_Stress'].values # Include the calculated Overall_Stress\n",
        ")"
      ],
      "metadata": {
        "id": "yAWYz90WQXFD"
      },
      "execution_count": 55,
      "outputs": []
    },
    {
      "cell_type": "code",
      "source": [
        "output_path = '/content/Fusion_Stress_300_Final.csv'\n",
        "results.to_csv(output_path, index=False)\n",
        "print(f\"✅ Saved 100‑sample results to:\\n  {output_path}\")"
      ],
      "metadata": {
        "colab": {
          "base_uri": "https://localhost:8080/"
        },
        "id": "PlrTnR7hQku8",
        "outputId": "c436ba95-2361-48d7-bfec-cd773ffef9ab"
      },
      "execution_count": 56,
      "outputs": [
        {
          "output_type": "stream",
          "name": "stdout",
          "text": [
            "✅ Saved 100‑sample results to:\n",
            "  /content/Fusion_Stress_300_Final.csv\n"
          ]
        }
      ]
    },
    {
      "cell_type": "markdown",
      "source": [
        "# **OVERALL STRESS**"
      ],
      "metadata": {
        "id": "3m6G-0zhV8cI"
      }
    },
    {
      "cell_type": "code",
      "source": [
        "df = pd.read_csv('/content/drive/MyDrive/Synthetic Datasets/Fused_With_Labels 2.csv')\n",
        "df['Overall_Stress'] = ((df['Actual_mdd'] + df['Actual_Stress']) / 2 >= 0.5).astype(int)"
      ],
      "metadata": {
        "id": "QawGkNacUg85"
      },
      "execution_count": 57,
      "outputs": []
    },
    {
      "cell_type": "code",
      "source": [
        "import pandas as pd\n",
        "from sklearn.metrics import classification_report\n",
        "\n",
        "# Load your results (with predicted MDD and Stress and Actual Overall Stress)\n",
        "df = pd.read_csv('/content/Fusion_Stress_300_Final.csv')\n",
        "\n",
        "# Compute predicted overall stress:\n",
        "# If the average of Predicted_mdd and Predicted_Stress is ≥ 0.5 → 1, else 0\n",
        "df['Predicted Overall Stress'] = (\n",
        "    ((df['mdd_pred'] + df['stress_pred']) / 2) >= 0.5\n",
        ").astype(int)\n",
        "\n",
        "# If you also have the actual overall-stress labels:\n",
        "print(\"Classification report for Overall Stress:\")\n",
        "print(classification_report(df['Overall_Stress'], df['Predicted Overall Stress']))\n",
        "\n",
        "# Save updated CSV\n",
        "df.to_csv('/content/drive/MyDrive/Synthetic Data/Fusion_With_OverallStress.csv', index=False)\n",
        "print(\"✅ Updated CSV saved with 'Predicted Overall Stress'.\")"
      ],
      "metadata": {
        "colab": {
          "base_uri": "https://localhost:8080/"
        },
        "id": "B_6nlejOWICu",
        "outputId": "aec6f589-f772-493b-e289-33e51cc6e395"
      },
      "execution_count": 58,
      "outputs": [
        {
          "output_type": "stream",
          "name": "stdout",
          "text": [
            "Classification report for Overall Stress:\n",
            "              precision    recall  f1-score   support\n",
            "\n",
            "           0       0.67      0.23      0.35        60\n",
            "           1       0.84      0.97      0.90       240\n",
            "\n",
            "    accuracy                           0.82       300\n",
            "   macro avg       0.75      0.60      0.62       300\n",
            "weighted avg       0.80      0.82      0.79       300\n",
            "\n",
            "✅ Updated CSV saved with 'Predicted Overall Stress'.\n"
          ]
        }
      ]
    },
    {
      "cell_type": "code",
      "source": [],
      "metadata": {
        "id": "Z84RrblRbrTq"
      },
      "execution_count": null,
      "outputs": []
    }
  ]
}